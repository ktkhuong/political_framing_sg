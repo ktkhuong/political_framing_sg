{
 "cells": [
  {
   "cell_type": "code",
   "execution_count": 1,
   "id": "655cb931-66e5-4317-924b-74bb7af097db",
   "metadata": {},
   "outputs": [],
   "source": [
    "import numpy as np\n",
    "import matplotlib.pyplot as plt\n",
    "import pandas as pd\n",
    "import re"
   ]
  },
  {
   "cell_type": "code",
   "execution_count": 2,
   "id": "74e63eef-e54c-433a-9e0b-b1ba1c0ab706",
   "metadata": {},
   "outputs": [],
   "source": [
    "DATASET_PATH = \"parliament_13.csv\""
   ]
  },
  {
   "cell_type": "code",
   "execution_count": 3,
   "id": "3d550c9a-9737-47bb-8abb-095d166edbc6",
   "metadata": {},
   "outputs": [
    {
     "data": {
      "text/html": [
       "<div>\n",
       "<style scoped>\n",
       "    .dataframe tbody tr th:only-of-type {\n",
       "        vertical-align: middle;\n",
       "    }\n",
       "\n",
       "    .dataframe tbody tr th {\n",
       "        vertical-align: top;\n",
       "    }\n",
       "\n",
       "    .dataframe thead th {\n",
       "        text-align: right;\n",
       "    }\n",
       "</style>\n",
       "<table border=\"1\" class=\"dataframe\">\n",
       "  <thead>\n",
       "    <tr style=\"text-align: right;\">\n",
       "      <th></th>\n",
       "      <th>section</th>\n",
       "      <th>date</th>\n",
       "      <th>topic</th>\n",
       "      <th>name</th>\n",
       "      <th>speech</th>\n",
       "      <th>length</th>\n",
       "    </tr>\n",
       "  </thead>\n",
       "  <tbody>\n",
       "    <tr>\n",
       "      <th>0</th>\n",
       "      <td>answers to questions</td>\n",
       "      <td>2020-06-05</td>\n",
       "      <td>consequences for and enforcement against emplo...</td>\n",
       "      <td>josephine teo</td>\n",
       "      <td>the vast majority of employers are now paying ...</td>\n",
       "      <td>142</td>\n",
       "    </tr>\n",
       "    <tr>\n",
       "      <th>1</th>\n",
       "      <td>budget</td>\n",
       "      <td>2020-06-05</td>\n",
       "      <td>second supplementary estimates of expenditure ...</td>\n",
       "      <td>anthea ong</td>\n",
       "      <td>thank you, mr chairman. i thank the senior min...</td>\n",
       "      <td>79</td>\n",
       "    </tr>\n",
       "    <tr>\n",
       "      <th>2</th>\n",
       "      <td>budget</td>\n",
       "      <td>2020-06-05</td>\n",
       "      <td>second supplementary estimates of expenditure ...</td>\n",
       "      <td>indranee rajah</td>\n",
       "      <td>mr chairman, if i may now address ms ong's que...</td>\n",
       "      <td>261</td>\n",
       "    </tr>\n",
       "    <tr>\n",
       "      <th>3</th>\n",
       "      <td>budget</td>\n",
       "      <td>2020-06-05</td>\n",
       "      <td>second supplementary estimates of expenditure ...</td>\n",
       "      <td>anthea ong</td>\n",
       "      <td>mr chairman, i beg leave to withdraw the amend...</td>\n",
       "      <td>36</td>\n",
       "    </tr>\n",
       "    <tr>\n",
       "      <th>4</th>\n",
       "      <td>budget</td>\n",
       "      <td>2020-06-05</td>\n",
       "      <td>second supplementary estimates of expenditure ...</td>\n",
       "      <td>anthea ong</td>\n",
       "      <td>chairman, i beg to move, \"that the total sum t...</td>\n",
       "      <td>440</td>\n",
       "    </tr>\n",
       "  </tbody>\n",
       "</table>\n",
       "</div>"
      ],
      "text/plain": [
       "                section        date  \\\n",
       "0  answers to questions  2020-06-05   \n",
       "1                budget  2020-06-05   \n",
       "2                budget  2020-06-05   \n",
       "3                budget  2020-06-05   \n",
       "4                budget  2020-06-05   \n",
       "\n",
       "                                               topic            name  \\\n",
       "0  consequences for and enforcement against emplo...   josephine teo   \n",
       "1  second supplementary estimates of expenditure ...      anthea ong   \n",
       "2  second supplementary estimates of expenditure ...  indranee rajah   \n",
       "3  second supplementary estimates of expenditure ...      anthea ong   \n",
       "4  second supplementary estimates of expenditure ...      anthea ong   \n",
       "\n",
       "                                              speech  length  \n",
       "0  the vast majority of employers are now paying ...     142  \n",
       "1  thank you, mr chairman. i thank the senior min...      79  \n",
       "2  mr chairman, if i may now address ms ong's que...     261  \n",
       "3  mr chairman, i beg leave to withdraw the amend...      36  \n",
       "4  chairman, i beg to move, \"that the total sum t...     440  "
      ]
     },
     "execution_count": 3,
     "metadata": {},
     "output_type": "execute_result"
    }
   ],
   "source": [
    "df = pd.read_csv(DATASET_PATH, index_col=0)\n",
    "df.head()"
   ]
  },
  {
   "cell_type": "markdown",
   "id": "3cab8547-699e-412e-8883-45000ef4193b",
   "metadata": {},
   "source": [
    "Remove punctuations"
   ]
  },
  {
   "cell_type": "code",
   "execution_count": 4,
   "id": "45471129-3fd0-41bb-adbf-aa17b0845028",
   "metadata": {},
   "outputs": [
    {
     "data": {
      "text/html": [
       "<div>\n",
       "<style scoped>\n",
       "    .dataframe tbody tr th:only-of-type {\n",
       "        vertical-align: middle;\n",
       "    }\n",
       "\n",
       "    .dataframe tbody tr th {\n",
       "        vertical-align: top;\n",
       "    }\n",
       "\n",
       "    .dataframe thead th {\n",
       "        text-align: right;\n",
       "    }\n",
       "</style>\n",
       "<table border=\"1\" class=\"dataframe\">\n",
       "  <thead>\n",
       "    <tr style=\"text-align: right;\">\n",
       "      <th></th>\n",
       "      <th>section</th>\n",
       "      <th>date</th>\n",
       "      <th>topic</th>\n",
       "      <th>name</th>\n",
       "      <th>speech</th>\n",
       "      <th>length</th>\n",
       "    </tr>\n",
       "  </thead>\n",
       "  <tbody>\n",
       "    <tr>\n",
       "      <th>0</th>\n",
       "      <td>answers to questions</td>\n",
       "      <td>2020-06-05</td>\n",
       "      <td>consequences for and enforcement against emplo...</td>\n",
       "      <td>josephine teo</td>\n",
       "      <td>the vast majority of employers are now paying ...</td>\n",
       "      <td>142</td>\n",
       "    </tr>\n",
       "    <tr>\n",
       "      <th>1</th>\n",
       "      <td>budget</td>\n",
       "      <td>2020-06-05</td>\n",
       "      <td>second supplementary estimates of expenditure ...</td>\n",
       "      <td>anthea ong</td>\n",
       "      <td>thank you mr chairman i thank the senior minis...</td>\n",
       "      <td>79</td>\n",
       "    </tr>\n",
       "    <tr>\n",
       "      <th>2</th>\n",
       "      <td>budget</td>\n",
       "      <td>2020-06-05</td>\n",
       "      <td>second supplementary estimates of expenditure ...</td>\n",
       "      <td>indranee rajah</td>\n",
       "      <td>mr chairman if i may now address ms ongs quest...</td>\n",
       "      <td>261</td>\n",
       "    </tr>\n",
       "    <tr>\n",
       "      <th>3</th>\n",
       "      <td>budget</td>\n",
       "      <td>2020-06-05</td>\n",
       "      <td>second supplementary estimates of expenditure ...</td>\n",
       "      <td>anthea ong</td>\n",
       "      <td>mr chairman i beg leave to withdraw the amendm...</td>\n",
       "      <td>36</td>\n",
       "    </tr>\n",
       "    <tr>\n",
       "      <th>4</th>\n",
       "      <td>budget</td>\n",
       "      <td>2020-06-05</td>\n",
       "      <td>second supplementary estimates of expenditure ...</td>\n",
       "      <td>anthea ong</td>\n",
       "      <td>chairman i beg to move that the total sum to b...</td>\n",
       "      <td>440</td>\n",
       "    </tr>\n",
       "  </tbody>\n",
       "</table>\n",
       "</div>"
      ],
      "text/plain": [
       "                section        date  \\\n",
       "0  answers to questions  2020-06-05   \n",
       "1                budget  2020-06-05   \n",
       "2                budget  2020-06-05   \n",
       "3                budget  2020-06-05   \n",
       "4                budget  2020-06-05   \n",
       "\n",
       "                                               topic            name  \\\n",
       "0  consequences for and enforcement against emplo...   josephine teo   \n",
       "1  second supplementary estimates of expenditure ...      anthea ong   \n",
       "2  second supplementary estimates of expenditure ...  indranee rajah   \n",
       "3  second supplementary estimates of expenditure ...      anthea ong   \n",
       "4  second supplementary estimates of expenditure ...      anthea ong   \n",
       "\n",
       "                                              speech  length  \n",
       "0  the vast majority of employers are now paying ...     142  \n",
       "1  thank you mr chairman i thank the senior minis...      79  \n",
       "2  mr chairman if i may now address ms ongs quest...     261  \n",
       "3  mr chairman i beg leave to withdraw the amendm...      36  \n",
       "4  chairman i beg to move that the total sum to b...     440  "
      ]
     },
     "execution_count": 4,
     "metadata": {},
     "output_type": "execute_result"
    }
   ],
   "source": [
    "df['speech'] = df['speech'].map(lambda text: re.sub(r'[,\\.!?\"\\']', '', text))\n",
    "df.head()"
   ]
  },
  {
   "cell_type": "markdown",
   "id": "0b2b25cf-1c73-449e-8334-ba3f470c6354",
   "metadata": {},
   "source": [
    "# LDA Analysis"
   ]
  },
  {
   "cell_type": "code",
   "execution_count": 9,
   "id": "4ab77892-014c-498d-adca-01e3b49d46ca",
   "metadata": {},
   "outputs": [],
   "source": [
    "# consider 10 longest topics\n",
    "from pprint import pprint\n",
    "topics = df.groupby([\"topic\"])[\"length\"].agg([\"sum\"]).sort_values(by=\"sum\", ascending=False).reset_index()\n",
    "df = df[df[\"topic\"].isin(topics.loc[:2, \"topic\"])]"
   ]
  },
  {
   "cell_type": "code",
   "execution_count": 10,
   "id": "03d5896a-3fe0-4c22-a907-50e132a92342",
   "metadata": {},
   "outputs": [
    {
     "name": "stderr",
     "output_type": "stream",
     "text": [
      "[nltk_data] Downloading package stopwords to\n",
      "[nltk_data]     C:\\Users\\ktkhu\\AppData\\Roaming\\nltk_data...\n",
      "[nltk_data]   Package stopwords is already up-to-date!\n"
     ]
    }
   ],
   "source": [
    "import gensim\n",
    "from gensim.utils import simple_preprocess\n",
    "from pprint import pprint\n",
    "import nltk\n",
    "nltk.download('stopwords')\n",
    "from nltk.corpus import stopwords"
   ]
  },
  {
   "cell_type": "markdown",
   "id": "e3bea631-46cc-48e1-9aab-a27b14ef1675",
   "metadata": {},
   "source": [
    "Tokenize the text and remove stopwords"
   ]
  },
  {
   "cell_type": "code",
   "execution_count": 11,
   "id": "38cfd88c-3dad-4d65-bdd0-542d90a78403",
   "metadata": {
    "tags": []
   },
   "outputs": [],
   "source": [
    "def sent_to_words(sentences):\n",
    "    for sentence in sentences:\n",
    "        yield(simple_preprocess(str(sentence), deacc=True))  # deacc=True removes punctuations\n",
    "\n",
    "data = df['speech'].values.tolist()\n",
    "data_words = list(sent_to_words(data))"
   ]
  },
  {
   "cell_type": "code",
   "execution_count": 12,
   "id": "059797d1-3de5-40fe-ae0c-0de1d1151676",
   "metadata": {},
   "outputs": [],
   "source": [
    "import spacy\n",
    "stop_words = stopwords.words('english')\n",
    "\n",
    "# Define functions for stopwords, bigrams, trigrams and lemmatization\n",
    "def remove_stopwords(texts):\n",
    "    return [[word for word in simple_preprocess(str(doc)) if word not in stop_words] for doc in texts]\n",
    "\n",
    "def make_bigrams(texts):\n",
    "    return [bigram_mod[doc] for doc in texts]\n",
    "\n",
    "def make_trigrams(texts):\n",
    "    return [trigram_mod[bigram_mod[doc]] for doc in texts]\n",
    "\n",
    "def lemmatization(texts, allowed_postags=['NOUN', 'ADJ', 'VERB', 'ADV']):\n",
    "    # Initialize spacy 'en' model, keeping only tagger component (for efficiency)\n",
    "    # python3 -m spacy download en\n",
    "    nlp = spacy.load('en_core_web_md', disable=['parser', 'ner'])\n",
    "    texts_out = []\n",
    "    for sent in texts:\n",
    "        doc = nlp(\" \".join(sent)) \n",
    "        texts_out.append([token.lemma_ for token in doc if token.pos_ in allowed_postags])\n",
    "    return texts_out"
   ]
  },
  {
   "cell_type": "code",
   "execution_count": 13,
   "id": "7bf318ef-b2eb-42c3-a8dd-25dd8c586d7b",
   "metadata": {},
   "outputs": [],
   "source": [
    "# Remove Stop Words\n",
    "data_words_nostops = remove_stopwords(data_words)\n",
    "\n",
    "# Form Bigrams\n",
    "data_words_bigrams = data_words_nostops#make_bigrams(data_words_nostops)\n",
    "\n",
    "# Do lemmatization keeping only noun, adj, vb, adv\n",
    "data_lemmatized = lemmatization(data_words_bigrams, allowed_postags=['NOUN', 'ADJ', 'VERB', 'ADV'])"
   ]
  },
  {
   "cell_type": "code",
   "execution_count": 14,
   "id": "61e3cdd8-75c6-4a25-82b8-668cf0b9410b",
   "metadata": {},
   "outputs": [],
   "source": [
    "import gensim\n",
    "import gensim.corpora as corpora\n",
    "from gensim.utils import simple_preprocess\n",
    "from gensim.models import CoherenceModel, LdaMulticore\n",
    "\n",
    "# Create Dictionary\n",
    "id2word = corpora.Dictionary(data_lemmatized)\n",
    "\n",
    "# Create Corpus\n",
    "texts = data_lemmatized\n",
    "\n",
    "# Term Document Frequency\n",
    "corpus = [id2word.doc2bow(text) for text in texts]"
   ]
  },
  {
   "cell_type": "code",
   "execution_count": 15,
   "id": "de46849b-bd77-47e8-8426-59ec75ea7389",
   "metadata": {},
   "outputs": [],
   "source": [
    "#[[(id2word[id], freq) for id, freq in cp] for cp in corpus[:1]]"
   ]
  },
  {
   "cell_type": "code",
   "execution_count": 16,
   "id": "6f60e527-a796-4428-bd4a-61e87d95a554",
   "metadata": {},
   "outputs": [],
   "source": [
    "lda_model = gensim.models.ldamodel.LdaModel(corpus=corpus,\n",
    "                                           id2word=id2word,\n",
    "                                           num_topics=df[\"topic\"].unique().shape[0], \n",
    "                                           random_state=100,\n",
    "                                           update_every=1,\n",
    "                                           chunksize=100,\n",
    "                                           passes=10,\n",
    "                                           alpha='auto',\n",
    "                                           per_word_topics=True)"
   ]
  },
  {
   "cell_type": "code",
   "execution_count": 17,
   "id": "638c5e4c-3d7a-4828-ac02-bbbc6b45feaf",
   "metadata": {},
   "outputs": [
    {
     "name": "stdout",
     "output_type": "stream",
     "text": [
      "[(0,\n",
      "  '0.013*\"worker\" + 0.011*\"job\" + 0.010*\"work\" + 0.009*\"business\" + '\n",
      "  '0.009*\"also\" + 0.009*\"help\" + 0.008*\"company\" + 0.008*\"support\" + '\n",
      "  '0.008*\"need\" + 0.008*\"industry\"'),\n",
      " (1,\n",
      "  '0.010*\"government\" + 0.008*\"people\" + 0.007*\"year\" + 0.007*\"also\" + '\n",
      "  '0.006*\"need\" + 0.006*\"make\" + 0.005*\"many\" + 0.005*\"time\" + 0.005*\"well\" + '\n",
      "  '0.005*\"society\"'),\n",
      " (2,\n",
      "  '0.028*\"school\" + 0.023*\"student\" + 0.014*\"education\" + 0.010*\"child\" + '\n",
      "  '0.008*\"learn\" + 0.008*\"need\" + 0.007*\"also\" + 0.006*\"well\" + '\n",
      "  '0.006*\"community\" + 0.006*\"year\"')]\n"
     ]
    }
   ],
   "source": [
    "pprint(lda_model.print_topics())"
   ]
  },
  {
   "cell_type": "code",
   "execution_count": 18,
   "id": "c201d9ab-2069-4438-8900-d417ed5aef06",
   "metadata": {},
   "outputs": [
    {
     "name": "stdout",
     "output_type": "stream",
     "text": [
      "\n",
      "Perplexity:  -7.5163555882664825\n",
      "\n",
      "Coherence Score:  0.3683003523363962\n"
     ]
    }
   ],
   "source": [
    "# Compute Perplexity\n",
    "print('\\nPerplexity: ', lda_model.log_perplexity(corpus))  # a measure of how good the model is. lower the better.\n",
    "\n",
    "# Compute Coherence Score\n",
    "coherence_model_lda = CoherenceModel(model=lda_model, texts=data_lemmatized, dictionary=id2word, coherence='c_v')\n",
    "coherence_lda = coherence_model_lda.get_coherence()\n",
    "print('\\nCoherence Score: ', coherence_lda)"
   ]
  },
  {
   "cell_type": "code",
   "execution_count": null,
   "id": "028bd402-0a95-4c08-af70-2cb441d94579",
   "metadata": {},
   "outputs": [],
   "source": [
    "import pyLDAvis\n",
    "import pyLDAvis.gensim_models as gensimvis\n",
    "\n",
    "pyLDAvis.enable_notebook()\n",
    "vis = gensimvis.prepare(lda_model, corpus, id2word)\n",
    "vis"
   ]
  },
  {
   "cell_type": "code",
   "execution_count": null,
   "id": "6771af9e-3c75-454c-8ef8-983699cc1d4f",
   "metadata": {},
   "outputs": [],
   "source": []
  },
  {
   "cell_type": "code",
   "execution_count": null,
   "id": "7b6005f6-d471-44be-a2b1-6aed201d2737",
   "metadata": {},
   "outputs": [],
   "source": []
  }
 ],
 "metadata": {
  "kernelspec": {
   "display_name": "Python 3 (ipykernel)",
   "language": "python",
   "name": "python3"
  },
  "language_info": {
   "codemirror_mode": {
    "name": "ipython",
    "version": 3
   },
   "file_extension": ".py",
   "mimetype": "text/x-python",
   "name": "python",
   "nbconvert_exporter": "python",
   "pygments_lexer": "ipython3",
   "version": "3.8.12"
  }
 },
 "nbformat": 4,
 "nbformat_minor": 5
}
