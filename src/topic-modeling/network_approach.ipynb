{
 "cells": [
  {
   "cell_type": "markdown",
   "id": "2f073472-d578-4115-aab1-1fd9ef5fb93a",
   "metadata": {},
   "source": [
    "# Network approach\n",
    "https://www.ncbi.nlm.nih.gov/pmc/articles/PMC6051742/"
   ]
  },
  {
   "cell_type": "code",
   "execution_count": 1,
   "id": "17b2b1db-4d73-455f-9d42-2ec56e8bdc99",
   "metadata": {},
   "outputs": [],
   "source": [
    "import numpy as np\n",
    "import matplotlib.pyplot as plt\n",
    "import pandas as pd\n",
    "import networkx as nx\n",
    "import re"
   ]
  },
  {
   "cell_type": "code",
   "execution_count": 2,
   "id": "3db87ed1-19a1-4091-8882-f6db9783ccde",
   "metadata": {},
   "outputs": [],
   "source": [
    "DATASET_PATH = \"parliament_13.csv\""
   ]
  },
  {
   "cell_type": "code",
   "execution_count": 3,
   "id": "08c8bc4c-9e34-49e0-9b36-725dc6481e8b",
   "metadata": {},
   "outputs": [
    {
     "data": {
      "text/html": [
       "<div>\n",
       "<style scoped>\n",
       "    .dataframe tbody tr th:only-of-type {\n",
       "        vertical-align: middle;\n",
       "    }\n",
       "\n",
       "    .dataframe tbody tr th {\n",
       "        vertical-align: top;\n",
       "    }\n",
       "\n",
       "    .dataframe thead th {\n",
       "        text-align: right;\n",
       "    }\n",
       "</style>\n",
       "<table border=\"1\" class=\"dataframe\">\n",
       "  <thead>\n",
       "    <tr style=\"text-align: right;\">\n",
       "      <th></th>\n",
       "      <th>section</th>\n",
       "      <th>date</th>\n",
       "      <th>topic</th>\n",
       "      <th>name</th>\n",
       "      <th>speech</th>\n",
       "      <th>length</th>\n",
       "    </tr>\n",
       "  </thead>\n",
       "  <tbody>\n",
       "    <tr>\n",
       "      <th>0</th>\n",
       "      <td>answers to questions</td>\n",
       "      <td>2020-06-05</td>\n",
       "      <td>consequences for and enforcement against emplo...</td>\n",
       "      <td>josephine teo</td>\n",
       "      <td>the vast majority of employers are now paying ...</td>\n",
       "      <td>142</td>\n",
       "    </tr>\n",
       "    <tr>\n",
       "      <th>1</th>\n",
       "      <td>budget</td>\n",
       "      <td>2020-06-05</td>\n",
       "      <td>second supplementary estimates of expenditure ...</td>\n",
       "      <td>anthea ong</td>\n",
       "      <td>thank you, mr chairman. i thank the senior min...</td>\n",
       "      <td>79</td>\n",
       "    </tr>\n",
       "    <tr>\n",
       "      <th>2</th>\n",
       "      <td>budget</td>\n",
       "      <td>2020-06-05</td>\n",
       "      <td>second supplementary estimates of expenditure ...</td>\n",
       "      <td>indranee rajah</td>\n",
       "      <td>mr chairman, if i may now address ms ong's que...</td>\n",
       "      <td>261</td>\n",
       "    </tr>\n",
       "    <tr>\n",
       "      <th>3</th>\n",
       "      <td>budget</td>\n",
       "      <td>2020-06-05</td>\n",
       "      <td>second supplementary estimates of expenditure ...</td>\n",
       "      <td>anthea ong</td>\n",
       "      <td>mr chairman, i beg leave to withdraw the amend...</td>\n",
       "      <td>36</td>\n",
       "    </tr>\n",
       "    <tr>\n",
       "      <th>4</th>\n",
       "      <td>budget</td>\n",
       "      <td>2020-06-05</td>\n",
       "      <td>second supplementary estimates of expenditure ...</td>\n",
       "      <td>anthea ong</td>\n",
       "      <td>chairman, i beg to move, \"that the total sum t...</td>\n",
       "      <td>440</td>\n",
       "    </tr>\n",
       "  </tbody>\n",
       "</table>\n",
       "</div>"
      ],
      "text/plain": [
       "                section        date  \\\n",
       "0  answers to questions  2020-06-05   \n",
       "1                budget  2020-06-05   \n",
       "2                budget  2020-06-05   \n",
       "3                budget  2020-06-05   \n",
       "4                budget  2020-06-05   \n",
       "\n",
       "                                               topic            name  \\\n",
       "0  consequences for and enforcement against emplo...   josephine teo   \n",
       "1  second supplementary estimates of expenditure ...      anthea ong   \n",
       "2  second supplementary estimates of expenditure ...  indranee rajah   \n",
       "3  second supplementary estimates of expenditure ...      anthea ong   \n",
       "4  second supplementary estimates of expenditure ...      anthea ong   \n",
       "\n",
       "                                              speech  length  \n",
       "0  the vast majority of employers are now paying ...     142  \n",
       "1  thank you, mr chairman. i thank the senior min...      79  \n",
       "2  mr chairman, if i may now address ms ong's que...     261  \n",
       "3  mr chairman, i beg leave to withdraw the amend...      36  \n",
       "4  chairman, i beg to move, \"that the total sum t...     440  "
      ]
     },
     "execution_count": 3,
     "metadata": {},
     "output_type": "execute_result"
    }
   ],
   "source": [
    "df = pd.read_csv(DATASET_PATH, index_col=0)\n",
    "df.head()"
   ]
  },
  {
   "cell_type": "code",
   "execution_count": 5,
   "id": "a8ae55ce-3534-447b-a687-845141d5390f",
   "metadata": {},
   "outputs": [
    {
     "data": {
      "text/plain": [
       "['the vast majority of employers are now paying salaries electronically',\n",
       " 'in the initial month of implementation a very small number of employers were unable to do so due to technical or administrative issues',\n",
       " 'for example their workers bank account applications were still pending approval by the bank',\n",
       " 'in these cases the ministry of manpower mom allowed the employers to continue to pay outstanding salaries in cash',\n",
       " 'due to its urgent necessity this new requirement was introduced at very short notice',\n",
       " 'nevertheless the vast majority of employers have complied',\n",
       " 'mom will continue to follow up and remind the remaining employers to make the switch if they have not already done so especially now that circuit breaker measures have been lifted',\n",
       " 'mom will in due course take enforcement action against noncompliance as it would for other conditions under the employment of foreign manpower act']"
      ]
     },
     "execution_count": 5,
     "metadata": {},
     "output_type": "execute_result"
    }
   ],
   "source": [
    "documents = [re.sub(r\"[^\\w\\s]\", \"\", sentence.strip()) for sentence in df.loc[0, \"speech\"].split(\".\") if sentence.strip()]\n",
    "documents"
   ]
  },
  {
   "cell_type": "code",
   "execution_count": 7,
   "id": "cab9ea7f-a5a2-4765-b34d-fcdcec024522",
   "metadata": {},
   "outputs": [
    {
     "data": {
      "text/plain": [
       "['vast majority employer paying salary electronically',\n",
       " 'initial month implementation small number employer unable due technical administrative issue',\n",
       " 'example worker bank account application still pending approval bank',\n",
       " 'case ministry manpower mom allowed employer continue pay outstanding salary cash',\n",
       " 'due urgent necessity new requirement introduced short notice',\n",
       " 'nevertheless vast majority employer complied',\n",
       " 'mom continue follow remind remaining employer make switch already done especially circuit breaker measure lifted',\n",
       " 'mom due course take enforcement action noncompliance would condition employment foreign manpower act']"
      ]
     },
     "execution_count": 7,
     "metadata": {},
     "output_type": "execute_result"
    }
   ],
   "source": [
    "import nltk\n",
    "from nltk.corpus import stopwords\n",
    "from nltk.tokenize import wordpunct_tokenize\n",
    "from nltk.stem import WordNetLemmatizer\n",
    "stop_words = stopwords.words('english')\n",
    "\n",
    "# tokenize\n",
    "tokens = [wordpunct_tokenize(document) for document in documents]\n",
    "# remove stop words\n",
    "tokens_nostops = [[word for word in sent if word not in stop_words] for sent in tokens]\n",
    "# lemmatize\n",
    "lemmatizer = WordNetLemmatizer()\n",
    "tokens_nostops_lemmatized = [[lemmatizer.lemmatize(word) for word in sent] for sent in tokens_nostops]\n",
    "# make a corpus\n",
    "corpus = [' '.join(sent) for sent in tokens_nostops_lemmatized]\n",
    "corpus"
   ]
  },
  {
   "cell_type": "code",
   "execution_count": 18,
   "id": "c55a2820-c175-438c-a911-edd90f5bdb1e",
   "metadata": {},
   "outputs": [
    {
     "data": {
      "text/plain": [
       "(8, 64)"
      ]
     },
     "execution_count": 18,
     "metadata": {},
     "output_type": "execute_result"
    }
   ],
   "source": [
    "from sklearn.feature_extraction.text import CountVectorizer\n",
    "\n",
    "vectorizer = CountVectorizer()\n",
    "X = vectorizer.fit_transform(corpus)\n",
    "X.shape"
   ]
  },
  {
   "cell_type": "code",
   "execution_count": 19,
   "id": "1f4299bc-9791-4a19-a140-c98bb0a0bad1",
   "metadata": {},
   "outputs": [
    {
     "data": {
      "text/plain": [
       "array(['account', 'act', 'action', 'administrative', 'allowed', 'already',\n",
       "       'application', 'approval', 'bank', 'breaker', 'case', 'cash',\n",
       "       'circuit', 'complied', 'condition', 'continue', 'course', 'done',\n",
       "       'due', 'electronically', 'employer', 'employment', 'enforcement',\n",
       "       'especially', 'example', 'follow', 'foreign', 'implementation',\n",
       "       'initial', 'introduced', 'issue', 'lifted', 'majority', 'make',\n",
       "       'manpower', 'measure', 'ministry', 'mom', 'month', 'necessity',\n",
       "       'nevertheless', 'new', 'noncompliance', 'notice', 'number',\n",
       "       'outstanding', 'pay', 'paying', 'pending', 'remaining', 'remind',\n",
       "       'requirement', 'salary', 'short', 'small', 'still', 'switch',\n",
       "       'take', 'technical', 'unable', 'urgent', 'vast', 'worker', 'would'],\n",
       "      dtype=object)"
      ]
     },
     "execution_count": 19,
     "metadata": {},
     "output_type": "execute_result"
    }
   ],
   "source": [
    "vectorizer.get_feature_names_out()"
   ]
  },
  {
   "cell_type": "code",
   "execution_count": 22,
   "id": "0d0a17d4-2911-4635-82b8-639c87fe6e2f",
   "metadata": {},
   "outputs": [],
   "source": [
    "Gx = nx.Graph()\n",
    "Gx.add_nodes_from()\n",
    "Gx.add_nodes_from(np.arange(X.shape[0]))"
   ]
  },
  {
   "cell_type": "code",
   "execution_count": null,
   "id": "399a7fd0-0d51-4160-a403-d41b3ff9c971",
   "metadata": {},
   "outputs": [],
   "source": []
  }
 ],
 "metadata": {
  "kernelspec": {
   "display_name": "Python 3 (ipykernel)",
   "language": "python",
   "name": "python3"
  },
  "language_info": {
   "codemirror_mode": {
    "name": "ipython",
    "version": 3
   },
   "file_extension": ".py",
   "mimetype": "text/x-python",
   "name": "python",
   "nbconvert_exporter": "python",
   "pygments_lexer": "ipython3",
   "version": "3.8.12"
  }
 },
 "nbformat": 4,
 "nbformat_minor": 5
}
