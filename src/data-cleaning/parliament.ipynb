{
 "cells": [
  {
   "cell_type": "code",
   "execution_count": 1,
   "id": "f070a640-2ece-4eb5-ac60-a303508b4a50",
   "metadata": {},
   "outputs": [],
   "source": [
    "import numpy as np\n",
    "import matplotlib.pyplot as plt\n",
    "import pandas as pd\n",
    "import os, json\n",
    "import datetime\n",
    "import re\n",
    "from unidecode import unidecode\n",
    "from pylab import rcParams\n",
    "import string\n",
    "import nltk\n",
    "from nltk.corpus import stopwords\n",
    "\n",
    "%matplotlib inline\n",
    "%config InlineBackend.figure_format = 'retina'"
   ]
  },
  {
   "cell_type": "code",
   "execution_count": null,
   "id": "6fcdf289-a89f-4abf-9bb8-758012bbe7e3",
   "metadata": {},
   "outputs": [],
   "source": []
  },
  {
   "cell_type": "markdown",
   "id": "6b93d35a-5c4c-48d5-90fc-57f4ac1130bd",
   "metadata": {},
   "source": [
    "# Data Cleaning"
   ]
  },
  {
   "cell_type": "code",
   "execution_count": 526,
   "id": "7c165ec5-1672-4124-9998-ff5d3a3bd497",
   "metadata": {},
   "outputs": [],
   "source": [
    "def format_date(date):\n",
    "    day, month, year = date.split(\"-\")\n",
    "    return datetime.datetime(int(year), int(month), int(day)).strftime(\"%Y-%m-%d\")\n",
    "                                  \n",
    "def speeches_from_json(json_file):\n",
    "    with open(json_file, \"r\") as f:\n",
    "        data = json.load(f)\n",
    "    return [{\n",
    "        \"report_id\": json_file.split(\"\\\\\")[-1], \n",
    "        \"section\": data[\"section\"], \n",
    "        \"date\": format_date(data[\"date\"]),\n",
    "        \"title\": data[\"title\"],\n",
    "        \"name\": unidecode(speech[\"name\"] or ''),\n",
    "        \"speech\": unidecode(speech[\"speech\"] or ''),\n",
    "    } for speech in data[\"speeches\"]]"
   ]
  },
  {
   "cell_type": "markdown",
   "id": "9a56c2c2-4254-4e3f-acef-a71ef7a82d57",
   "metadata": {},
   "source": [
    "First, load all json files"
   ]
  },
  {
   "cell_type": "code",
   "execution_count": 527,
   "id": "f80c5a19-ed4e-4315-adc6-e1f97e292961",
   "metadata": {},
   "outputs": [],
   "source": [
    "DIR = \".\\\\parliament\""
   ]
  },
  {
   "cell_type": "code",
   "execution_count": 697,
   "id": "243c335b-a131-4bf4-b0ce-9b42c6693c3b",
   "metadata": {},
   "outputs": [],
   "source": [
    "speeches = [speech for parliament_number in os.listdir(DIR) if not parliament_number.endswith(\".txt\")\n",
    "                   for f in os.listdir(f\"{DIR}\\\\{parliament_number}\") if f.lower().endswith(\".json\") \n",
    "                   for speech in speeches_from_json(f\"{DIR}\\\\{parliament_number}\\\\{f}\")]"
   ]
  },
  {
   "cell_type": "markdown",
   "id": "effbde1a-c753-443f-8f6f-6933f54f8910",
   "metadata": {},
   "source": [
    "Create a data frame"
   ]
  },
  {
   "cell_type": "code",
   "execution_count": 698,
   "id": "c8a38f81-2f64-42ac-b75c-68755cad65a9",
   "metadata": {},
   "outputs": [
    {
     "name": "stdout",
     "output_type": "stream",
     "text": [
      "<class 'pandas.core.frame.DataFrame'>\n",
      "RangeIndex: 203062 entries, 0 to 203061\n",
      "Data columns (total 6 columns):\n",
      " #   Column     Non-Null Count   Dtype \n",
      "---  ------     --------------   ----- \n",
      " 0   report_id  203062 non-null  object\n",
      " 1   section    203062 non-null  object\n",
      " 2   date       203062 non-null  object\n",
      " 3   title      203062 non-null  object\n",
      " 4   name       203062 non-null  object\n",
      " 5   speech     203062 non-null  object\n",
      "dtypes: object(6)\n",
      "memory usage: 9.3+ MB\n"
     ]
    }
   ],
   "source": [
    "df = pd.DataFrame.from_records(speeches)\n",
    "df.info()"
   ]
  },
  {
   "cell_type": "code",
   "execution_count": 699,
   "id": "cc5ecc47-b810-425d-a46c-e4e74560af4d",
   "metadata": {},
   "outputs": [
    {
     "data": {
      "text/html": [
       "<div>\n",
       "<style scoped>\n",
       "    .dataframe tbody tr th:only-of-type {\n",
       "        vertical-align: middle;\n",
       "    }\n",
       "\n",
       "    .dataframe tbody tr th {\n",
       "        vertical-align: top;\n",
       "    }\n",
       "\n",
       "    .dataframe thead th {\n",
       "        text-align: right;\n",
       "    }\n",
       "</style>\n",
       "<table border=\"1\" class=\"dataframe\">\n",
       "  <thead>\n",
       "    <tr style=\"text-align: right;\">\n",
       "      <th></th>\n",
       "      <th>report_id</th>\n",
       "      <th>section</th>\n",
       "      <th>date</th>\n",
       "      <th>title</th>\n",
       "      <th>name</th>\n",
       "      <th>speech</th>\n",
       "    </tr>\n",
       "  </thead>\n",
       "  <tbody>\n",
       "    <tr>\n",
       "      <th>0</th>\n",
       "      <td>002_19651213_S0002_T0003.json</td>\n",
       "      <td>BILLS</td>\n",
       "      <td>1965-12-13</td>\n",
       "      <td>CONSTITUTION (AMENDMENT) BILL</td>\n",
       "      <td>CONSTITUTION (AMENDMENT) BILL</td>\n",
       "      <td></td>\n",
       "    </tr>\n",
       "    <tr>\n",
       "      <th>1</th>\n",
       "      <td>002_19651213_S0002_T0003.json</td>\n",
       "      <td>BILLS</td>\n",
       "      <td>1965-12-13</td>\n",
       "      <td>CONSTITUTION (AMENDMENT) BILL</td>\n",
       "      <td>First Reading</td>\n",
       "      <td></td>\n",
       "    </tr>\n",
       "    <tr>\n",
       "      <th>2</th>\n",
       "      <td>002_19651213_S0002_T0003.json</td>\n",
       "      <td>BILLS</td>\n",
       "      <td>1965-12-13</td>\n",
       "      <td>CONSTITUTION (AMENDMENT) BILL</td>\n",
       "      <td>The Prime Minister:</td>\n",
       "      <td>Mr Speaker, Sir, I have His Excellency the Yan...</td>\n",
       "    </tr>\n",
       "    <tr>\n",
       "      <th>3</th>\n",
       "      <td>002_19651213_S0002_T0003.json</td>\n",
       "      <td>BILLS</td>\n",
       "      <td>1965-12-13</td>\n",
       "      <td>CONSTITUTION (AMENDMENT) BILL</td>\n",
       "      <td>Second Reading</td>\n",
       "      <td></td>\n",
       "    </tr>\n",
       "    <tr>\n",
       "      <th>4</th>\n",
       "      <td>002_19651213_S0002_T0003.json</td>\n",
       "      <td>BILLS</td>\n",
       "      <td>1965-12-13</td>\n",
       "      <td>CONSTITUTION (AMENDMENT) BILL</td>\n",
       "      <td>Mr Speaker:</td>\n",
       "      <td>Second Reading, what day?</td>\n",
       "    </tr>\n",
       "  </tbody>\n",
       "</table>\n",
       "</div>"
      ],
      "text/plain": [
       "                       report_id section        date  \\\n",
       "0  002_19651213_S0002_T0003.json   BILLS  1965-12-13   \n",
       "1  002_19651213_S0002_T0003.json   BILLS  1965-12-13   \n",
       "2  002_19651213_S0002_T0003.json   BILLS  1965-12-13   \n",
       "3  002_19651213_S0002_T0003.json   BILLS  1965-12-13   \n",
       "4  002_19651213_S0002_T0003.json   BILLS  1965-12-13   \n",
       "\n",
       "                           title                           name  \\\n",
       "0  CONSTITUTION (AMENDMENT) BILL  CONSTITUTION (AMENDMENT) BILL   \n",
       "1  CONSTITUTION (AMENDMENT) BILL                  First Reading   \n",
       "2  CONSTITUTION (AMENDMENT) BILL            The Prime Minister:   \n",
       "3  CONSTITUTION (AMENDMENT) BILL                 Second Reading   \n",
       "4  CONSTITUTION (AMENDMENT) BILL                    Mr Speaker:   \n",
       "\n",
       "                                              speech  \n",
       "0                                                     \n",
       "1                                                     \n",
       "2  Mr Speaker, Sir, I have His Excellency the Yan...  \n",
       "3                                                     \n",
       "4                          Second Reading, what day?  "
      ]
     },
     "execution_count": 699,
     "metadata": {},
     "output_type": "execute_result"
    }
   ],
   "source": [
    "df.head()"
   ]
  },
  {
   "cell_type": "markdown",
   "id": "a85669c8-1b6f-42d4-8fb0-b1e986609d98",
   "metadata": {},
   "source": [
    "Drop rows with empty names and speeches"
   ]
  },
  {
   "cell_type": "code",
   "execution_count": 700,
   "id": "40dea3c5-0d98-471f-8c91-02e691c952f2",
   "metadata": {},
   "outputs": [],
   "source": [
    "df = df.dropna()"
   ]
  },
  {
   "cell_type": "markdown",
   "id": "4a80b301-87cd-4c21-97a9-c3a469e7cf74",
   "metadata": {},
   "source": [
    "### Convert 'date' from string to datetime"
   ]
  },
  {
   "cell_type": "code",
   "execution_count": 701,
   "id": "d5ddc214-0cee-4c4f-94aa-535048ba3189",
   "metadata": {},
   "outputs": [],
   "source": [
    "df['date'] = pd.to_datetime(df['date'])"
   ]
  },
  {
   "cell_type": "markdown",
   "id": "19ad98ea-c979-471b-9326-39e0287953ca",
   "metadata": {},
   "source": [
    "### Normalize case"
   ]
  },
  {
   "cell_type": "code",
   "execution_count": 702,
   "id": "53fa6714-0d9b-4a8e-9e39-0c8ade403679",
   "metadata": {},
   "outputs": [],
   "source": [
    "def normalize_case(text):\n",
    "    return text.lower()"
   ]
  },
  {
   "cell_type": "code",
   "execution_count": 703,
   "id": "e19ebd8b-f5c2-4dca-acf8-45c483540d06",
   "metadata": {},
   "outputs": [],
   "source": [
    "df['section'] = df['section'].map(normalize_case)\n",
    "df['title'] = df['title'].map(normalize_case)\n",
    "df['name'] = df['name'].map(normalize_case)\n",
    "df['speech'] = df['speech'].map(normalize_case)"
   ]
  },
  {
   "cell_type": "markdown",
   "id": "e2800148-07bf-401b-b2bd-7570972576d5",
   "metadata": {},
   "source": [
    "### Remove Punctuations"
   ]
  },
  {
   "cell_type": "code",
   "execution_count": 704,
   "id": "fc187ab3-6205-4adb-853f-488f2265810a",
   "metadata": {},
   "outputs": [],
   "source": [
    "def remove_punctuations(text):\n",
    "    return re.sub(r\"(@\\[A-Za-z0-9]+)|([^0-9A-Za-z \\t])|(\\w+:\\/\\/\\S+)|^rt|http.+?\", \"\", text)"
   ]
  },
  {
   "cell_type": "code",
   "execution_count": 705,
   "id": "a179819f-e055-46e4-9dff-c26f059d4069",
   "metadata": {},
   "outputs": [],
   "source": [
    "#df['title'] = df['title'].map(lambda text: re.sub(r\"[^a-z. ]\", \"\", text))\n",
    "df['name'] = df['name'].map(lambda text: re.sub(r\"[^a-z. ]\", \"\", text))\n",
    "#df['speech'] = df['speech'].map(remove_punctuations)"
   ]
  },
  {
   "cell_type": "code",
   "execution_count": 706,
   "id": "fac448c5-c4c3-405b-99c1-daff8e39480b",
   "metadata": {},
   "outputs": [
    {
     "data": {
      "text/html": [
       "<div>\n",
       "<style scoped>\n",
       "    .dataframe tbody tr th:only-of-type {\n",
       "        vertical-align: middle;\n",
       "    }\n",
       "\n",
       "    .dataframe tbody tr th {\n",
       "        vertical-align: top;\n",
       "    }\n",
       "\n",
       "    .dataframe thead th {\n",
       "        text-align: right;\n",
       "    }\n",
       "</style>\n",
       "<table border=\"1\" class=\"dataframe\">\n",
       "  <thead>\n",
       "    <tr style=\"text-align: right;\">\n",
       "      <th></th>\n",
       "      <th>report_id</th>\n",
       "      <th>section</th>\n",
       "      <th>date</th>\n",
       "      <th>title</th>\n",
       "      <th>name</th>\n",
       "      <th>speech</th>\n",
       "    </tr>\n",
       "  </thead>\n",
       "  <tbody>\n",
       "    <tr>\n",
       "      <th>0</th>\n",
       "      <td>002_19651213_S0002_T0003.json</td>\n",
       "      <td>bills</td>\n",
       "      <td>1965-12-13</td>\n",
       "      <td>constitution (amendment) bill</td>\n",
       "      <td>constitution amendment bill</td>\n",
       "      <td></td>\n",
       "    </tr>\n",
       "    <tr>\n",
       "      <th>1</th>\n",
       "      <td>002_19651213_S0002_T0003.json</td>\n",
       "      <td>bills</td>\n",
       "      <td>1965-12-13</td>\n",
       "      <td>constitution (amendment) bill</td>\n",
       "      <td>first reading</td>\n",
       "      <td></td>\n",
       "    </tr>\n",
       "    <tr>\n",
       "      <th>2</th>\n",
       "      <td>002_19651213_S0002_T0003.json</td>\n",
       "      <td>bills</td>\n",
       "      <td>1965-12-13</td>\n",
       "      <td>constitution (amendment) bill</td>\n",
       "      <td>the prime minister</td>\n",
       "      <td>mr speaker, sir, i have his excellency the yan...</td>\n",
       "    </tr>\n",
       "    <tr>\n",
       "      <th>3</th>\n",
       "      <td>002_19651213_S0002_T0003.json</td>\n",
       "      <td>bills</td>\n",
       "      <td>1965-12-13</td>\n",
       "      <td>constitution (amendment) bill</td>\n",
       "      <td>second reading</td>\n",
       "      <td></td>\n",
       "    </tr>\n",
       "    <tr>\n",
       "      <th>4</th>\n",
       "      <td>002_19651213_S0002_T0003.json</td>\n",
       "      <td>bills</td>\n",
       "      <td>1965-12-13</td>\n",
       "      <td>constitution (amendment) bill</td>\n",
       "      <td>mr speaker</td>\n",
       "      <td>second reading, what day?</td>\n",
       "    </tr>\n",
       "  </tbody>\n",
       "</table>\n",
       "</div>"
      ],
      "text/plain": [
       "                       report_id section       date  \\\n",
       "0  002_19651213_S0002_T0003.json   bills 1965-12-13   \n",
       "1  002_19651213_S0002_T0003.json   bills 1965-12-13   \n",
       "2  002_19651213_S0002_T0003.json   bills 1965-12-13   \n",
       "3  002_19651213_S0002_T0003.json   bills 1965-12-13   \n",
       "4  002_19651213_S0002_T0003.json   bills 1965-12-13   \n",
       "\n",
       "                           title                         name  \\\n",
       "0  constitution (amendment) bill  constitution amendment bill   \n",
       "1  constitution (amendment) bill                first reading   \n",
       "2  constitution (amendment) bill           the prime minister   \n",
       "3  constitution (amendment) bill               second reading   \n",
       "4  constitution (amendment) bill                   mr speaker   \n",
       "\n",
       "                                              speech  \n",
       "0                                                     \n",
       "1                                                     \n",
       "2  mr speaker, sir, i have his excellency the yan...  \n",
       "3                                                     \n",
       "4                          second reading, what day?  "
      ]
     },
     "execution_count": 706,
     "metadata": {},
     "output_type": "execute_result"
    }
   ],
   "source": [
    "df.head()"
   ]
  },
  {
   "cell_type": "markdown",
   "id": "a5dc0a85-ec58-4a0d-abe8-2c625f0e816a",
   "metadata": {},
   "source": [
    "### Remove stopwords"
   ]
  },
  {
   "cell_type": "code",
   "execution_count": 707,
   "id": "6cd0a5e2-8ebf-40a2-83eb-27ed954e2947",
   "metadata": {},
   "outputs": [],
   "source": [
    "def remove_stopwords(text):\n",
    "    stop = stopwords.words('english')\n",
    "    return \" \".join([word for word in text.split() if word not in (stop)])"
   ]
  },
  {
   "cell_type": "code",
   "execution_count": 708,
   "id": "e9deb4ce-0d0a-4b93-93bc-5c602d7d44bf",
   "metadata": {},
   "outputs": [],
   "source": [
    "#df['speech'] = df['speech'].map(remove_stopwords)"
   ]
  },
  {
   "cell_type": "code",
   "execution_count": 709,
   "id": "8fee406b-5e00-4951-aa8a-ba05b2e0ea3a",
   "metadata": {},
   "outputs": [
    {
     "data": {
      "text/html": [
       "<div>\n",
       "<style scoped>\n",
       "    .dataframe tbody tr th:only-of-type {\n",
       "        vertical-align: middle;\n",
       "    }\n",
       "\n",
       "    .dataframe tbody tr th {\n",
       "        vertical-align: top;\n",
       "    }\n",
       "\n",
       "    .dataframe thead th {\n",
       "        text-align: right;\n",
       "    }\n",
       "</style>\n",
       "<table border=\"1\" class=\"dataframe\">\n",
       "  <thead>\n",
       "    <tr style=\"text-align: right;\">\n",
       "      <th></th>\n",
       "      <th>report_id</th>\n",
       "      <th>section</th>\n",
       "      <th>date</th>\n",
       "      <th>title</th>\n",
       "      <th>name</th>\n",
       "      <th>speech</th>\n",
       "    </tr>\n",
       "  </thead>\n",
       "  <tbody>\n",
       "    <tr>\n",
       "      <th>0</th>\n",
       "      <td>002_19651213_S0002_T0003.json</td>\n",
       "      <td>bills</td>\n",
       "      <td>1965-12-13</td>\n",
       "      <td>constitution (amendment) bill</td>\n",
       "      <td>constitution amendment bill</td>\n",
       "      <td></td>\n",
       "    </tr>\n",
       "    <tr>\n",
       "      <th>1</th>\n",
       "      <td>002_19651213_S0002_T0003.json</td>\n",
       "      <td>bills</td>\n",
       "      <td>1965-12-13</td>\n",
       "      <td>constitution (amendment) bill</td>\n",
       "      <td>first reading</td>\n",
       "      <td></td>\n",
       "    </tr>\n",
       "    <tr>\n",
       "      <th>2</th>\n",
       "      <td>002_19651213_S0002_T0003.json</td>\n",
       "      <td>bills</td>\n",
       "      <td>1965-12-13</td>\n",
       "      <td>constitution (amendment) bill</td>\n",
       "      <td>the prime minister</td>\n",
       "      <td>mr speaker, sir, i have his excellency the yan...</td>\n",
       "    </tr>\n",
       "    <tr>\n",
       "      <th>3</th>\n",
       "      <td>002_19651213_S0002_T0003.json</td>\n",
       "      <td>bills</td>\n",
       "      <td>1965-12-13</td>\n",
       "      <td>constitution (amendment) bill</td>\n",
       "      <td>second reading</td>\n",
       "      <td></td>\n",
       "    </tr>\n",
       "    <tr>\n",
       "      <th>4</th>\n",
       "      <td>002_19651213_S0002_T0003.json</td>\n",
       "      <td>bills</td>\n",
       "      <td>1965-12-13</td>\n",
       "      <td>constitution (amendment) bill</td>\n",
       "      <td>mr speaker</td>\n",
       "      <td>second reading, what day?</td>\n",
       "    </tr>\n",
       "  </tbody>\n",
       "</table>\n",
       "</div>"
      ],
      "text/plain": [
       "                       report_id section       date  \\\n",
       "0  002_19651213_S0002_T0003.json   bills 1965-12-13   \n",
       "1  002_19651213_S0002_T0003.json   bills 1965-12-13   \n",
       "2  002_19651213_S0002_T0003.json   bills 1965-12-13   \n",
       "3  002_19651213_S0002_T0003.json   bills 1965-12-13   \n",
       "4  002_19651213_S0002_T0003.json   bills 1965-12-13   \n",
       "\n",
       "                           title                         name  \\\n",
       "0  constitution (amendment) bill  constitution amendment bill   \n",
       "1  constitution (amendment) bill                first reading   \n",
       "2  constitution (amendment) bill           the prime minister   \n",
       "3  constitution (amendment) bill               second reading   \n",
       "4  constitution (amendment) bill                   mr speaker   \n",
       "\n",
       "                                              speech  \n",
       "0                                                     \n",
       "1                                                     \n",
       "2  mr speaker, sir, i have his excellency the yan...  \n",
       "3                                                     \n",
       "4                          second reading, what day?  "
      ]
     },
     "execution_count": 709,
     "metadata": {},
     "output_type": "execute_result"
    }
   ],
   "source": [
    "df.head()"
   ]
  },
  {
   "cell_type": "markdown",
   "id": "c25beecb-663f-4c17-a696-58107cedba10",
   "metadata": {},
   "source": [
    "# 13th Parliament"
   ]
  },
  {
   "cell_type": "code",
   "execution_count": 710,
   "id": "c170be60-6b25-41e1-bf8a-18e3f75dd31f",
   "metadata": {},
   "outputs": [
    {
     "data": {
      "text/plain": [
       "(21616, 6)"
      ]
     },
     "execution_count": 710,
     "metadata": {},
     "output_type": "execute_result"
    }
   ],
   "source": [
    "df = df[(df['date'] >= pd.Timestamp(2016, 1, 15)) & (df['date'] <= pd.Timestamp(2020, 6, 23))]\n",
    "df.shape"
   ]
  },
  {
   "cell_type": "code",
   "execution_count": 711,
   "id": "6dcc1793-5996-4ef1-949e-264a6fc9a4a7",
   "metadata": {},
   "outputs": [
    {
     "data": {
      "text/plain": [
       "(21205, 6)"
      ]
     },
     "execution_count": 711,
     "metadata": {},
     "output_type": "execute_result"
    }
   ],
   "source": [
    "df = df[~(df['name'] == '')]\n",
    "df = df[~(df['speech'] == '')]\n",
    "df.shape"
   ]
  },
  {
   "cell_type": "markdown",
   "id": "91eddefe-993c-4df7-885c-b0576cbaff61",
   "metadata": {},
   "source": [
    "### Map MPs' names"
   ]
  },
  {
   "cell_type": "markdown",
   "id": "4f0c728c-70ab-4a31-bc88-5e4cabad75ac",
   "metadata": {},
   "source": [
    "How many MPs in the data frame?"
   ]
  },
  {
   "cell_type": "code",
   "execution_count": 712,
   "id": "47e94012-fa35-4564-958d-9a96f0267ee8",
   "metadata": {},
   "outputs": [
    {
     "data": {
      "text/plain": [
       "(624,)"
      ]
     },
     "execution_count": 712,
     "metadata": {},
     "output_type": "execute_result"
    }
   ],
   "source": [
    "df['name'].unique().shape"
   ]
  },
  {
   "cell_type": "markdown",
   "id": "3ecdfcfd-0bd0-4519-8581-652705d4019e",
   "metadata": {},
   "source": [
    "How many actual MPs ?"
   ]
  },
  {
   "cell_type": "code",
   "execution_count": 713,
   "id": "b602a00e-e2d7-416a-9216-2116b7345255",
   "metadata": {},
   "outputs": [
    {
     "name": "stdout",
     "output_type": "stream",
     "text": [
      "Number of actual MPs: 524\n"
     ]
    }
   ],
   "source": [
    "with open(f\"{DIR}\\\\mp.txt\") as f:\n",
    "    MP = np.array([re.sub(r\"[^a-z. ]\", \"\", line.replace(\"\\n\",\"\").lower().strip()) for line in f.readlines() if line.strip()])\n",
    "    print(\"Number of actual MPs:\", len(MP))"
   ]
  },
  {
   "cell_type": "markdown",
   "id": "416b8366-c224-424f-8904-ed0e118a093c",
   "metadata": {},
   "source": [
    "The number of MPs in the dataframe is greater than the actual number. Let's correct this."
   ]
  },
  {
   "cell_type": "markdown",
   "id": "0ea9d658-4d3d-43e7-9baf-912267a026da",
   "metadata": {},
   "source": [
    "Prime Ministers was sometimes referred to as \"the prime minister\" instead of their names. We have to replace these by their names:\n",
    "* lee kuan yew: 1959-06-05 to 1990-11-28\n",
    "* goh chok tong: 1990-11-28 to 2004-08-12\n",
    "* lee hsien loong: 2004-08-12 to present"
   ]
  },
  {
   "cell_type": "code",
   "execution_count": 714,
   "id": "e9db3a03-77e6-43df-bdca-672406a41421",
   "metadata": {},
   "outputs": [],
   "source": [
    "df.loc[(df['name'] == \"the prime minister\") & (df['date'] < pd.Timestamp(1990, 11, 28)), \"name\"] = 'lee kuan yew'\n",
    "df.loc[(df['name'] == \"the prime minister\") & (df['date'] >= pd.Timestamp(1990, 11, 28)) & (df['date'] < pd.Timestamp(2004, 8, 12)), \"name\"] = 'goh chok tong'\n",
    "df.loc[(df['name'] == \"the prime minister\") & (df['date'] >= pd.Timestamp(2004, 8, 12)), \"name\"] = 'lee hsien loong'"
   ]
  },
  {
   "cell_type": "markdown",
   "id": "e8329d60-dd41-4562-9dfa-38308107e340",
   "metadata": {},
   "source": [
    "Map names to known MPs"
   ]
  },
  {
   "cell_type": "code",
   "execution_count": 715,
   "id": "51963a7d-9ea5-4d3f-a914-b00572e62430",
   "metadata": {},
   "outputs": [],
   "source": [
    "def map_text_to_names(text, names):\n",
    "    for name in names:\n",
    "        if name in text:\n",
    "            return name\n",
    "    return \"\""
   ]
  },
  {
   "cell_type": "code",
   "execution_count": 716,
   "id": "e05e7e7e-6479-4117-84ce-f007d1ca1dff",
   "metadata": {},
   "outputs": [],
   "source": [
    "df['name'] = df['name'].map(lambda text: map_text_to_names(text, MP))"
   ]
  },
  {
   "cell_type": "markdown",
   "id": "978a319d-8cc7-4516-aa45-5814a19830aa",
   "metadata": {},
   "source": [
    "Remove rows with empty names"
   ]
  },
  {
   "cell_type": "code",
   "execution_count": 717,
   "id": "3ba4be25-b32c-4f58-8f76-ff7d166f5f4d",
   "metadata": {},
   "outputs": [],
   "source": [
    "df = df[~(df['name'] == '')]"
   ]
  },
  {
   "cell_type": "markdown",
   "id": "ff99e8f0-3971-4516-b27b-9670b9e69060",
   "metadata": {},
   "source": [
    "Reset index"
   ]
  },
  {
   "cell_type": "code",
   "execution_count": 721,
   "id": "e5450c19-8bb4-46ad-b8c7-e9eb57e4cba9",
   "metadata": {},
   "outputs": [
    {
     "data": {
      "text/plain": [
       "(17188, 6)"
      ]
     },
     "execution_count": 721,
     "metadata": {},
     "output_type": "execute_result"
    }
   ],
   "source": [
    "df = df.reset_index(drop=True)\n",
    "df.shape"
   ]
  },
  {
   "cell_type": "markdown",
   "id": "f2f2ccb9-3400-4585-9735-5519bba5e883",
   "metadata": {},
   "source": []
  },
  {
   "cell_type": "code",
   "execution_count": 27,
   "id": "39e06ef5-8877-47fb-bec5-ab92f6204424",
   "metadata": {},
   "outputs": [],
   "source": []
  },
  {
   "cell_type": "code",
   "execution_count": 28,
   "id": "4a87a65f-8f83-4652-933b-87afa97d23d7",
   "metadata": {},
   "outputs": [],
   "source": []
  },
  {
   "cell_type": "code",
   "execution_count": 29,
   "id": "94e26311-f7b3-4b11-9dc5-195b7caa9195",
   "metadata": {},
   "outputs": [],
   "source": []
  },
  {
   "cell_type": "code",
   "execution_count": 30,
   "id": "6176a306-8d1f-4b1b-97ca-85e0efe3d585",
   "metadata": {},
   "outputs": [],
   "source": []
  },
  {
   "cell_type": "code",
   "execution_count": 31,
   "id": "826bef9d-1cb3-4650-ae78-b6e2452b9986",
   "metadata": {},
   "outputs": [
    {
     "data": {
      "text/html": [
       "<div>\n",
       "<style scoped>\n",
       "    .dataframe tbody tr th:only-of-type {\n",
       "        vertical-align: middle;\n",
       "    }\n",
       "\n",
       "    .dataframe tbody tr th {\n",
       "        vertical-align: top;\n",
       "    }\n",
       "\n",
       "    .dataframe thead th {\n",
       "        text-align: right;\n",
       "    }\n",
       "</style>\n",
       "<table border=\"1\" class=\"dataframe\">\n",
       "  <thead>\n",
       "    <tr style=\"text-align: right;\">\n",
       "      <th></th>\n",
       "      <th>report_id</th>\n",
       "      <th>section</th>\n",
       "      <th>date</th>\n",
       "      <th>title</th>\n",
       "      <th>name</th>\n",
       "      <th>speech</th>\n",
       "    </tr>\n",
       "  </thead>\n",
       "  <tbody>\n",
       "    <tr>\n",
       "      <th>69342</th>\n",
       "      <td>bill-11.json</td>\n",
       "      <td>second reading bills</td>\n",
       "      <td>2018-08-06</td>\n",
       "      <td>transport safety investigations bill</td>\n",
       "      <td></td>\n",
       "      <td>makes clear that tsib may investigate incident...</td>\n",
       "    </tr>\n",
       "    <tr>\n",
       "      <th>69343</th>\n",
       "      <td>bill-11.json</td>\n",
       "      <td>second reading bills</td>\n",
       "      <td>2018-08-06</td>\n",
       "      <td>transport safety investigations bill</td>\n",
       "      <td></td>\n",
       "      <td>clause 16 of the bill sets out the scope of ts...</td>\n",
       "    </tr>\n",
       "    <tr>\n",
       "      <th>69365</th>\n",
       "      <td>bill-12.json</td>\n",
       "      <td>second reading bills</td>\n",
       "      <td>2018-09-10</td>\n",
       "      <td>land transport (enforcement measures) bill</td>\n",
       "      <td></td>\n",
       "      <td>asked about circumstances in which pmds can be...</td>\n",
       "    </tr>\n",
       "    <tr>\n",
       "      <th>69366</th>\n",
       "      <td>bill-12.json</td>\n",
       "      <td>second reading bills</td>\n",
       "      <td>2018-09-10</td>\n",
       "      <td>land transport (enforcement measures) bill</td>\n",
       "      <td></td>\n",
       "      <td>asked whether the proposed penalties for causi...</td>\n",
       "    </tr>\n",
       "    <tr>\n",
       "      <th>69377</th>\n",
       "      <td>bill-12.json</td>\n",
       "      <td>second reading bills</td>\n",
       "      <td>2018-09-10</td>\n",
       "      <td>land transport (enforcement measures) bill</td>\n",
       "      <td></td>\n",
       "      <td></td>\n",
       "    </tr>\n",
       "    <tr>\n",
       "      <th>...</th>\n",
       "      <td>...</td>\n",
       "      <td>...</td>\n",
       "      <td>...</td>\n",
       "      <td>...</td>\n",
       "      <td>...</td>\n",
       "      <td>...</td>\n",
       "    </tr>\n",
       "    <tr>\n",
       "      <th>111161</th>\n",
       "      <td>written-answer-na-9353.json</td>\n",
       "      <td>written answers to questions for oral answer n...</td>\n",
       "      <td>2021-11-01</td>\n",
       "      <td>utilisation rate for category d coes and propo...</td>\n",
       "      <td></td>\n",
       "      <td></td>\n",
       "    </tr>\n",
       "    <tr>\n",
       "      <th>111240</th>\n",
       "      <td>written-answer-na-9470.json</td>\n",
       "      <td>written answers to questions for oral answer n...</td>\n",
       "      <td>2022-01-10</td>\n",
       "      <td>number of students admitted to secondary schoo...</td>\n",
       "      <td></td>\n",
       "      <td></td>\n",
       "    </tr>\n",
       "    <tr>\n",
       "      <th>111401</th>\n",
       "      <td>written-answer-na-9609.json</td>\n",
       "      <td>written answers to questions for oral answer n...</td>\n",
       "      <td>2022-01-10</td>\n",
       "      <td>factors for higher-than-expected inflation in ...</td>\n",
       "      <td></td>\n",
       "      <td></td>\n",
       "    </tr>\n",
       "    <tr>\n",
       "      <th>111649</th>\n",
       "      <td>written-statement-1551.json</td>\n",
       "      <td>correction by written statement</td>\n",
       "      <td>2021-01-05</td>\n",
       "      <td>clarification by minister for foreign affairs ...</td>\n",
       "      <td></td>\n",
       "      <td>of the cpc.</td>\n",
       "    </tr>\n",
       "    <tr>\n",
       "      <th>111666</th>\n",
       "      <td>written-statement-1794.json</td>\n",
       "      <td>correction by written statement</td>\n",
       "      <td>2022-01-11</td>\n",
       "      <td>clarification by senior minister of state for ...</td>\n",
       "      <td></td>\n",
       "      <td>reduction of</td>\n",
       "    </tr>\n",
       "  </tbody>\n",
       "</table>\n",
       "<p>2069 rows × 6 columns</p>\n",
       "</div>"
      ],
      "text/plain": [
       "                          report_id  \\\n",
       "69342                  bill-11.json   \n",
       "69343                  bill-11.json   \n",
       "69365                  bill-12.json   \n",
       "69366                  bill-12.json   \n",
       "69377                  bill-12.json   \n",
       "...                             ...   \n",
       "111161  written-answer-na-9353.json   \n",
       "111240  written-answer-na-9470.json   \n",
       "111401  written-answer-na-9609.json   \n",
       "111649  written-statement-1551.json   \n",
       "111666  written-statement-1794.json   \n",
       "\n",
       "                                                  section       date  \\\n",
       "69342                                second reading bills 2018-08-06   \n",
       "69343                                second reading bills 2018-08-06   \n",
       "69365                                second reading bills 2018-09-10   \n",
       "69366                                second reading bills 2018-09-10   \n",
       "69377                                second reading bills 2018-09-10   \n",
       "...                                                   ...        ...   \n",
       "111161  written answers to questions for oral answer n... 2021-11-01   \n",
       "111240  written answers to questions for oral answer n... 2022-01-10   \n",
       "111401  written answers to questions for oral answer n... 2022-01-10   \n",
       "111649                    correction by written statement 2021-01-05   \n",
       "111666                    correction by written statement 2022-01-11   \n",
       "\n",
       "                                                    title name  \\\n",
       "69342                transport safety investigations bill        \n",
       "69343                transport safety investigations bill        \n",
       "69365          land transport (enforcement measures) bill        \n",
       "69366          land transport (enforcement measures) bill        \n",
       "69377          land transport (enforcement measures) bill        \n",
       "...                                                   ...  ...   \n",
       "111161  utilisation rate for category d coes and propo...        \n",
       "111240  number of students admitted to secondary schoo...        \n",
       "111401  factors for higher-than-expected inflation in ...        \n",
       "111649  clarification by minister for foreign affairs ...        \n",
       "111666  clarification by senior minister of state for ...        \n",
       "\n",
       "                                                   speech  \n",
       "69342   makes clear that tsib may investigate incident...  \n",
       "69343   clause 16 of the bill sets out the scope of ts...  \n",
       "69365   asked about circumstances in which pmds can be...  \n",
       "69366   asked whether the proposed penalties for causi...  \n",
       "69377                                                      \n",
       "...                                                   ...  \n",
       "111161                                                     \n",
       "111240                                                     \n",
       "111401                                                     \n",
       "111649                                        of the cpc.  \n",
       "111666                                       reduction of  \n",
       "\n",
       "[2069 rows x 6 columns]"
      ]
     },
     "execution_count": 31,
     "metadata": {},
     "output_type": "execute_result"
    }
   ],
   "source": [
    "temp[temp['name'] == '']"
   ]
  },
  {
   "cell_type": "code",
   "execution_count": 32,
   "id": "590fdbb3-3e5e-4e8a-8fce-53dc2aabdf89",
   "metadata": {},
   "outputs": [
    {
     "data": {
      "text/plain": [
       "array(['', 'nominated member', 'clarification by member', 'third reading',\n",
       "       'west coast', 'sgtogether or', 'debate on annual budget statement',\n",
       "       'senior parliamentary secretary', '.', 'staystrong and', 'assoc',\n",
       "       'chairma', 'debate on budget statement', 'annual budget statement',\n",
       "       'cedric foo do you wish to withdraw your amendment', 'thank you.',\n",
       "       'adjournment motion',\n",
       "       'preserving green spaces and heritage in jalan kayu constituency',\n",
       "       'future of national service',\n",
       "       'maximising every students potential in classrooms of future',\n",
       "       'arts as integral part of our people and strategic national resource',\n",
       "       'putting commuters first in public transport',\n",
       "       'national service  balancing operational readiness safety and will to fight',\n",
       "       'achieving arts excellence in singapore',\n",
       "       'taking busking to next level',\n",
       "       'liberal education and corruption of youth of singapore',\n",
       "       'providing housing for single unwed parents and their children',\n",
       "       'enhancing role of tripartite alliance for fair and progressive employment practices tafep to tackle workplace and job discrimination',\n",
       "       'building sustainable and vibrant community arts ecosystem',\n",
       "       'why fear fear of failure  imperatives for refining our education system',\n",
       "       'working together towards zerosuicide singapore',\n",
       "       'rational immigration policy in irrational age',\n",
       "       'support for homebased businesses during covid circuit breaker period',\n",
       "       'closing digital divide for sgunited learnings from covid',\n",
       "       'addressing issues that limit artistic expression in everyday places',\n",
       "       'addressing mechanical failure in heavy vehicles leading to fatal accidents',\n",
       "       'towards plasticlite singapore',\n",
       "       'building ready resilient and relevant workforce in financial sector',\n",
       "       'growing new industries that promise economic and noneconomic benefits',\n",
       "       'ensuring peoplecentric desing in pedestrian linkway planning',\n",
       "       'addressing challenges faced by caregivers of children with special needs',\n",
       "       'getting singapore to be sporting nation',\n",
       "       'preserving our heritage culture and history',\n",
       "       'conserving dakota crescent',\n",
       "       'preventing scourge of online gambling in singapore',\n",
       "       'power imbalance in contracts involving small businesses',\n",
       "       'helping children with rare diseases',\n",
       "       'civil claims for negligence arising from safety breaches during saf training',\n",
       "       'coordinating led night illumination in our national infrastructure',\n",
       "       'redundancy insurance', 'extending parental leave',\n",
       "       'community sentencing and other rehabilitative options',\n",
       "       'restricting hate speech to maintain racial and religious harmony in singapore',\n",
       "       'additional support measures in response to covid pandemic',\n",
       "       'debate on ministerial statement',\n",
       "       'governments plans in our continuing fight against covid pandemic',\n",
       "       'o', 'oxley road', 'staying united against terrorism threat',\n",
       "       'ageing with purpose support for caregivers', 'adjournment',\n",
       "       'governance of aljuniedhougang town council', 'edwin tong',\n",
       "       'careshield life', 'minister for social and family development',\n",
       "       'and minister for national development', 'clerk of parliament',\n",
       "       'for minster for health',\n",
       "       'senior minister for reply. i have one supplementary question. increasingly we are beginning to see more of such products being sold online. how does moh monitor online sales of such health supplements',\n",
       "       'mr', 'clarification by minister for trade and industry',\n",
       "       'clarification by minister for education', 'to ask',\n",
       "       'sgunited digital arts festival by making arts accessible and available two whether more can be done to engage our local freelance artists and arts groups for future sifas and for other art events to make local artists and arts companies as preferred choice for programming three can sifa also explore to work with giving.sg to encourage online giving to arts such as turning refund of tickets into donation and that could also apply to other arts companies',\n",
       "       'pasir rispunggol',\n",
       "       'addenda to presidents address at opening of second session of thirteenth parliament on monday  may',\n",
       "       'addenda to presidents address at opening of first session of thirteenth parliament on friday  january',\n",
       "       'presidents speech  address of thanks',\n",
       "       'debate on presidents address', 'presidents speech',\n",
       "       'address of thanks', 'josephine', 'teo', 'me',\n",
       "       'were added to programme without their knowledge they had nothing to do with project and did not receive any invitation',\n",
       "       'consideration', 'when',\n",
       "       'set out why pofma is used. that includes express statement as required by pofma that minister is of opinion that it is in public interest to issue direction',\n",
       "       'mohd fahmi aliman marine parade', 'tampinestvscreen and',\n",
       "       'tampinestingkat and', 'mohd fahmi aliman',\n",
       "       'increasing support for sustenance of livelihoods amongst performing arts workers',\n",
       "       'protection against secondhand smoke in our homes',\n",
       "       'towards full participation of persons with disabilities in singapore society',\n",
       "       'eradicating mental health stigmatisation',\n",
       "       'providing more help for those undergoing invitro fertilisation',\n",
       "       'preservation of dover forest in ulu pandan',\n",
       "       'rule of law judicial review and sunlight of scrutiny',\n",
       "       'ensuring patients interest in healthcare',\n",
       "       'providing child car seats in taxis and private hire cars',\n",
       "       'unending project of building racial harmony in singapore',\n",
       "       'sexuality education in schools as first line of defence against sexual violence',\n",
       "       'strengthening singaporean core',\n",
       "       'feasibility of setting up judicial service commission for judicial officers',\n",
       "       'improving access to and sustainability of rare disease fund',\n",
       "       'nurturing thriving innovative and sustainable hawker industry as cornerstone of singaporean culture',\n",
       "       'using deterrence to tackle secondhand smoke in homes',\n",
       "       'prioritising mental health care and support for singaporeans',\n",
       "       'motorcycle ownership',\n",
       "       'taxation for dynamic and fair st century economy',\n",
       "       'beyond home ownership supporting diverse aspirations through rental housing',\n",
       "       'role of migrant domestic workers in singapores caregiving landscape',\n",
       "       'vaccinateddifferentiated safe management measures',\n",
       "       'rethinking preventive health to generate better outcomes',\n",
       "       'fairer and more inclusive singapore for lowwage migrant workers',\n",
       "       'overview of governments strategy to emerge stronger from covid pandemic',\n",
       "       'review of case of parti liyani v public prosecutor  sghc',\n",
       "       'pritam',\n",
       "       'support measures for phase two heightened alert and phase three heightened alert and support measures for phase two heightened alert',\n",
       "       'debate on ministerial statements made on  july  and on  july',\n",
       "       'accelerate and deepen efforts against climate change', 'motion',\n",
       "       'towards lowcarbon society', 'simultaneous debate on both motions',\n",
       "       'sustainability and environment', 'minister for transport',\n",
       "       'second allotted day', 'metoo and',\n",
       "       'recycleright movement in  to encourage households to recycle more and to recycle right. under the',\n",
       "       'if he or she in his or her discretion concurs with', 'the',\n",
       "       'not on advice', 'he or she', 'investment and interest income',\n",
       "       'it', 'our reserves protection framework', 's', 'closing down to',\n",
       "       '. of cases who were critically ill in icu or died were cases from nursing homes',\n",
       "       'kids', 'content', 'sexual violence', 'khan', 'paragraphs  to',\n",
       "       'schedule to the', 'identify'], dtype=object)"
      ]
     },
     "execution_count": 32,
     "metadata": {},
     "output_type": "execute_result"
    }
   ],
   "source": [
    "unique_new_names = temp['name'].unique()\n",
    "unique_new_names[~np.isin(unique_new_names, MP)]"
   ]
  },
  {
   "cell_type": "code",
   "execution_count": 217,
   "id": "7328bde7-15a6-448b-a406-e017326b25c2",
   "metadata": {},
   "outputs": [
    {
     "name": "stdout",
     "output_type": "stream",
     "text": [
      "[0 0]\n"
     ]
    },
    {
     "ename": "IndexError",
     "evalue": "too many indices for array: array is 1-dimensional, but 2 were indexed",
     "output_type": "error",
     "traceback": [
      "\u001b[1;31m---------------------------------------------------------------------------\u001b[0m",
      "\u001b[1;31mIndexError\u001b[0m                                Traceback (most recent call last)",
      "\u001b[1;32m~\\AppData\\Local\\Temp/ipykernel_19324/397934940.py\u001b[0m in \u001b[0;36m<module>\u001b[1;34m\u001b[0m\n\u001b[0;32m      1\u001b[0m \u001b[1;31m#temp[temp[\"name\"] == \"don wee chua chu kang\"]\u001b[0m\u001b[1;33m\u001b[0m\u001b[1;33m\u001b[0m\u001b[1;33m\u001b[0m\u001b[0m\n\u001b[1;32m----> 2\u001b[1;33m \u001b[0mmap_name_to_mp\u001b[0m\u001b[1;33m(\u001b[0m\u001b[0mnp\u001b[0m\u001b[1;33m.\u001b[0m\u001b[0marray\u001b[0m\u001b[1;33m(\u001b[0m\u001b[1;33m[\u001b[0m\u001b[1;34m\"don wee\"\u001b[0m\u001b[1;33m,\u001b[0m \u001b[1;34m\"goh choon kang\"\u001b[0m\u001b[1;33m]\u001b[0m\u001b[1;33m)\u001b[0m\u001b[1;33m,\u001b[0m \u001b[0mnp\u001b[0m\u001b[1;33m.\u001b[0m\u001b[0marray\u001b[0m\u001b[1;33m(\u001b[0m\u001b[1;33m[\u001b[0m\u001b[1;34m\"don wee chua chu kang\"\u001b[0m\u001b[1;33m,\u001b[0m \u001b[1;34m\"???\"\u001b[0m\u001b[1;33m]\u001b[0m\u001b[1;33m)\u001b[0m\u001b[1;33m)\u001b[0m\u001b[1;33m\u001b[0m\u001b[1;33m\u001b[0m\u001b[0m\n\u001b[0m",
      "\u001b[1;32m~\\AppData\\Local\\Temp/ipykernel_19324/1635984996.py\u001b[0m in \u001b[0;36mmap_name_to_mp\u001b[1;34m(mp, names)\u001b[0m\n\u001b[0;32m      9\u001b[0m     \u001b[0mmatches\u001b[0m \u001b[1;33m=\u001b[0m \u001b[0mnp\u001b[0m\u001b[1;33m.\u001b[0m\u001b[0margmin\u001b[0m\u001b[1;33m(\u001b[0m\u001b[0mdistances\u001b[0m\u001b[1;33m,\u001b[0m \u001b[0maxis\u001b[0m\u001b[1;33m=\u001b[0m\u001b[1;36m1\u001b[0m\u001b[1;33m)\u001b[0m\u001b[1;33m\u001b[0m\u001b[1;33m\u001b[0m\u001b[0m\n\u001b[0;32m     10\u001b[0m     \u001b[0mprint\u001b[0m\u001b[1;33m(\u001b[0m\u001b[0mmatches\u001b[0m\u001b[1;33m)\u001b[0m\u001b[1;33m\u001b[0m\u001b[1;33m\u001b[0m\u001b[0m\n\u001b[1;32m---> 11\u001b[1;33m     \u001b[0mmatched_idx\u001b[0m \u001b[1;33m=\u001b[0m \u001b[0mmatches\u001b[0m\u001b[1;33m[\u001b[0m\u001b[1;33m:\u001b[0m\u001b[1;33m,\u001b[0m\u001b[1;36m0\u001b[0m\u001b[1;33m]\u001b[0m\u001b[1;33m\u001b[0m\u001b[1;33m\u001b[0m\u001b[0m\n\u001b[0m\u001b[0;32m     12\u001b[0m     \u001b[0mmatched_names\u001b[0m \u001b[1;33m=\u001b[0m \u001b[0mmp\u001b[0m\u001b[1;33m[\u001b[0m\u001b[0mmatches\u001b[0m\u001b[1;33m[\u001b[0m\u001b[1;33m:\u001b[0m\u001b[1;33m,\u001b[0m\u001b[1;36m1\u001b[0m\u001b[1;33m]\u001b[0m\u001b[1;33m]\u001b[0m\u001b[1;33m\u001b[0m\u001b[1;33m\u001b[0m\u001b[0m\n\u001b[0;32m     13\u001b[0m     \u001b[0mmapping\u001b[0m \u001b[1;33m=\u001b[0m \u001b[0mnames\u001b[0m\u001b[1;33m[\u001b[0m\u001b[1;33m:\u001b[0m\u001b[1;33m]\u001b[0m\u001b[1;33m\u001b[0m\u001b[1;33m\u001b[0m\u001b[0m\n",
      "\u001b[1;31mIndexError\u001b[0m: too many indices for array: array is 1-dimensional, but 2 were indexed"
     ]
    }
   ],
   "source": [
    "#temp[temp[\"name\"] == \"don wee chua chu kang\"]\n",
    "map_name_to_mp(np.array([\"don wee\", \"goh choon kang\"]), np.array([\"don wee chua chu kang\", \"???\"]))"
   ]
  },
  {
   "cell_type": "code",
   "execution_count": null,
   "id": "eaf0902f-7b77-4203-a98d-80290b172c3f",
   "metadata": {},
   "outputs": [],
   "source": []
  },
  {
   "cell_type": "code",
   "execution_count": null,
   "id": "1f5e1c70-407b-4731-9cfc-879c8e37bac3",
   "metadata": {},
   "outputs": [],
   "source": []
  },
  {
   "cell_type": "code",
   "execution_count": null,
   "id": "8a1659e7-fac1-4531-a028-27cd8d4144ba",
   "metadata": {},
   "outputs": [],
   "source": []
  },
  {
   "cell_type": "code",
   "execution_count": null,
   "id": "f31d24ab-23dd-4fd7-939c-112e5117e3f2",
   "metadata": {},
   "outputs": [],
   "source": [
    "df[df[\"name\"].str.contains(\"speaker\")][\"name\"].unique()"
   ]
  },
  {
   "cell_type": "code",
   "execution_count": null,
   "id": "3519524a-a371-4260-bbfb-ca5a323ce93e",
   "metadata": {},
   "outputs": [],
   "source": [
    "df = df[~df[\"name\"].str.contains(\"speaker\")]"
   ]
  },
  {
   "cell_type": "code",
   "execution_count": null,
   "id": "3fbffc60-642d-45c3-ab3f-d6d3a9250365",
   "metadata": {},
   "outputs": [],
   "source": [
    "from utils import lcs\n",
    "def filter_name(name, namelist):\n",
    "    for v in namelist:\n",
    "        if v in name:\n",
    "            return v\n",
    "    return name\n",
    "df['name'] = df['name'].map(lambda name: filter_name(name, mp_names))"
   ]
  },
  {
   "cell_type": "code",
   "execution_count": 42,
   "id": "4ed70028-f924-47a4-bf0f-33ecede2e439",
   "metadata": {},
   "outputs": [],
   "source": [
    "#df['name'].unique().tolist()"
   ]
  },
  {
   "cell_type": "code",
   "execution_count": null,
   "id": "bdf5e62b-b4fe-4ca4-bf32-d82e31faf914",
   "metadata": {},
   "outputs": [],
   "source": []
  },
  {
   "cell_type": "code",
   "execution_count": null,
   "id": "ad48da82-d8e8-44d3-8e62-78dae3678674",
   "metadata": {
    "tags": []
   },
   "outputs": [],
   "source": [
    "def extract_name(s, samples):\n",
    "    def append_dot_if_single(w):\n",
    "        if len(w) == 1:\n",
    "            return w + \".\"\n",
    "        return w\n",
    "    name = \" \".join([append_dot_if_single(w) for w in s.split()])\n",
    "    for sample in samples:\n",
    "        if sample in name:\n",
    "            return sample.strip()\n",
    "    return np.nan\n",
    "df['name'] = df['name'].map(lambda c: extract_name(c, mp))"
   ]
  },
  {
   "cell_type": "code",
   "execution_count": null,
   "id": "56af0f64-a87a-4675-bfd4-ce3b8841d21a",
   "metadata": {},
   "outputs": [],
   "source": [
    "df = df.dropna()\n",
    "df['name'].unique().shape"
   ]
  },
  {
   "cell_type": "markdown",
   "id": "22953b58-7e0c-4f8c-a331-878ba0b3909a",
   "metadata": {},
   "source": [
    "then convert it to categorical data"
   ]
  },
  {
   "cell_type": "code",
   "execution_count": null,
   "id": "b5b530b7-6fc1-4b15-9da3-176f859de9fc",
   "metadata": {},
   "outputs": [],
   "source": [
    "df[\"name\"] = df[\"name\"].astype(\"category\")\n",
    "df.shape"
   ]
  },
  {
   "cell_type": "markdown",
   "id": "c0709a96-157a-4be2-8d75-37e36cd9c0d9",
   "metadata": {},
   "source": [
    "### Merge similar sections"
   ]
  },
  {
   "cell_type": "markdown",
   "id": "246c6040-8e9f-4b1b-a933-e4d1d3509113",
   "metadata": {},
   "source": [
    "How many types of sections?"
   ]
  },
  {
   "cell_type": "code",
   "execution_count": null,
   "id": "033506d4-0471-47da-a3fe-ad03a5c423ca",
   "metadata": {},
   "outputs": [],
   "source": [
    "df['section'].unique()"
   ]
  },
  {
   "cell_type": "markdown",
   "id": "a1bb1727-1e5e-4ec2-b7ba-03556358c3c1",
   "metadata": {},
   "source": [
    "Reduce the number of sections by merging similar ones"
   ]
  },
  {
   "cell_type": "markdown",
   "id": "760ecf4c-d441-4ea8-a025-4fe6a5dd3720",
   "metadata": {},
   "source": [
    "Merge all \"..answer to question..\" into \"answers to questions\""
   ]
  },
  {
   "cell_type": "code",
   "execution_count": null,
   "id": "beaa5545-e0b0-43c1-a713-ced897703c1a",
   "metadata": {},
   "outputs": [],
   "source": [
    "df['section'] = df['section'].map(lambda c: 'answers to questions' if re.search(r\"answer(s?) to question(s?)\", c) else c)"
   ]
  },
  {
   "cell_type": "markdown",
   "id": "b2167623-db36-4a01-bb40-c3d06e8db435",
   "metadata": {},
   "source": [
    "Merge all \"..motion..\" into \"motions\""
   ]
  },
  {
   "cell_type": "code",
   "execution_count": null,
   "id": "4b71759b-f06c-41c0-bff4-559d3789f0dc",
   "metadata": {},
   "outputs": [],
   "source": [
    "df['section'] = df['section'].map(lambda c: 'motions' if re.search(r\"motion(s?)\", c) else c)"
   ]
  },
  {
   "cell_type": "markdown",
   "id": "c6540476-346c-40b4-a498-42dd309dd31e",
   "metadata": {},
   "source": [
    "Merge \"bills\" and \"second reading bills\" into \"bills\""
   ]
  },
  {
   "cell_type": "code",
   "execution_count": null,
   "id": "6b33a68e-2a9b-4197-ad78-e43ae4dd8728",
   "metadata": {},
   "outputs": [],
   "source": [
    "df['section'] = df['section'].map(lambda c: 'bills' if re.search(r\"bill(s?)\", c) else c)"
   ]
  },
  {
   "cell_type": "markdown",
   "id": "83cf5138-1f93-4234-97ba-59fe8312f6de",
   "metadata": {},
   "source": [
    "Convert it to categorical data"
   ]
  },
  {
   "cell_type": "code",
   "execution_count": null,
   "id": "fb97be2c-2a2e-4db8-944d-b5a697eae847",
   "metadata": {},
   "outputs": [],
   "source": [
    "df[\"section\"] = df[\"section\"].astype(\"category\")"
   ]
  },
  {
   "cell_type": "markdown",
   "id": "eebbf254-7c58-4e1a-b8d8-7a92b6170c94",
   "metadata": {},
   "source": [
    "Sort the data frame by descending date"
   ]
  },
  {
   "cell_type": "code",
   "execution_count": null,
   "id": "498f51ba-dd89-4991-8416-cf4e718c0b56",
   "metadata": {},
   "outputs": [],
   "source": [
    "df = df.sort_values('date', ascending=False).reset_index(drop=True)\n",
    "df.head()"
   ]
  },
  {
   "cell_type": "markdown",
   "id": "8de7ae5c-9e20-4705-a6f9-28d20b039a3d",
   "metadata": {},
   "source": [
    "# Text statistics"
   ]
  },
  {
   "cell_type": "markdown",
   "id": "b938dc16-fc8d-4315-a72d-d235e3844665",
   "metadata": {},
   "source": [
    "Calculate length of speech in terms of characters and words"
   ]
  },
  {
   "cell_type": "code",
   "execution_count": null,
   "id": "352c90e4-789c-45cc-9954-f3f59ff0d8fe",
   "metadata": {},
   "outputs": [],
   "source": [
    "stat_df = df.copy()\n",
    "stat_df['speech_length_characters'] = stat_df['speech'].str.len()\n",
    "stat_df['speech_length_words'] = stat_df['speech'].str.split().map(lambda x: len(x))\n",
    "stat_df.head()"
   ]
  },
  {
   "cell_type": "markdown",
   "id": "91f62d50-bea7-485f-a7c3-83d33e3263c2",
   "metadata": {},
   "source": [
    "Distribution of the number of characters"
   ]
  },
  {
   "cell_type": "code",
   "execution_count": null,
   "id": "10af2839-3095-4daa-ba82-4d251176bb51",
   "metadata": {},
   "outputs": [],
   "source": [
    "bins = np.arange(0,stat_df['speech_length_characters'].max(),10)\n",
    "plt.hist(stat_df['speech_length_characters'], bins=bins, density=True)\n",
    "#plt.xscale('log')\n",
    "#plt.yscale('log')\n",
    "plt.show()"
   ]
  },
  {
   "cell_type": "markdown",
   "id": "f3c9cc93-ce1e-4e5b-a666-4838bbefa5df",
   "metadata": {},
   "source": [
    "Distribution of the number of words"
   ]
  },
  {
   "cell_type": "code",
   "execution_count": null,
   "id": "835711e9-79ad-4fb5-82a7-84631dfad096",
   "metadata": {},
   "outputs": [],
   "source": [
    "bins = np.arange(0,stat_df['speech_length_words'].max(),10)\n",
    "plt.hist(stat_df['speech_length_words'], bins=bins, density=True)\n",
    "plt.xscale('log')\n",
    "plt.yscale('log')\n",
    "plt.show()"
   ]
  },
  {
   "cell_type": "markdown",
   "id": "ee8046b2-7757-4d4d-9619-c8df9369296d",
   "metadata": {},
   "source": [
    "Number of speeches per MP"
   ]
  },
  {
   "cell_type": "code",
   "execution_count": null,
   "id": "49903dd5-d7bc-4ae0-a88d-634f7d900a2a",
   "metadata": {},
   "outputs": [],
   "source": [
    "speech_dist = stat_df[['name','speech', 'speech_length_words', 'speech_length_characters']].groupby(['name']).agg({\n",
    "    \"speech\": [\"count\"], \n",
    "    \"speech_length_words\": [\"max\", \"min\", \"mean\", \"median\", \"std\"], \n",
    "    \"speech_length_characters\": [\"max\", \"min\", \"mean\", \"median\", \"std\"]})\n",
    "speech_dist = speech_dist.sort_values([('speech','count')], ascending=False).reset_index()\n",
    "speech_dist"
   ]
  },
  {
   "cell_type": "code",
   "execution_count": null,
   "id": "d3b8848c-681e-4930-b27a-7a824b0441cc",
   "metadata": {},
   "outputs": [],
   "source": [
    "rcParams['figure.figsize'] = 10, 5 \n",
    "bins = np.arange(0, max(speech_dist[('speech','count')]), 50)\n",
    "plt.hist(speech_dist[('speech','count')], bins=bins)\n",
    "plt.xscale('log')\n",
    "plt.yscale('log')\n",
    "plt.xlabel(\"Number of speeches per MP\")\n",
    "plt.ylabel(\"Number of MPs\")\n",
    "plt.show()"
   ]
  },
  {
   "cell_type": "markdown",
   "id": "17ce015a-12b4-46c9-8da3-226784804a87",
   "metadata": {},
   "source": [
    "# 14th parliament"
   ]
  },
  {
   "cell_type": "code",
   "execution_count": null,
   "id": "a1f8412c-6250-40b7-b8a9-075c2bb8d505",
   "metadata": {},
   "outputs": [],
   "source": [
    "parliament14_df = df[df['date'] >= '2020-08-24']\n",
    "parliament14_df"
   ]
  },
  {
   "cell_type": "code",
   "execution_count": null,
   "id": "7e7cd364-7d64-4f77-ac1d-11434bf7258b",
   "metadata": {},
   "outputs": [],
   "source": []
  },
  {
   "cell_type": "code",
   "execution_count": null,
   "id": "3bb8e4b1-4497-40ec-b9b6-129031f6e144",
   "metadata": {},
   "outputs": [],
   "source": []
  },
  {
   "cell_type": "code",
   "execution_count": null,
   "id": "5901623b-3497-4e16-bd01-78b7f31f8772",
   "metadata": {},
   "outputs": [],
   "source": []
  },
  {
   "cell_type": "code",
   "execution_count": null,
   "id": "9fe7096f-a892-4642-8992-ecac5f524369",
   "metadata": {},
   "outputs": [],
   "source": []
  },
  {
   "cell_type": "code",
   "execution_count": null,
   "id": "d6c4407d-d377-48c6-b22e-31ef13082d55",
   "metadata": {},
   "outputs": [],
   "source": []
  }
 ],
 "metadata": {
  "kernelspec": {
   "display_name": "Python 3 (ipykernel)",
   "language": "python",
   "name": "python3"
  },
  "language_info": {
   "codemirror_mode": {
    "name": "ipython",
    "version": 3
   },
   "file_extension": ".py",
   "mimetype": "text/x-python",
   "name": "python",
   "nbconvert_exporter": "python",
   "pygments_lexer": "ipython3",
   "version": "3.8.12"
  }
 },
 "nbformat": 4,
 "nbformat_minor": 5
}
