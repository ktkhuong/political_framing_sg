{
 "cells": [
  {
   "cell_type": "code",
   "execution_count": 1,
   "id": "f070a640-2ece-4eb5-ac60-a303508b4a50",
   "metadata": {},
   "outputs": [],
   "source": [
    "import numpy as np\n",
    "import matplotlib.pyplot as plt\n",
    "import pandas as pd\n",
    "import re\n",
    "\n",
    "%matplotlib inline\n",
    "%config InlineBackend.figure_format = 'retina'"
   ]
  },
  {
   "cell_type": "code",
   "execution_count": null,
   "id": "6fcdf289-a89f-4abf-9bb8-758012bbe7e3",
   "metadata": {},
   "outputs": [],
   "source": []
  },
  {
   "cell_type": "markdown",
   "id": "6b93d35a-5c4c-48d5-90fc-57f4ac1130bd",
   "metadata": {},
   "source": [
    "# Data Cleaning"
   ]
  },
  {
   "cell_type": "code",
   "execution_count": 2,
   "id": "7c165ec5-1672-4124-9998-ff5d3a3bd497",
   "metadata": {},
   "outputs": [],
   "source": [
    "from unidecode import unidecode\n",
    "import os, json\n",
    "import datetime\n",
    "def format_date(date):\n",
    "    day, month, year = date.split(\"-\")\n",
    "    return datetime.datetime(int(year), int(month), int(day)).strftime(\"%Y-%m-%d\")\n",
    "                                  \n",
    "def speeches_from_json(json_file):\n",
    "    with open(json_file, \"r\") as f:\n",
    "        data = json.load(f)\n",
    "    return [{\n",
    "        #\"report_id\": json_file.split(\"\\\\\")[-1], \n",
    "        \"section\": data[\"section\"], \n",
    "        \"date\": format_date(data[\"date\"]),\n",
    "        \"topic\": data[\"title\"],\n",
    "        \"name\": unidecode(speech[\"name\"] or ''),\n",
    "        \"speech\": unidecode(speech[\"speech\"] or ''),\n",
    "    } for speech in data[\"speeches\"]]"
   ]
  },
  {
   "cell_type": "markdown",
   "id": "9a56c2c2-4254-4e3f-acef-a71ef7a82d57",
   "metadata": {},
   "source": [
    "First, load all json files"
   ]
  },
  {
   "cell_type": "code",
   "execution_count": 3,
   "id": "f80c5a19-ed4e-4315-adc6-e1f97e292961",
   "metadata": {},
   "outputs": [],
   "source": [
    "DIR = \".\\\\parliament\""
   ]
  },
  {
   "cell_type": "code",
   "execution_count": 4,
   "id": "243c335b-a131-4bf4-b0ce-9b42c6693c3b",
   "metadata": {},
   "outputs": [],
   "source": [
    "speeches = [speech for parliament_number in os.listdir(DIR) if not parliament_number.endswith(\".txt\")\n",
    "                   for f in os.listdir(f\"{DIR}\\\\{parliament_number}\") if f.lower().endswith(\".json\") \n",
    "                   for speech in speeches_from_json(f\"{DIR}\\\\{parliament_number}\\\\{f}\")]"
   ]
  },
  {
   "cell_type": "markdown",
   "id": "effbde1a-c753-443f-8f6f-6933f54f8910",
   "metadata": {},
   "source": [
    "Create a data frame"
   ]
  },
  {
   "cell_type": "code",
   "execution_count": 5,
   "id": "c8a38f81-2f64-42ac-b75c-68755cad65a9",
   "metadata": {},
   "outputs": [
    {
     "name": "stdout",
     "output_type": "stream",
     "text": [
      "<class 'pandas.core.frame.DataFrame'>\n",
      "RangeIndex: 203062 entries, 0 to 203061\n",
      "Data columns (total 5 columns):\n",
      " #   Column   Non-Null Count   Dtype \n",
      "---  ------   --------------   ----- \n",
      " 0   section  203062 non-null  object\n",
      " 1   date     203062 non-null  object\n",
      " 2   topic    203062 non-null  object\n",
      " 3   name     203062 non-null  object\n",
      " 4   speech   203062 non-null  object\n",
      "dtypes: object(5)\n",
      "memory usage: 7.7+ MB\n"
     ]
    }
   ],
   "source": [
    "df = pd.DataFrame.from_records(speeches)\n",
    "df.info()"
   ]
  },
  {
   "cell_type": "code",
   "execution_count": 6,
   "id": "cc5ecc47-b810-425d-a46c-e4e74560af4d",
   "metadata": {},
   "outputs": [
    {
     "data": {
      "text/html": [
       "<div>\n",
       "<style scoped>\n",
       "    .dataframe tbody tr th:only-of-type {\n",
       "        vertical-align: middle;\n",
       "    }\n",
       "\n",
       "    .dataframe tbody tr th {\n",
       "        vertical-align: top;\n",
       "    }\n",
       "\n",
       "    .dataframe thead th {\n",
       "        text-align: right;\n",
       "    }\n",
       "</style>\n",
       "<table border=\"1\" class=\"dataframe\">\n",
       "  <thead>\n",
       "    <tr style=\"text-align: right;\">\n",
       "      <th></th>\n",
       "      <th>section</th>\n",
       "      <th>date</th>\n",
       "      <th>topic</th>\n",
       "      <th>name</th>\n",
       "      <th>speech</th>\n",
       "    </tr>\n",
       "  </thead>\n",
       "  <tbody>\n",
       "    <tr>\n",
       "      <th>0</th>\n",
       "      <td>BILLS</td>\n",
       "      <td>1965-12-13</td>\n",
       "      <td>CONSTITUTION (AMENDMENT) BILL</td>\n",
       "      <td>CONSTITUTION (AMENDMENT) BILL</td>\n",
       "      <td></td>\n",
       "    </tr>\n",
       "    <tr>\n",
       "      <th>1</th>\n",
       "      <td>BILLS</td>\n",
       "      <td>1965-12-13</td>\n",
       "      <td>CONSTITUTION (AMENDMENT) BILL</td>\n",
       "      <td>First Reading</td>\n",
       "      <td></td>\n",
       "    </tr>\n",
       "    <tr>\n",
       "      <th>2</th>\n",
       "      <td>BILLS</td>\n",
       "      <td>1965-12-13</td>\n",
       "      <td>CONSTITUTION (AMENDMENT) BILL</td>\n",
       "      <td>The Prime Minister:</td>\n",
       "      <td>Mr Speaker, Sir, I have His Excellency the Yan...</td>\n",
       "    </tr>\n",
       "    <tr>\n",
       "      <th>3</th>\n",
       "      <td>BILLS</td>\n",
       "      <td>1965-12-13</td>\n",
       "      <td>CONSTITUTION (AMENDMENT) BILL</td>\n",
       "      <td>Second Reading</td>\n",
       "      <td></td>\n",
       "    </tr>\n",
       "    <tr>\n",
       "      <th>4</th>\n",
       "      <td>BILLS</td>\n",
       "      <td>1965-12-13</td>\n",
       "      <td>CONSTITUTION (AMENDMENT) BILL</td>\n",
       "      <td>Mr Speaker:</td>\n",
       "      <td>Second Reading, what day?</td>\n",
       "    </tr>\n",
       "  </tbody>\n",
       "</table>\n",
       "</div>"
      ],
      "text/plain": [
       "  section        date                          topic  \\\n",
       "0   BILLS  1965-12-13  CONSTITUTION (AMENDMENT) BILL   \n",
       "1   BILLS  1965-12-13  CONSTITUTION (AMENDMENT) BILL   \n",
       "2   BILLS  1965-12-13  CONSTITUTION (AMENDMENT) BILL   \n",
       "3   BILLS  1965-12-13  CONSTITUTION (AMENDMENT) BILL   \n",
       "4   BILLS  1965-12-13  CONSTITUTION (AMENDMENT) BILL   \n",
       "\n",
       "                            name  \\\n",
       "0  CONSTITUTION (AMENDMENT) BILL   \n",
       "1                  First Reading   \n",
       "2            The Prime Minister:   \n",
       "3                 Second Reading   \n",
       "4                    Mr Speaker:   \n",
       "\n",
       "                                              speech  \n",
       "0                                                     \n",
       "1                                                     \n",
       "2  Mr Speaker, Sir, I have His Excellency the Yan...  \n",
       "3                                                     \n",
       "4                          Second Reading, what day?  "
      ]
     },
     "execution_count": 6,
     "metadata": {},
     "output_type": "execute_result"
    }
   ],
   "source": [
    "df.head()"
   ]
  },
  {
   "cell_type": "markdown",
   "id": "a85669c8-1b6f-42d4-8fb0-b1e986609d98",
   "metadata": {},
   "source": [
    "Drop rows with empty names and speeches"
   ]
  },
  {
   "cell_type": "code",
   "execution_count": 7,
   "id": "40dea3c5-0d98-471f-8c91-02e691c952f2",
   "metadata": {},
   "outputs": [],
   "source": [
    "df = df.dropna()"
   ]
  },
  {
   "cell_type": "markdown",
   "id": "4a80b301-87cd-4c21-97a9-c3a469e7cf74",
   "metadata": {},
   "source": [
    "### Convert 'date' from string to datetime"
   ]
  },
  {
   "cell_type": "code",
   "execution_count": 8,
   "id": "d5ddc214-0cee-4c4f-94aa-535048ba3189",
   "metadata": {},
   "outputs": [],
   "source": [
    "df['date'] = pd.to_datetime(df['date'])"
   ]
  },
  {
   "cell_type": "markdown",
   "id": "19ad98ea-c979-471b-9326-39e0287953ca",
   "metadata": {},
   "source": [
    "### Normalize case"
   ]
  },
  {
   "cell_type": "code",
   "execution_count": 9,
   "id": "53fa6714-0d9b-4a8e-9e39-0c8ade403679",
   "metadata": {},
   "outputs": [],
   "source": [
    "def normalize_case(text):\n",
    "    return text.lower()"
   ]
  },
  {
   "cell_type": "code",
   "execution_count": 10,
   "id": "e19ebd8b-f5c2-4dca-acf8-45c483540d06",
   "metadata": {},
   "outputs": [],
   "source": [
    "df['section'] = df['section'].map(normalize_case)\n",
    "df['topic'] = df['topic'].map(normalize_case)\n",
    "df['name'] = df['name'].map(normalize_case)\n",
    "df['speech'] = df['speech'].map(normalize_case)"
   ]
  },
  {
   "cell_type": "code",
   "execution_count": 11,
   "id": "a179819f-e055-46e4-9dff-c26f059d4069",
   "metadata": {},
   "outputs": [],
   "source": [
    "#df['topic'] = df['topic'].map(lambda text: re.sub(r\"[^a-z. ]\", \"\", text))\n",
    "df['name'] = df['name'].map(lambda text: re.sub(r\"[^a-z. ]\", \"\", text))\n",
    "#df['speech'] = df['speech'].map(remove_punctuations)"
   ]
  },
  {
   "cell_type": "code",
   "execution_count": 12,
   "id": "fac448c5-c4c3-405b-99c1-daff8e39480b",
   "metadata": {},
   "outputs": [
    {
     "data": {
      "text/html": [
       "<div>\n",
       "<style scoped>\n",
       "    .dataframe tbody tr th:only-of-type {\n",
       "        vertical-align: middle;\n",
       "    }\n",
       "\n",
       "    .dataframe tbody tr th {\n",
       "        vertical-align: top;\n",
       "    }\n",
       "\n",
       "    .dataframe thead th {\n",
       "        text-align: right;\n",
       "    }\n",
       "</style>\n",
       "<table border=\"1\" class=\"dataframe\">\n",
       "  <thead>\n",
       "    <tr style=\"text-align: right;\">\n",
       "      <th></th>\n",
       "      <th>section</th>\n",
       "      <th>date</th>\n",
       "      <th>topic</th>\n",
       "      <th>name</th>\n",
       "      <th>speech</th>\n",
       "    </tr>\n",
       "  </thead>\n",
       "  <tbody>\n",
       "    <tr>\n",
       "      <th>0</th>\n",
       "      <td>bills</td>\n",
       "      <td>1965-12-13</td>\n",
       "      <td>constitution (amendment) bill</td>\n",
       "      <td>constitution amendment bill</td>\n",
       "      <td></td>\n",
       "    </tr>\n",
       "    <tr>\n",
       "      <th>1</th>\n",
       "      <td>bills</td>\n",
       "      <td>1965-12-13</td>\n",
       "      <td>constitution (amendment) bill</td>\n",
       "      <td>first reading</td>\n",
       "      <td></td>\n",
       "    </tr>\n",
       "    <tr>\n",
       "      <th>2</th>\n",
       "      <td>bills</td>\n",
       "      <td>1965-12-13</td>\n",
       "      <td>constitution (amendment) bill</td>\n",
       "      <td>the prime minister</td>\n",
       "      <td>mr speaker, sir, i have his excellency the yan...</td>\n",
       "    </tr>\n",
       "    <tr>\n",
       "      <th>3</th>\n",
       "      <td>bills</td>\n",
       "      <td>1965-12-13</td>\n",
       "      <td>constitution (amendment) bill</td>\n",
       "      <td>second reading</td>\n",
       "      <td></td>\n",
       "    </tr>\n",
       "    <tr>\n",
       "      <th>4</th>\n",
       "      <td>bills</td>\n",
       "      <td>1965-12-13</td>\n",
       "      <td>constitution (amendment) bill</td>\n",
       "      <td>mr speaker</td>\n",
       "      <td>second reading, what day?</td>\n",
       "    </tr>\n",
       "  </tbody>\n",
       "</table>\n",
       "</div>"
      ],
      "text/plain": [
       "  section       date                          topic  \\\n",
       "0   bills 1965-12-13  constitution (amendment) bill   \n",
       "1   bills 1965-12-13  constitution (amendment) bill   \n",
       "2   bills 1965-12-13  constitution (amendment) bill   \n",
       "3   bills 1965-12-13  constitution (amendment) bill   \n",
       "4   bills 1965-12-13  constitution (amendment) bill   \n",
       "\n",
       "                          name  \\\n",
       "0  constitution amendment bill   \n",
       "1                first reading   \n",
       "2           the prime minister   \n",
       "3               second reading   \n",
       "4                   mr speaker   \n",
       "\n",
       "                                              speech  \n",
       "0                                                     \n",
       "1                                                     \n",
       "2  mr speaker, sir, i have his excellency the yan...  \n",
       "3                                                     \n",
       "4                          second reading, what day?  "
      ]
     },
     "execution_count": 12,
     "metadata": {},
     "output_type": "execute_result"
    }
   ],
   "source": [
    "df.head()"
   ]
  },
  {
   "cell_type": "markdown",
   "id": "c25beecb-663f-4c17-a696-58107cedba10",
   "metadata": {},
   "source": [
    "# 13th Parliament"
   ]
  },
  {
   "cell_type": "code",
   "execution_count": 13,
   "id": "c170be60-6b25-41e1-bf8a-18e3f75dd31f",
   "metadata": {},
   "outputs": [
    {
     "data": {
      "text/plain": [
       "(21616, 5)"
      ]
     },
     "execution_count": 13,
     "metadata": {},
     "output_type": "execute_result"
    }
   ],
   "source": [
    "df = df[(df['date'] >= pd.Timestamp(2016, 1, 15)) & (df['date'] <= pd.Timestamp(2020, 6, 23))]\n",
    "df.shape"
   ]
  },
  {
   "cell_type": "markdown",
   "id": "9c68e718-e99b-4d3c-b6ef-610af5baa2c1",
   "metadata": {},
   "source": [
    "Remove punctations from names"
   ]
  },
  {
   "cell_type": "code",
   "execution_count": 14,
   "id": "f4ce8a98-2c83-4231-a578-10140269fc69",
   "metadata": {},
   "outputs": [],
   "source": [
    "df['name'] = df['name'].map(lambda text: re.sub(r\"[^a-z. ]\", \"\", text))"
   ]
  },
  {
   "cell_type": "markdown",
   "id": "8740d179-0995-4ee9-a0fd-ab0afb7103bd",
   "metadata": {},
   "source": [
    "Delete rows with empty names and speeches"
   ]
  },
  {
   "cell_type": "code",
   "execution_count": 15,
   "id": "6dcc1793-5996-4ef1-949e-264a6fc9a4a7",
   "metadata": {},
   "outputs": [
    {
     "data": {
      "text/plain": [
       "(21205, 5)"
      ]
     },
     "execution_count": 15,
     "metadata": {},
     "output_type": "execute_result"
    }
   ],
   "source": [
    "df = df[~(df['name'] == '')]\n",
    "df = df[~(df['speech'] == '')]\n",
    "df.shape"
   ]
  },
  {
   "cell_type": "markdown",
   "id": "91eddefe-993c-4df7-885c-b0576cbaff61",
   "metadata": {},
   "source": [
    "### Map MPs' names"
   ]
  },
  {
   "cell_type": "markdown",
   "id": "4f0c728c-70ab-4a31-bc88-5e4cabad75ac",
   "metadata": {},
   "source": [
    "How many MPs in the data frame?"
   ]
  },
  {
   "cell_type": "code",
   "execution_count": 16,
   "id": "47e94012-fa35-4564-958d-9a96f0267ee8",
   "metadata": {},
   "outputs": [
    {
     "data": {
      "text/plain": [
       "(624,)"
      ]
     },
     "execution_count": 16,
     "metadata": {},
     "output_type": "execute_result"
    }
   ],
   "source": [
    "df['name'].unique().shape"
   ]
  },
  {
   "cell_type": "markdown",
   "id": "3ecdfcfd-0bd0-4519-8581-652705d4019e",
   "metadata": {},
   "source": [
    "How many actual MPs ?"
   ]
  },
  {
   "cell_type": "code",
   "execution_count": 17,
   "id": "b602a00e-e2d7-416a-9216-2116b7345255",
   "metadata": {},
   "outputs": [
    {
     "name": "stdout",
     "output_type": "stream",
     "text": [
      "Number of actual MPs: 524\n"
     ]
    }
   ],
   "source": [
    "with open(f\"{DIR}\\\\mp.txt\") as f:\n",
    "    MP = np.array([re.sub(r\"[^a-z. ]\", \"\", line.replace(\"\\n\",\"\").lower().strip()) for line in f.readlines() if line.strip()])\n",
    "    print(\"Number of actual MPs:\", len(MP))"
   ]
  },
  {
   "cell_type": "markdown",
   "id": "416b8366-c224-424f-8904-ed0e118a093c",
   "metadata": {},
   "source": [
    "The number of MPs in the dataframe is greater than the actual number. Let's correct this."
   ]
  },
  {
   "cell_type": "markdown",
   "id": "0ea9d658-4d3d-43e7-9baf-912267a026da",
   "metadata": {},
   "source": [
    "Prime Ministers was sometimes referred to as \"the prime minister\" instead of their names. We have to replace these by their names:\n",
    "* lee kuan yew: 1959-06-05 to 1990-11-28\n",
    "* goh chok tong: 1990-11-28 to 2004-08-12\n",
    "* lee hsien loong: 2004-08-12 to present"
   ]
  },
  {
   "cell_type": "code",
   "execution_count": 18,
   "id": "e9db3a03-77e6-43df-bdca-672406a41421",
   "metadata": {},
   "outputs": [],
   "source": [
    "df.loc[(df['name'] == \"the prime minister\") & (df['date'] < pd.Timestamp(1990, 11, 28)), \"name\"] = 'lee kuan yew'\n",
    "df.loc[(df['name'] == \"the prime minister\") & (df['date'] >= pd.Timestamp(1990, 11, 28)) & (df['date'] < pd.Timestamp(2004, 8, 12)), \"name\"] = 'goh chok tong'\n",
    "df.loc[(df['name'] == \"the prime minister\") & (df['date'] >= pd.Timestamp(2004, 8, 12)), \"name\"] = 'lee hsien loong'"
   ]
  },
  {
   "cell_type": "markdown",
   "id": "e8329d60-dd41-4562-9dfa-38308107e340",
   "metadata": {},
   "source": [
    "Map names to known MPs"
   ]
  },
  {
   "cell_type": "code",
   "execution_count": 19,
   "id": "51963a7d-9ea5-4d3f-a914-b00572e62430",
   "metadata": {},
   "outputs": [],
   "source": [
    "def map_text_to_mp(text, mp):\n",
    "    for name in mp:\n",
    "        if name in text:\n",
    "            return name\n",
    "    return \"\""
   ]
  },
  {
   "cell_type": "code",
   "execution_count": 20,
   "id": "e05e7e7e-6479-4117-84ce-f007d1ca1dff",
   "metadata": {},
   "outputs": [],
   "source": [
    "df['name'] = df['name'].map(lambda text: map_text_to_mp(text, MP))"
   ]
  },
  {
   "cell_type": "markdown",
   "id": "978a319d-8cc7-4516-aa45-5814a19830aa",
   "metadata": {},
   "source": [
    "Remove rows with empty names again"
   ]
  },
  {
   "cell_type": "code",
   "execution_count": 21,
   "id": "3ba4be25-b32c-4f58-8f76-ff7d166f5f4d",
   "metadata": {},
   "outputs": [],
   "source": [
    "df = df[~(df['name'] == '')]"
   ]
  },
  {
   "cell_type": "markdown",
   "id": "ff99e8f0-3971-4516-b27b-9670b9e69060",
   "metadata": {},
   "source": [
    "Reset index"
   ]
  },
  {
   "cell_type": "code",
   "execution_count": 22,
   "id": "e5450c19-8bb4-46ad-b8c7-e9eb57e4cba9",
   "metadata": {},
   "outputs": [
    {
     "data": {
      "text/plain": [
       "(17188, 5)"
      ]
     },
     "execution_count": 22,
     "metadata": {},
     "output_type": "execute_result"
    }
   ],
   "source": [
    "df = df.reset_index(drop=True)\n",
    "df.shape"
   ]
  },
  {
   "cell_type": "code",
   "execution_count": 23,
   "id": "39e06ef5-8877-47fb-bec5-ab92f6204424",
   "metadata": {},
   "outputs": [
    {
     "data": {
      "text/html": [
       "<div>\n",
       "<style scoped>\n",
       "    .dataframe tbody tr th:only-of-type {\n",
       "        vertical-align: middle;\n",
       "    }\n",
       "\n",
       "    .dataframe tbody tr th {\n",
       "        vertical-align: top;\n",
       "    }\n",
       "\n",
       "    .dataframe thead th {\n",
       "        text-align: right;\n",
       "    }\n",
       "</style>\n",
       "<table border=\"1\" class=\"dataframe\">\n",
       "  <thead>\n",
       "    <tr style=\"text-align: right;\">\n",
       "      <th></th>\n",
       "      <th>section</th>\n",
       "      <th>date</th>\n",
       "      <th>topic</th>\n",
       "      <th>name</th>\n",
       "      <th>speech</th>\n",
       "    </tr>\n",
       "  </thead>\n",
       "  <tbody>\n",
       "    <tr>\n",
       "      <th>0</th>\n",
       "      <td>second reading bills</td>\n",
       "      <td>2018-05-18</td>\n",
       "      <td>vulnerable adults bill</td>\n",
       "      <td>desmond lee</td>\n",
       "      <td>: mr speaker, i beg to move, that the bill be ...</td>\n",
       "    </tr>\n",
       "    <tr>\n",
       "      <th>1</th>\n",
       "      <td>second reading bills</td>\n",
       "      <td>2018-05-18</td>\n",
       "      <td>vulnerable adults bill</td>\n",
       "      <td>desmond lee</td>\n",
       "      <td>: thank you. sir, this bill seeks to protect i...</td>\n",
       "    </tr>\n",
       "    <tr>\n",
       "      <th>2</th>\n",
       "      <td>second reading bills</td>\n",
       "      <td>2018-05-18</td>\n",
       "      <td>vulnerable adults bill</td>\n",
       "      <td>denise phua lay peng</td>\n",
       "      <td>: mr speaker, sir, i stand in full support of ...</td>\n",
       "    </tr>\n",
       "    <tr>\n",
       "      <th>3</th>\n",
       "      <td>second reading bills</td>\n",
       "      <td>2018-05-18</td>\n",
       "      <td>vulnerable adults bill</td>\n",
       "      <td>sylvia lim</td>\n",
       "      <td>: mr speaker, sir, this bill seeks to give the...</td>\n",
       "    </tr>\n",
       "    <tr>\n",
       "      <th>4</th>\n",
       "      <td>second reading bills</td>\n",
       "      <td>2018-05-18</td>\n",
       "      <td>vulnerable adults bill</td>\n",
       "      <td>chia yong yong</td>\n",
       "      <td>: thank you, sir, may i declare interest as pr...</td>\n",
       "    </tr>\n",
       "  </tbody>\n",
       "</table>\n",
       "</div>"
      ],
      "text/plain": [
       "                section       date                   topic  \\\n",
       "0  second reading bills 2018-05-18  vulnerable adults bill   \n",
       "1  second reading bills 2018-05-18  vulnerable adults bill   \n",
       "2  second reading bills 2018-05-18  vulnerable adults bill   \n",
       "3  second reading bills 2018-05-18  vulnerable adults bill   \n",
       "4  second reading bills 2018-05-18  vulnerable adults bill   \n",
       "\n",
       "                   name                                             speech  \n",
       "0           desmond lee  : mr speaker, i beg to move, that the bill be ...  \n",
       "1           desmond lee  : thank you. sir, this bill seeks to protect i...  \n",
       "2  denise phua lay peng  : mr speaker, sir, i stand in full support of ...  \n",
       "3            sylvia lim  : mr speaker, sir, this bill seeks to give the...  \n",
       "4        chia yong yong  : thank you, sir, may i declare interest as pr...  "
      ]
     },
     "execution_count": 23,
     "metadata": {},
     "output_type": "execute_result"
    }
   ],
   "source": [
    "df.head()"
   ]
  },
  {
   "cell_type": "code",
   "execution_count": 24,
   "id": "5e26ed1f-cdd7-46f9-a545-00c92cb3a5a8",
   "metadata": {},
   "outputs": [],
   "source": [
    "df['speech'] = df['speech'].map(lambda text: re.sub(r\"^: \", \"\", text))"
   ]
  },
  {
   "cell_type": "markdown",
   "id": "c0709a96-157a-4be2-8d75-37e36cd9c0d9",
   "metadata": {},
   "source": [
    "### Merge similar sections"
   ]
  },
  {
   "cell_type": "markdown",
   "id": "246c6040-8e9f-4b1b-a933-e4d1d3509113",
   "metadata": {},
   "source": [
    "How many types of sections?"
   ]
  },
  {
   "cell_type": "code",
   "execution_count": 25,
   "id": "033506d4-0471-47da-a3fe-ad03a5c423ca",
   "metadata": {},
   "outputs": [
    {
     "data": {
      "text/plain": [
       "array(['second reading bills', 'bills introduced', 'budget',\n",
       "       'clarification', 'matter raised on adjournment motion',\n",
       "       'ministerial statements', 'motions', 'oral answers to questions',\n",
       "       'personal explanation', 'petitions', \"president's address\",\n",
       "       'speaker', 'tributes', 'written answers to questions',\n",
       "       'written answers to questions for oral answer not answered by end of question time',\n",
       "       'correction by written statement'], dtype=object)"
      ]
     },
     "execution_count": 25,
     "metadata": {},
     "output_type": "execute_result"
    }
   ],
   "source": [
    "df['section'].unique()"
   ]
  },
  {
   "cell_type": "markdown",
   "id": "a1bb1727-1e5e-4ec2-b7ba-03556358c3c1",
   "metadata": {},
   "source": [
    "Reduce the number of sections by merging similar ones"
   ]
  },
  {
   "cell_type": "markdown",
   "id": "760ecf4c-d441-4ea8-a025-4fe6a5dd3720",
   "metadata": {},
   "source": [
    "Merge all \"..answer to question..\" into \"answers to questions\""
   ]
  },
  {
   "cell_type": "code",
   "execution_count": 26,
   "id": "beaa5545-e0b0-43c1-a713-ced897703c1a",
   "metadata": {},
   "outputs": [],
   "source": [
    "df['section'] = df['section'].map(lambda c: 'answers to questions' if re.search(r\"answer(s?) to question(s?)\", c) else c)"
   ]
  },
  {
   "cell_type": "markdown",
   "id": "b2167623-db36-4a01-bb40-c3d06e8db435",
   "metadata": {},
   "source": [
    "Merge all \"..motion..\" into \"motions\""
   ]
  },
  {
   "cell_type": "code",
   "execution_count": 27,
   "id": "4b71759b-f06c-41c0-bff4-559d3789f0dc",
   "metadata": {},
   "outputs": [],
   "source": [
    "df['section'] = df['section'].map(lambda c: 'motions' if re.search(r\"motion(s?)\", c) else c)"
   ]
  },
  {
   "cell_type": "markdown",
   "id": "c6540476-346c-40b4-a498-42dd309dd31e",
   "metadata": {},
   "source": [
    "Merge \"bills\" and \"second reading bills\" into \"bills\""
   ]
  },
  {
   "cell_type": "code",
   "execution_count": 28,
   "id": "6b33a68e-2a9b-4197-ad78-e43ae4dd8728",
   "metadata": {},
   "outputs": [],
   "source": [
    "df['section'] = df['section'].map(lambda c: 'bills' if re.search(r\"bill(s?)\", c) else c)"
   ]
  },
  {
   "cell_type": "markdown",
   "id": "83cf5138-1f93-4234-97ba-59fe8312f6de",
   "metadata": {},
   "source": [
    "Convert it to categorical data"
   ]
  },
  {
   "cell_type": "code",
   "execution_count": 29,
   "id": "fb97be2c-2a2e-4db8-944d-b5a697eae847",
   "metadata": {},
   "outputs": [],
   "source": [
    "df[\"section\"] = df[\"section\"].astype(\"category\")"
   ]
  },
  {
   "cell_type": "markdown",
   "id": "d5fd8f38-cb1d-4189-b563-904c406e57cf",
   "metadata": {},
   "source": [
    "Sort the dataframe by date"
   ]
  },
  {
   "cell_type": "code",
   "execution_count": 30,
   "id": "498f51ba-dd89-4991-8416-cf4e718c0b56",
   "metadata": {},
   "outputs": [
    {
     "data": {
      "text/html": [
       "<div>\n",
       "<style scoped>\n",
       "    .dataframe tbody tr th:only-of-type {\n",
       "        vertical-align: middle;\n",
       "    }\n",
       "\n",
       "    .dataframe tbody tr th {\n",
       "        vertical-align: top;\n",
       "    }\n",
       "\n",
       "    .dataframe thead th {\n",
       "        text-align: right;\n",
       "    }\n",
       "</style>\n",
       "<table border=\"1\" class=\"dataframe\">\n",
       "  <thead>\n",
       "    <tr style=\"text-align: right;\">\n",
       "      <th></th>\n",
       "      <th>section</th>\n",
       "      <th>date</th>\n",
       "      <th>topic</th>\n",
       "      <th>name</th>\n",
       "      <th>speech</th>\n",
       "    </tr>\n",
       "  </thead>\n",
       "  <tbody>\n",
       "    <tr>\n",
       "      <th>0</th>\n",
       "      <td>answers to questions</td>\n",
       "      <td>2020-06-05</td>\n",
       "      <td>consequences for and enforcement against emplo...</td>\n",
       "      <td>josephine teo</td>\n",
       "      <td>the vast majority of employers are now paying ...</td>\n",
       "    </tr>\n",
       "    <tr>\n",
       "      <th>1</th>\n",
       "      <td>budget</td>\n",
       "      <td>2020-06-05</td>\n",
       "      <td>second supplementary estimates of expenditure ...</td>\n",
       "      <td>anthea ong</td>\n",
       "      <td>thank you, mr chairman. i thank the senior min...</td>\n",
       "    </tr>\n",
       "    <tr>\n",
       "      <th>2</th>\n",
       "      <td>budget</td>\n",
       "      <td>2020-06-05</td>\n",
       "      <td>second supplementary estimates of expenditure ...</td>\n",
       "      <td>indranee rajah</td>\n",
       "      <td>mr chairman, if i may now address ms ong's que...</td>\n",
       "    </tr>\n",
       "    <tr>\n",
       "      <th>3</th>\n",
       "      <td>budget</td>\n",
       "      <td>2020-06-05</td>\n",
       "      <td>second supplementary estimates of expenditure ...</td>\n",
       "      <td>anthea ong</td>\n",
       "      <td>mr chairman, i beg leave to withdraw the amend...</td>\n",
       "    </tr>\n",
       "    <tr>\n",
       "      <th>4</th>\n",
       "      <td>budget</td>\n",
       "      <td>2020-06-05</td>\n",
       "      <td>second supplementary estimates of expenditure ...</td>\n",
       "      <td>anthea ong</td>\n",
       "      <td>chairman, i beg to move, \"that the total sum t...</td>\n",
       "    </tr>\n",
       "  </tbody>\n",
       "</table>\n",
       "</div>"
      ],
      "text/plain": [
       "                section       date  \\\n",
       "0  answers to questions 2020-06-05   \n",
       "1                budget 2020-06-05   \n",
       "2                budget 2020-06-05   \n",
       "3                budget 2020-06-05   \n",
       "4                budget 2020-06-05   \n",
       "\n",
       "                                               topic            name  \\\n",
       "0  consequences for and enforcement against emplo...   josephine teo   \n",
       "1  second supplementary estimates of expenditure ...      anthea ong   \n",
       "2  second supplementary estimates of expenditure ...  indranee rajah   \n",
       "3  second supplementary estimates of expenditure ...      anthea ong   \n",
       "4  second supplementary estimates of expenditure ...      anthea ong   \n",
       "\n",
       "                                              speech  \n",
       "0  the vast majority of employers are now paying ...  \n",
       "1  thank you, mr chairman. i thank the senior min...  \n",
       "2  mr chairman, if i may now address ms ong's que...  \n",
       "3  mr chairman, i beg leave to withdraw the amend...  \n",
       "4  chairman, i beg to move, \"that the total sum t...  "
      ]
     },
     "execution_count": 30,
     "metadata": {},
     "output_type": "execute_result"
    }
   ],
   "source": [
    "df = df.sort_values('date', ascending=False).reset_index(drop=True)\n",
    "df.head()"
   ]
  },
  {
   "cell_type": "markdown",
   "id": "64a15113-9a6b-4600-80a7-1acde5cd8028",
   "metadata": {},
   "source": [
    "Calculate length of speech in terms of characters and words"
   ]
  },
  {
   "cell_type": "code",
   "execution_count": 31,
   "id": "6746a7e6-c081-4425-88f8-95115ee5cd07",
   "metadata": {},
   "outputs": [],
   "source": [
    "df['length'] = df['speech'].str.split().map(lambda x: len(x))"
   ]
  },
  {
   "cell_type": "markdown",
   "id": "b81a5aac-fe07-436d-942b-0e4d35c104b7",
   "metadata": {},
   "source": [
    "Export to csv"
   ]
  },
  {
   "cell_type": "code",
   "execution_count": 32,
   "id": "fefff819-a590-48f4-ad69-901eadae567d",
   "metadata": {},
   "outputs": [],
   "source": [
    "df.to_csv(\"parliament_13.csv\")"
   ]
  },
  {
   "cell_type": "markdown",
   "id": "8de7ae5c-9e20-4705-a6f9-28d20b039a3d",
   "metadata": {},
   "source": [
    "# Text statistics"
   ]
  },
  {
   "cell_type": "markdown",
   "id": "b938dc16-fc8d-4315-a72d-d235e3844665",
   "metadata": {},
   "source": [
    "Calculate length of speech in terms of characters and words"
   ]
  },
  {
   "cell_type": "code",
   "execution_count": 189,
   "id": "352c90e4-789c-45cc-9954-f3f59ff0d8fe",
   "metadata": {},
   "outputs": [
    {
     "data": {
      "text/html": [
       "<div>\n",
       "<style scoped>\n",
       "    .dataframe tbody tr th:only-of-type {\n",
       "        vertical-align: middle;\n",
       "    }\n",
       "\n",
       "    .dataframe tbody tr th {\n",
       "        vertical-align: top;\n",
       "    }\n",
       "\n",
       "    .dataframe thead th {\n",
       "        text-align: right;\n",
       "    }\n",
       "</style>\n",
       "<table border=\"1\" class=\"dataframe\">\n",
       "  <thead>\n",
       "    <tr style=\"text-align: right;\">\n",
       "      <th></th>\n",
       "      <th>section</th>\n",
       "      <th>date</th>\n",
       "      <th>topic</th>\n",
       "      <th>name</th>\n",
       "      <th>speech</th>\n",
       "      <th>length</th>\n",
       "    </tr>\n",
       "  </thead>\n",
       "  <tbody>\n",
       "    <tr>\n",
       "      <th>0</th>\n",
       "      <td>answers to questions</td>\n",
       "      <td>2020-06-05</td>\n",
       "      <td>consequences for and enforcement against emplo...</td>\n",
       "      <td>josephine teo</td>\n",
       "      <td>the vast majority of employers are now paying ...</td>\n",
       "      <td>142</td>\n",
       "    </tr>\n",
       "    <tr>\n",
       "      <th>1</th>\n",
       "      <td>budget</td>\n",
       "      <td>2020-06-05</td>\n",
       "      <td>second supplementary estimates of expenditure ...</td>\n",
       "      <td>anthea ong</td>\n",
       "      <td>thank you, mr chairman. i thank the senior min...</td>\n",
       "      <td>79</td>\n",
       "    </tr>\n",
       "    <tr>\n",
       "      <th>2</th>\n",
       "      <td>budget</td>\n",
       "      <td>2020-06-05</td>\n",
       "      <td>second supplementary estimates of expenditure ...</td>\n",
       "      <td>indranee rajah</td>\n",
       "      <td>mr chairman, if i may now address ms ong's que...</td>\n",
       "      <td>261</td>\n",
       "    </tr>\n",
       "    <tr>\n",
       "      <th>3</th>\n",
       "      <td>budget</td>\n",
       "      <td>2020-06-05</td>\n",
       "      <td>second supplementary estimates of expenditure ...</td>\n",
       "      <td>anthea ong</td>\n",
       "      <td>mr chairman, i beg leave to withdraw the amend...</td>\n",
       "      <td>36</td>\n",
       "    </tr>\n",
       "    <tr>\n",
       "      <th>4</th>\n",
       "      <td>budget</td>\n",
       "      <td>2020-06-05</td>\n",
       "      <td>second supplementary estimates of expenditure ...</td>\n",
       "      <td>anthea ong</td>\n",
       "      <td>chairman, i beg to move, \"that the total sum t...</td>\n",
       "      <td>440</td>\n",
       "    </tr>\n",
       "  </tbody>\n",
       "</table>\n",
       "</div>"
      ],
      "text/plain": [
       "                section       date  \\\n",
       "0  answers to questions 2020-06-05   \n",
       "1                budget 2020-06-05   \n",
       "2                budget 2020-06-05   \n",
       "3                budget 2020-06-05   \n",
       "4                budget 2020-06-05   \n",
       "\n",
       "                                               topic            name  \\\n",
       "0  consequences for and enforcement against emplo...   josephine teo   \n",
       "1  second supplementary estimates of expenditure ...      anthea ong   \n",
       "2  second supplementary estimates of expenditure ...  indranee rajah   \n",
       "3  second supplementary estimates of expenditure ...      anthea ong   \n",
       "4  second supplementary estimates of expenditure ...      anthea ong   \n",
       "\n",
       "                                              speech  length  \n",
       "0  the vast majority of employers are now paying ...     142  \n",
       "1  thank you, mr chairman. i thank the senior min...      79  \n",
       "2  mr chairman, if i may now address ms ong's que...     261  \n",
       "3  mr chairman, i beg leave to withdraw the amend...      36  \n",
       "4  chairman, i beg to move, \"that the total sum t...     440  "
      ]
     },
     "execution_count": 189,
     "metadata": {},
     "output_type": "execute_result"
    }
   ],
   "source": [
    "stat_df = df.copy()\n",
    "stat_df['length'] = stat_df['speech'].str.split().map(lambda x: len(x))\n",
    "stat_df.head()"
   ]
  },
  {
   "cell_type": "markdown",
   "id": "1cd591e0-6fcb-43a9-9e34-dc4a4541c405",
   "metadata": {},
   "source": [
    "Speech length statistics"
   ]
  },
  {
   "cell_type": "code",
   "execution_count": 192,
   "id": "a23008fd-d672-43d2-b461-36fe9d10f059",
   "metadata": {},
   "outputs": [
    {
     "data": {
      "text/plain": [
       "count    17188.000000\n",
       "mean       463.295962\n",
       "std        819.734738\n",
       "min          1.000000\n",
       "25%         90.000000\n",
       "50%        192.000000\n",
       "75%        413.000000\n",
       "max      15354.000000\n",
       "Name: length, dtype: float64"
      ]
     },
     "execution_count": 192,
     "metadata": {},
     "output_type": "execute_result"
    }
   ],
   "source": [
    "stat_df['length'].describe()"
   ]
  },
  {
   "cell_type": "markdown",
   "id": "f3c9cc93-ce1e-4e5b-a666-4838bbefa5df",
   "metadata": {},
   "source": [
    "Distribution of speech length"
   ]
  },
  {
   "cell_type": "code",
   "execution_count": 193,
   "id": "835711e9-79ad-4fb5-82a7-84631dfad096",
   "metadata": {},
   "outputs": [
    {
     "data": {
      "image/png": "[encoded data removed]",
      "text/plain": [
       "<Figure size 432x288 with 1 Axes>"
      ]
     },
     "metadata": {
      "image/png": {
       "height": 248,
       "width": 388
      },
      "needs_background": "light"
     },
     "output_type": "display_data"
    }
   ],
   "source": [
    "bins = np.arange(0, stat_df['length'].max(), 10)\n",
    "plt.hist(stat_df['length'], bins=bins)\n",
    "plt.show()"
   ]
  },
  {
   "cell_type": "markdown",
   "id": "ee1ea71a-f266-4ade-93ca-fed17e72aabc",
   "metadata": {},
   "source": [
    "This resembles powerlaw distribution. Let's verify that"
   ]
  },
  {
   "cell_type": "code",
   "execution_count": 194,
   "id": "a4baba33-198f-401b-a66a-1c6ff77a13c3",
   "metadata": {},
   "outputs": [
    {
     "name": "stdout",
     "output_type": "stream",
     "text": [
      "Calculating best minimal value for power law fit\n",
      "xmin progress: 99%\r"
     ]
    },
    {
     "data": {
      "image/png": "[encoded data removed]",
      "text/plain": [
       "<Figure size 432x288 with 1 Axes>"
      ]
     },
     "metadata": {
      "image/png": {
       "height": 249,
       "width": 379
      },
      "needs_background": "light"
     },
     "output_type": "display_data"
    }
   ],
   "source": [
    "import powerlaw\n",
    "fit = powerlaw.Fit(stat_df['length'], discrete=True)\n",
    "fig = fit.plot_pdf(color='b', linewidth=2)\n",
    "fit.power_law.plot_pdf(color='b', linestyle='--', ax=fig)\n",
    "fit.plot_ccdf(color='r', linewidth=2, ax=fig)\n",
    "fit.power_law.plot_ccdf(color='r', linestyle='--', ax=fig)\n",
    "plt.show()"
   ]
  },
  {
   "cell_type": "markdown",
   "id": "f6a24be3-fd9b-458d-a77f-b5b1191cbac3",
   "metadata": {},
   "source": [
    "Who spoke the most?"
   ]
  },
  {
   "cell_type": "code",
   "execution_count": 195,
   "id": "249d0d4b-3998-48ee-b39b-e7e548f392d3",
   "metadata": {},
   "outputs": [
    {
     "data": {
      "text/html": [
       "<div>\n",
       "<style scoped>\n",
       "    .dataframe tbody tr th:only-of-type {\n",
       "        vertical-align: middle;\n",
       "    }\n",
       "\n",
       "    .dataframe tbody tr th {\n",
       "        vertical-align: top;\n",
       "    }\n",
       "\n",
       "    .dataframe thead th {\n",
       "        text-align: right;\n",
       "    }\n",
       "</style>\n",
       "<table border=\"1\" class=\"dataframe\">\n",
       "  <thead>\n",
       "    <tr style=\"text-align: right;\">\n",
       "      <th></th>\n",
       "      <th>count</th>\n",
       "      <th>mean</th>\n",
       "    </tr>\n",
       "    <tr>\n",
       "      <th>name</th>\n",
       "      <th></th>\n",
       "      <th></th>\n",
       "    </tr>\n",
       "  </thead>\n",
       "  <tbody>\n",
       "    <tr>\n",
       "      <th>lawrence wong</th>\n",
       "      <td>821</td>\n",
       "      <td>287.479903</td>\n",
       "    </tr>\n",
       "    <tr>\n",
       "      <th>k shanmugam</th>\n",
       "      <td>638</td>\n",
       "      <td>465.650470</td>\n",
       "    </tr>\n",
       "    <tr>\n",
       "      <th>khaw boon wan</th>\n",
       "      <td>608</td>\n",
       "      <td>196.041118</td>\n",
       "    </tr>\n",
       "    <tr>\n",
       "      <th>josephine teo</th>\n",
       "      <td>536</td>\n",
       "      <td>461.360075</td>\n",
       "    </tr>\n",
       "    <tr>\n",
       "      <th>gan kim yong</th>\n",
       "      <td>527</td>\n",
       "      <td>327.857685</td>\n",
       "    </tr>\n",
       "    <tr>\n",
       "      <th>...</th>\n",
       "      <td>...</td>\n",
       "      <td>...</td>\n",
       "    </tr>\n",
       "    <tr>\n",
       "      <th>david ong</th>\n",
       "      <td>4</td>\n",
       "      <td>559.000000</td>\n",
       "    </tr>\n",
       "    <tr>\n",
       "      <th>goh chok tong</th>\n",
       "      <td>2</td>\n",
       "      <td>815.500000</td>\n",
       "    </tr>\n",
       "    <tr>\n",
       "      <th>halimah yacob</th>\n",
       "      <td>1</td>\n",
       "      <td>3152.000000</td>\n",
       "    </tr>\n",
       "    <tr>\n",
       "      <th>tony tan keng yam</th>\n",
       "      <td>1</td>\n",
       "      <td>2584.000000</td>\n",
       "    </tr>\n",
       "    <tr>\n",
       "      <th>ong teng cheong</th>\n",
       "      <td>1</td>\n",
       "      <td>2.000000</td>\n",
       "    </tr>\n",
       "  </tbody>\n",
       "</table>\n",
       "<p>113 rows × 2 columns</p>\n",
       "</div>"
      ],
      "text/plain": [
       "                   count         mean\n",
       "name                                 \n",
       "lawrence wong        821   287.479903\n",
       "k shanmugam          638   465.650470\n",
       "khaw boon wan        608   196.041118\n",
       "josephine teo        536   461.360075\n",
       "gan kim yong         527   327.857685\n",
       "...                  ...          ...\n",
       "david ong              4   559.000000\n",
       "goh chok tong          2   815.500000\n",
       "halimah yacob          1  3152.000000\n",
       "tony tan keng yam      1  2584.000000\n",
       "ong teng cheong        1     2.000000\n",
       "\n",
       "[113 rows x 2 columns]"
      ]
     },
     "execution_count": 195,
     "metadata": {},
     "output_type": "execute_result"
    }
   ],
   "source": [
    "stat_df.groupby([\"name\"])[\"length\"].agg(['count', 'mean']).sort_values(by=[\"count\", \"mean\"], ascending=False)"
   ]
  },
  {
   "cell_type": "markdown",
   "id": "2445e4c0-f9bc-4968-b28b-897a8f2640fd",
   "metadata": {},
   "source": []
  },
  {
   "cell_type": "code",
   "execution_count": null,
   "id": "2afe5803-fc90-49be-b19b-533f967efadf",
   "metadata": {},
   "outputs": [],
   "source": []
  },
  {
   "cell_type": "code",
   "execution_count": null,
   "id": "4b040216-55dd-44fa-bebf-2cac1c0d3f16",
   "metadata": {},
   "outputs": [],
   "source": []
  },
  {
   "cell_type": "code",
   "execution_count": null,
   "id": "0bb61dac-dda8-4964-bdf2-6a94c31e0d71",
   "metadata": {},
   "outputs": [],
   "source": []
  },
  {
   "cell_type": "code",
   "execution_count": null,
   "id": "9cde14c5-1a3b-4e86-9902-b75d701da536",
   "metadata": {},
   "outputs": [],
   "source": []
  },
  {
   "cell_type": "code",
   "execution_count": null,
   "id": "a1f8412c-6250-40b7-b8a9-075c2bb8d505",
   "metadata": {},
   "outputs": [],
   "source": [
    "parliament14_df = df[df['date'] >= '2020-08-24']\n",
    "parliament14_df"
   ]
  },
  {
   "cell_type": "code",
   "execution_count": null,
   "id": "7e7cd364-7d64-4f77-ac1d-11434bf7258b",
   "metadata": {},
   "outputs": [],
   "source": []
  },
  {
   "cell_type": "code",
   "execution_count": null,
   "id": "3bb8e4b1-4497-40ec-b9b6-129031f6e144",
   "metadata": {},
   "outputs": [],
   "source": []
  },
  {
   "cell_type": "code",
   "execution_count": null,
   "id": "5901623b-3497-4e16-bd01-78b7f31f8772",
   "metadata": {},
   "outputs": [],
   "source": []
  },
  {
   "cell_type": "code",
   "execution_count": null,
   "id": "9fe7096f-a892-4642-8992-ecac5f524369",
   "metadata": {},
   "outputs": [],
   "source": []
  },
  {
   "cell_type": "code",
   "execution_count": null,
   "id": "d6c4407d-d377-48c6-b22e-31ef13082d55",
   "metadata": {},
   "outputs": [],
   "source": []
  }
 ],
 "metadata": {
  "kernelspec": {
   "display_name": "Python 3 (ipykernel)",
   "language": "python",
   "name": "python3"
  },
  "language_info": {
   "codemirror_mode": {
    "name": "ipython",
    "version": 3
   },
   "file_extension": ".py",
   "mimetype": "text/x-python",
   "name": "python",
   "nbconvert_exporter": "python",
   "pygments_lexer": "ipython3",
   "version": "3.8.12"
  }
 },
 "nbformat": 4,
 "nbformat_minor": 5
}
