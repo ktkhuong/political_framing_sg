{
 "cells": [
  {
   "cell_type": "code",
   "execution_count": 436,
   "id": "f070a640-2ece-4eb5-ac60-a303508b4a50",
   "metadata": {},
   "outputs": [],
   "source": [
    "import numpy as np\n",
    "import matplotlib.pyplot as plt\n",
    "import pandas as pd\n",
    "import os, json\n",
    "import datetime\n",
    "import re\n",
    "from unidecode import unidecode\n",
    "from pylab import rcParams\n",
    "import string\n",
    "import nltk\n",
    "from nltk.corpus import stopwords\n",
    "\n",
    "%matplotlib inline\n",
    "%config InlineBackend.figure_format = 'retina'"
   ]
  },
  {
   "cell_type": "markdown",
   "id": "6b93d35a-5c4c-48d5-90fc-57f4ac1130bd",
   "metadata": {},
   "source": [
    "# Data Cleaning"
   ]
  },
  {
   "cell_type": "code",
   "execution_count": 551,
   "id": "7c165ec5-1672-4124-9998-ff5d3a3bd497",
   "metadata": {},
   "outputs": [],
   "source": [
    "def format_date(date):\n",
    "    day, month, year = date.split(\"-\")\n",
    "    return datetime.datetime(int(year), int(month), int(day)).strftime(\"%Y-%m-%d\")\n",
    "                                  \n",
    "def speeches_from_json(json_file):\n",
    "    with open(json_file, \"r\") as f:\n",
    "        data = json.load(f)\n",
    "    return [{\n",
    "        #\"report_id\": json_file.split(\"\\\\\")[-1], \n",
    "        \"section\": data[\"section\"], \n",
    "        \"date\": format_date(data[\"date\"]),\n",
    "        \"title\": data[\"title\"],\n",
    "        \"name\": speech[\"name\"] or np.nan,\n",
    "        \"speech\": speech[\"speech\"] or np.nan,\n",
    "    } for speech in data[\"speeches\"]]"
   ]
  },
  {
   "cell_type": "markdown",
   "id": "9a56c2c2-4254-4e3f-acef-a71ef7a82d57",
   "metadata": {},
   "source": [
    "First, load all json files"
   ]
  },
  {
   "cell_type": "code",
   "execution_count": 529,
   "id": "f80c5a19-ed4e-4315-adc6-e1f97e292961",
   "metadata": {},
   "outputs": [],
   "source": [
    "DIR = \".\\\\parliament\""
   ]
  },
  {
   "cell_type": "code",
   "execution_count": 530,
   "id": "243c335b-a131-4bf4-b0ce-9b42c6693c3b",
   "metadata": {},
   "outputs": [],
   "source": [
    "speeches = [speech for parliament_number in os.listdir(DIR) if not parliament_number.endswith(\".csv\")\n",
    "                   for f in os.listdir(f\"{DIR}\\\\{parliament_number}\") if f.lower().endswith(\".json\") \n",
    "                   for speech in speeches_from_json(f\"{DIR}\\\\{parliament_number}\\\\{f}\")]"
   ]
  },
  {
   "cell_type": "markdown",
   "id": "effbde1a-c753-443f-8f6f-6933f54f8910",
   "metadata": {},
   "source": [
    "Create a data frame"
   ]
  },
  {
   "cell_type": "code",
   "execution_count": 537,
   "id": "c8a38f81-2f64-42ac-b75c-68755cad65a9",
   "metadata": {},
   "outputs": [
    {
     "name": "stdout",
     "output_type": "stream",
     "text": [
      "<class 'pandas.core.frame.DataFrame'>\n",
      "RangeIndex: 177356 entries, 0 to 177355\n",
      "Data columns (total 5 columns):\n",
      " #   Column   Non-Null Count   Dtype \n",
      "---  ------   --------------   ----- \n",
      " 0   section  177356 non-null  object\n",
      " 1   date     177356 non-null  object\n",
      " 2   title    177356 non-null  object\n",
      " 3   name     173695 non-null  object\n",
      " 4   speech   177354 non-null  object\n",
      "dtypes: object(5)\n",
      "memory usage: 6.8+ MB\n"
     ]
    }
   ],
   "source": [
    "df = pd.DataFrame.from_records(speeches)\n",
    "df.info()"
   ]
  },
  {
   "cell_type": "code",
   "execution_count": 539,
   "id": "cc5ecc47-b810-425d-a46c-e4e74560af4d",
   "metadata": {},
   "outputs": [
    {
     "data": {
      "text/html": [
       "<div>\n",
       "<style scoped>\n",
       "    .dataframe tbody tr th:only-of-type {\n",
       "        vertical-align: middle;\n",
       "    }\n",
       "\n",
       "    .dataframe tbody tr th {\n",
       "        vertical-align: top;\n",
       "    }\n",
       "\n",
       "    .dataframe thead th {\n",
       "        text-align: right;\n",
       "    }\n",
       "</style>\n",
       "<table border=\"1\" class=\"dataframe\">\n",
       "  <thead>\n",
       "    <tr style=\"text-align: right;\">\n",
       "      <th></th>\n",
       "      <th>section</th>\n",
       "      <th>date</th>\n",
       "      <th>title</th>\n",
       "      <th>name</th>\n",
       "      <th>speech</th>\n",
       "    </tr>\n",
       "  </thead>\n",
       "  <tbody>\n",
       "    <tr>\n",
       "      <th>0</th>\n",
       "      <td>BILLS</td>\n",
       "      <td>1965-12-13</td>\n",
       "      <td>CONSTITUTION (AMENDMENT) BILL</td>\n",
       "      <td>The Prime Minister:</td>\n",
       "      <td>Mr Speaker, Sir, I have His Excellency the Yan...</td>\n",
       "    </tr>\n",
       "    <tr>\n",
       "      <th>1</th>\n",
       "      <td>BILLS</td>\n",
       "      <td>1965-12-13</td>\n",
       "      <td>CONSTITUTION (AMENDMENT) BILL</td>\n",
       "      <td>Mr Speaker:</td>\n",
       "      <td>Second Reading, what day?</td>\n",
       "    </tr>\n",
       "    <tr>\n",
       "      <th>2</th>\n",
       "      <td>BILLS</td>\n",
       "      <td>1965-12-13</td>\n",
       "      <td>CONSTITUTION (AMENDMENT) BILL</td>\n",
       "      <td>The Prime Minister:</td>\n",
       "      <td>22nd of December, 1965.</td>\n",
       "    </tr>\n",
       "    <tr>\n",
       "      <th>3</th>\n",
       "      <td>BILLS</td>\n",
       "      <td>1965-12-14</td>\n",
       "      <td>SINGAPORE TELEPHONE BOARD (AMENDMENT) BILL</td>\n",
       "      <td>NaN</td>\n",
       "      <td>\"to amend the Singapore Telephone Board Ordina...</td>\n",
       "    </tr>\n",
       "    <tr>\n",
       "      <th>4</th>\n",
       "      <td>BILLS</td>\n",
       "      <td>1965-12-15</td>\n",
       "      <td>PEOPLE'S DEFENCE FORCE BILL</td>\n",
       "      <td>The Minister of Defence (Dr Goh Keng Swee):</td>\n",
       "      <td>Mr Speaker, Sir, I have the recommendation of ...</td>\n",
       "    </tr>\n",
       "  </tbody>\n",
       "</table>\n",
       "</div>"
      ],
      "text/plain": [
       "  section        date                                       title  \\\n",
       "0   BILLS  1965-12-13               CONSTITUTION (AMENDMENT) BILL   \n",
       "1   BILLS  1965-12-13               CONSTITUTION (AMENDMENT) BILL   \n",
       "2   BILLS  1965-12-13               CONSTITUTION (AMENDMENT) BILL   \n",
       "3   BILLS  1965-12-14  SINGAPORE TELEPHONE BOARD (AMENDMENT) BILL   \n",
       "4   BILLS  1965-12-15                 PEOPLE'S DEFENCE FORCE BILL   \n",
       "\n",
       "                                          name  \\\n",
       "0                          The Prime Minister:   \n",
       "1                                  Mr Speaker:   \n",
       "2                          The Prime Minister:   \n",
       "3                                          NaN   \n",
       "4  The Minister of Defence (Dr Goh Keng Swee):   \n",
       "\n",
       "                                              speech  \n",
       "0  Mr Speaker, Sir, I have His Excellency the Yan...  \n",
       "1                         Second Reading, what day?   \n",
       "2                            22nd of December, 1965.  \n",
       "3  \"to amend the Singapore Telephone Board Ordina...  \n",
       "4  Mr Speaker, Sir, I have the recommendation of ...  "
      ]
     },
     "execution_count": 539,
     "metadata": {},
     "output_type": "execute_result"
    }
   ],
   "source": [
    "df.head()"
   ]
  },
  {
   "cell_type": "markdown",
   "id": "a31ce2d3-bcfd-4f41-9e79-d4d69db6d980",
   "metadata": {},
   "source": [
    "### Remove rows with empty speech and name"
   ]
  },
  {
   "cell_type": "code",
   "execution_count": 540,
   "id": "758c873f-ca68-4bce-8f9d-512a4c354155",
   "metadata": {},
   "outputs": [
    {
     "data": {
      "text/plain": [
       "(173694, 5)"
      ]
     },
     "execution_count": 540,
     "metadata": {},
     "output_type": "execute_result"
    }
   ],
   "source": [
    "df = df.dropna()\n",
    "df.shape"
   ]
  },
  {
   "cell_type": "markdown",
   "id": "19ad98ea-c979-471b-9326-39e0287953ca",
   "metadata": {},
   "source": [
    "### Normalize case"
   ]
  },
  {
   "cell_type": "code",
   "execution_count": 545,
   "id": "53fa6714-0d9b-4a8e-9e39-0c8ade403679",
   "metadata": {},
   "outputs": [],
   "source": [
    "def normalize_case(text):\n",
    "    return text.lower()"
   ]
  },
  {
   "cell_type": "code",
   "execution_count": 546,
   "id": "e19ebd8b-f5c2-4dca-acf8-45c483540d06",
   "metadata": {},
   "outputs": [],
   "source": [
    "df['section'] = df['section'].map(normalize_case)\n",
    "df['title'] = df['title'].map(normalize_case)\n",
    "df['name'] = df['name'].map(normalize_case)\n",
    "df['speech'] = df['speech'].map(normalize_case)"
   ]
  },
  {
   "cell_type": "markdown",
   "id": "e2800148-07bf-401b-b2bd-7570972576d5",
   "metadata": {},
   "source": [
    "### Remove Punctuations"
   ]
  },
  {
   "cell_type": "code",
   "execution_count": 547,
   "id": "fc187ab3-6205-4adb-853f-488f2265810a",
   "metadata": {},
   "outputs": [],
   "source": [
    "def remove_punctuations(text):\n",
    "    return re.sub(r\"(@\\[A-Za-z0-9]+)|([^0-9A-Za-z \\t])|(\\w+:\\/\\/\\S+)|^rt|http.+?\", \"\", text)"
   ]
  },
  {
   "cell_type": "code",
   "execution_count": 548,
   "id": "a179819f-e055-46e4-9dff-c26f059d4069",
   "metadata": {},
   "outputs": [],
   "source": [
    "df['title'] = df['title'].map(remove_punctuations)\n",
    "df['name'] = df['name'].map(remove_punctuations)\n",
    "df['speech'] = df['speech'].map(remove_punctuations)"
   ]
  },
  {
   "cell_type": "markdown",
   "id": "a5dc0a85-ec58-4a0d-abe8-2c625f0e816a",
   "metadata": {},
   "source": [
    "### Remove stopwords"
   ]
  },
  {
   "cell_type": "code",
   "execution_count": 552,
   "id": "6cd0a5e2-8ebf-40a2-83eb-27ed954e2947",
   "metadata": {},
   "outputs": [],
   "source": [
    "def remove_stopwords(text):\n",
    "    stop = stopwords.words('english')\n",
    "    return \" \".join([word for word in text.split() if word not in (stop)])"
   ]
  },
  {
   "cell_type": "code",
   "execution_count": 569,
   "id": "e9deb4ce-0d0a-4b93-93bc-5c602d7d44bf",
   "metadata": {},
   "outputs": [],
   "source": [
    "df['speech'] = df['speech'].map(remove_stopwords)"
   ]
  },
  {
   "cell_type": "code",
   "execution_count": 570,
   "id": "8fee406b-5e00-4951-aa8a-ba05b2e0ea3a",
   "metadata": {},
   "outputs": [
    {
     "data": {
      "text/html": [
       "<div>\n",
       "<style scoped>\n",
       "    .dataframe tbody tr th:only-of-type {\n",
       "        vertical-align: middle;\n",
       "    }\n",
       "\n",
       "    .dataframe tbody tr th {\n",
       "        vertical-align: top;\n",
       "    }\n",
       "\n",
       "    .dataframe thead th {\n",
       "        text-align: right;\n",
       "    }\n",
       "</style>\n",
       "<table border=\"1\" class=\"dataframe\">\n",
       "  <thead>\n",
       "    <tr style=\"text-align: right;\">\n",
       "      <th></th>\n",
       "      <th>section</th>\n",
       "      <th>date</th>\n",
       "      <th>title</th>\n",
       "      <th>name</th>\n",
       "      <th>speech</th>\n",
       "    </tr>\n",
       "  </thead>\n",
       "  <tbody>\n",
       "    <tr>\n",
       "      <th>0</th>\n",
       "      <td>bills</td>\n",
       "      <td>1965-12-13</td>\n",
       "      <td>constitution amendment bill</td>\n",
       "      <td>lee kuan yew</td>\n",
       "      <td>mr speaker sir excellency yang dipertuan negar...</td>\n",
       "    </tr>\n",
       "    <tr>\n",
       "      <th>2</th>\n",
       "      <td>bills</td>\n",
       "      <td>1965-12-13</td>\n",
       "      <td>constitution amendment bill</td>\n",
       "      <td>lee kuan yew</td>\n",
       "      <td>22nd december 1965</td>\n",
       "    </tr>\n",
       "    <tr>\n",
       "      <th>4</th>\n",
       "      <td>bills</td>\n",
       "      <td>1965-12-15</td>\n",
       "      <td>peoples defence force bill</td>\n",
       "      <td>goh keng swee</td>\n",
       "      <td>mr speaker sir recommendation excellency yang ...</td>\n",
       "    </tr>\n",
       "    <tr>\n",
       "      <th>6</th>\n",
       "      <td>bills</td>\n",
       "      <td>1965-12-15</td>\n",
       "      <td>peoples defence force bill</td>\n",
       "      <td>goh keng swee</td>\n",
       "      <td>first available sitting day 23rd december 1965</td>\n",
       "    </tr>\n",
       "    <tr>\n",
       "      <th>8</th>\n",
       "      <td>motions</td>\n",
       "      <td>1965-12-16</td>\n",
       "      <td>adjournment motion business motion</td>\n",
       "      <td>e. w. barker</td>\n",
       "      <td>mr speaker sir permission general assent house...</td>\n",
       "    </tr>\n",
       "  </tbody>\n",
       "</table>\n",
       "</div>"
      ],
      "text/plain": [
       "   section        date                               title           name  \\\n",
       "0    bills  1965-12-13         constitution amendment bill   lee kuan yew   \n",
       "2    bills  1965-12-13         constitution amendment bill   lee kuan yew   \n",
       "4    bills  1965-12-15          peoples defence force bill  goh keng swee   \n",
       "6    bills  1965-12-15          peoples defence force bill  goh keng swee   \n",
       "8  motions  1965-12-16  adjournment motion business motion   e. w. barker   \n",
       "\n",
       "                                              speech  \n",
       "0  mr speaker sir excellency yang dipertuan negar...  \n",
       "2                                 22nd december 1965  \n",
       "4  mr speaker sir recommendation excellency yang ...  \n",
       "6     first available sitting day 23rd december 1965  \n",
       "8  mr speaker sir permission general assent house...  "
      ]
     },
     "execution_count": 570,
     "metadata": {},
     "output_type": "execute_result"
    }
   ],
   "source": [
    "df.head()"
   ]
  },
  {
   "cell_type": "markdown",
   "id": "91eddefe-993c-4df7-885c-b0576cbaff61",
   "metadata": {},
   "source": [
    "### Map MPs' names"
   ]
  },
  {
   "cell_type": "markdown",
   "id": "4f0c728c-70ab-4a31-bc88-5e4cabad75ac",
   "metadata": {},
   "source": [
    "How many MPs in the data frame?"
   ]
  },
  {
   "cell_type": "code",
   "execution_count": 560,
   "id": "47e94012-fa35-4564-958d-9a96f0267ee8",
   "metadata": {},
   "outputs": [
    {
     "data": {
      "text/plain": [
       "(422,)"
      ]
     },
     "execution_count": 560,
     "metadata": {},
     "output_type": "execute_result"
    }
   ],
   "source": [
    "df['name'].unique().shape"
   ]
  },
  {
   "cell_type": "markdown",
   "id": "3ecdfcfd-0bd0-4519-8581-652705d4019e",
   "metadata": {},
   "source": [
    "How many actual MPs ?"
   ]
  },
  {
   "cell_type": "code",
   "execution_count": 555,
   "id": "b602a00e-e2d7-416a-9216-2116b7345255",
   "metadata": {},
   "outputs": [
    {
     "name": "stdout",
     "output_type": "stream",
     "text": [
      "Number of actual MPs: 627\n"
     ]
    }
   ],
   "source": [
    "with open(f\"{DIR}\\\\mp.csv\") as f:\n",
    "    # remove newline, lowercase all characters, remove all characters that are NOT alphabet or dot\n",
    "    mp = [re.sub(r\"[^a-z. ]\", \"\", line.replace(\"\\n\",\"\").lower().strip()) for line in f.readlines() if line.strip()]\n",
    "    # \"[a-z].\" -> \"[a-z]. \"\n",
    "    mp = [re.sub(r\"[a-z]\\.\", lambda m: m.group() + \" \", name).replace(\"  \", \" \") for name in mp]\n",
    "    print(\"Number of actual MPs:\", len(mp))"
   ]
  },
  {
   "cell_type": "markdown",
   "id": "416b8366-c224-424f-8904-ed0e118a093c",
   "metadata": {},
   "source": [
    "The number of MPs in the dataframe is greater than the actual number. Let's correct this."
   ]
  },
  {
   "cell_type": "code",
   "execution_count": 563,
   "id": "ad48da82-d8e8-44d3-8e62-78dae3678674",
   "metadata": {
    "tags": []
   },
   "outputs": [],
   "source": [
    "def extract_name(s, samples):\n",
    "    def append_dot_if_single(w):\n",
    "        if len(w) == 1:\n",
    "            return w + \".\"\n",
    "        return w\n",
    "    name = \" \".join([append_dot_if_single(w) for w in s.split()])\n",
    "    for sample in samples:\n",
    "        if sample in name:\n",
    "            return sample.strip()\n",
    "    if 'prime minister' in name: # many reports use prime minister instead of his name\n",
    "        return 'lee kuan yew'\n",
    "    return np.nan\n",
    "df['name'] = df['name'].map(lambda c: extract_name(c, mp))"
   ]
  },
  {
   "cell_type": "code",
   "execution_count": 565,
   "id": "56af0f64-a87a-4675-bfd4-ce3b8841d21a",
   "metadata": {},
   "outputs": [
    {
     "data": {
      "text/plain": [
       "(421,)"
      ]
     },
     "execution_count": 565,
     "metadata": {},
     "output_type": "execute_result"
    }
   ],
   "source": [
    "df = df.dropna()\n",
    "df['name'].unique().shape"
   ]
  },
  {
   "cell_type": "markdown",
   "id": "22953b58-7e0c-4f8c-a331-878ba0b3909a",
   "metadata": {},
   "source": [
    "then convert it to categorical data"
   ]
  },
  {
   "cell_type": "code",
   "execution_count": 566,
   "id": "b5b530b7-6fc1-4b15-9da3-176f859de9fc",
   "metadata": {},
   "outputs": [
    {
     "data": {
      "text/plain": [
       "(123780, 5)"
      ]
     },
     "execution_count": 566,
     "metadata": {},
     "output_type": "execute_result"
    }
   ],
   "source": [
    "df[\"name\"] = df[\"name\"].astype(\"category\")\n",
    "df.shape"
   ]
  },
  {
   "cell_type": "markdown",
   "id": "c0709a96-157a-4be2-8d75-37e36cd9c0d9",
   "metadata": {},
   "source": [
    "### Merge similar sections"
   ]
  },
  {
   "cell_type": "markdown",
   "id": "246c6040-8e9f-4b1b-a933-e4d1d3509113",
   "metadata": {},
   "source": [
    "How many types of sections?"
   ]
  },
  {
   "cell_type": "code",
   "execution_count": 510,
   "id": "033506d4-0471-47da-a3fe-ad03a5c423ca",
   "metadata": {},
   "outputs": [
    {
     "data": {
      "text/plain": [
       "array(['bills', 'motions', 'oral answers questions',\n",
       "       'ministerial statement', 'budget', 'personal explanation',\n",
       "       'oral answer question', 'election president', 'speaker',\n",
       "       'matter raised adjournment motion', 'written answers questions',\n",
       "       \"president's address\", 'tributes',\n",
       "       'oral answers questions reached', 'oral answer question reached',\n",
       "       'petitions', 'second reading bills', 'clarification',\n",
       "       'written answer question', 'ministerial statements',\n",
       "       'written answers questions oral answer answered 3.00 pm',\n",
       "       'written answer question oral answer answered 3.00 pm',\n",
       "       'written answers questions oral answer answered 5.00 pm',\n",
       "       'bills introduced',\n",
       "       'written answers questions oral answer answered end question time',\n",
       "       'correction written statement', 'attendance',\n",
       "       'oral answers question', 'motion'], dtype=object)"
      ]
     },
     "execution_count": 510,
     "metadata": {},
     "output_type": "execute_result"
    }
   ],
   "source": [
    "df['section'].unique()"
   ]
  },
  {
   "cell_type": "markdown",
   "id": "760ecf4c-d441-4ea8-a025-4fe6a5dd3720",
   "metadata": {},
   "source": [
    "Merge all \"..answer to question..\" into \"answers to questions\""
   ]
  },
  {
   "cell_type": "code",
   "execution_count": 567,
   "id": "beaa5545-e0b0-43c1-a713-ced897703c1a",
   "metadata": {},
   "outputs": [],
   "source": [
    "df['section'] = df['section'].map(lambda c: 'answers to questions' if re.search(r\"answer(s?) to question(s?)\", c) else c)"
   ]
  },
  {
   "cell_type": "markdown",
   "id": "b2167623-db36-4a01-bb40-c3d06e8db435",
   "metadata": {},
   "source": [
    "Merge all \"..motion..\" into \"motions\""
   ]
  },
  {
   "cell_type": "code",
   "execution_count": 568,
   "id": "4b71759b-f06c-41c0-bff4-559d3789f0dc",
   "metadata": {},
   "outputs": [],
   "source": [
    "df['section'] = df['section'].map(lambda c: 'motions' if re.search(r\"motion(s?)\", c) else c)"
   ]
  },
  {
   "cell_type": "markdown",
   "id": "c6540476-346c-40b4-a498-42dd309dd31e",
   "metadata": {},
   "source": [
    "Merge \"bills\" and \"second reading bills\" into \"bills\""
   ]
  },
  {
   "cell_type": "code",
   "execution_count": null,
   "id": "6b33a68e-2a9b-4197-ad78-e43ae4dd8728",
   "metadata": {},
   "outputs": [],
   "source": [
    "df['section'] = df['section'].map(lambda c: 'bills' if re.search(r\"bill(s?)\", c) else c)"
   ]
  },
  {
   "cell_type": "markdown",
   "id": "83cf5138-1f93-4234-97ba-59fe8312f6de",
   "metadata": {},
   "source": [
    "Convert it to categorical data"
   ]
  },
  {
   "cell_type": "code",
   "execution_count": 512,
   "id": "fb97be2c-2a2e-4db8-944d-b5a697eae847",
   "metadata": {},
   "outputs": [],
   "source": [
    "df[\"section\"] = df[\"section\"].astype(\"category\")"
   ]
  },
  {
   "cell_type": "markdown",
   "id": "dc48fd9a-9405-4cf2-9315-f61146a0ac55",
   "metadata": {},
   "source": [
    "Convert column 'date' to datetime type"
   ]
  },
  {
   "cell_type": "code",
   "execution_count": 513,
   "id": "8dcd432a-0bd9-4dc0-abbd-da9668d25bb5",
   "metadata": {},
   "outputs": [],
   "source": [
    "df['date'] = pd.to_datetime(df['date'])"
   ]
  },
  {
   "cell_type": "markdown",
   "id": "eebbf254-7c58-4e1a-b8d8-7a92b6170c94",
   "metadata": {},
   "source": [
    "Sort the data frame by descending date"
   ]
  },
  {
   "cell_type": "code",
   "execution_count": 527,
   "id": "498f51ba-dd89-4991-8416-cf4e718c0b56",
   "metadata": {},
   "outputs": [
    {
     "data": {
      "text/html": [
       "<div>\n",
       "<style scoped>\n",
       "    .dataframe tbody tr th:only-of-type {\n",
       "        vertical-align: middle;\n",
       "    }\n",
       "\n",
       "    .dataframe tbody tr th {\n",
       "        vertical-align: top;\n",
       "    }\n",
       "\n",
       "    .dataframe thead th {\n",
       "        text-align: right;\n",
       "    }\n",
       "</style>\n",
       "<table border=\"1\" class=\"dataframe\">\n",
       "  <thead>\n",
       "    <tr style=\"text-align: right;\">\n",
       "      <th></th>\n",
       "      <th>report_id</th>\n",
       "      <th>section</th>\n",
       "      <th>date</th>\n",
       "      <th>title</th>\n",
       "      <th>name</th>\n",
       "      <th>speech</th>\n",
       "      <th>speech_length_characters</th>\n",
       "      <th>speech_length_words</th>\n",
       "    </tr>\n",
       "  </thead>\n",
       "  <tbody>\n",
       "    <tr>\n",
       "      <th>0</th>\n",
       "      <td>oral-answer-2675.json</td>\n",
       "      <td>oral answers questions</td>\n",
       "      <td>2022-01-12</td>\n",
       "      <td>proposal redacted version banned book \"red lin...</td>\n",
       "      <td>sitoh yih pin</td>\n",
       "      <td>asked minister communications information aris...</td>\n",
       "      <td>228</td>\n",
       "      <td>25</td>\n",
       "    </tr>\n",
       "    <tr>\n",
       "      <th>1</th>\n",
       "      <td>written-answer-na-9569.json</td>\n",
       "      <td>written answers questions oral answer answered...</td>\n",
       "      <td>2022-01-12</td>\n",
       "      <td>proposal ban \"onlyfans\" website due distributi...</td>\n",
       "      <td>shahira abdullah</td>\n",
       "      <td>asked minister communications information whet...</td>\n",
       "      <td>125</td>\n",
       "      <td>14</td>\n",
       "    </tr>\n",
       "    <tr>\n",
       "      <th>2</th>\n",
       "      <td>motion-1790.json</td>\n",
       "      <td>motions</td>\n",
       "      <td>2022-01-12</td>\n",
       "      <td>towards low-carbon society</td>\n",
       "      <td>hany soh</td>\n",
       "      <td>last year's motion accelerate efforts address ...</td>\n",
       "      <td>6226</td>\n",
       "      <td>751</td>\n",
       "    </tr>\n",
       "    <tr>\n",
       "      <th>3</th>\n",
       "      <td>oral-answer-2674.json</td>\n",
       "      <td>oral answers questions</td>\n",
       "      <td>2022-01-12</td>\n",
       "      <td>steps programmes identify, groom develop promi...</td>\n",
       "      <td>xie yao quan</td>\n",
       "      <td>asked minister culture, community youth (a) go...</td>\n",
       "      <td>261</td>\n",
       "      <td>33</td>\n",
       "    </tr>\n",
       "    <tr>\n",
       "      <th>4</th>\n",
       "      <td>bill-565.json</td>\n",
       "      <td>second reading bills</td>\n",
       "      <td>2022-01-12</td>\n",
       "      <td>legal profession (amendment) bill</td>\n",
       "      <td>raj joshua thomas</td>\n",
       "      <td>sir, declare interest practising litigation la...</td>\n",
       "      <td>5575</td>\n",
       "      <td>710</td>\n",
       "    </tr>\n",
       "  </tbody>\n",
       "</table>\n",
       "</div>"
      ],
      "text/plain": [
       "                     report_id  \\\n",
       "0        oral-answer-2675.json   \n",
       "1  written-answer-na-9569.json   \n",
       "2             motion-1790.json   \n",
       "3        oral-answer-2674.json   \n",
       "4                bill-565.json   \n",
       "\n",
       "                                             section       date  \\\n",
       "0                             oral answers questions 2022-01-12   \n",
       "1  written answers questions oral answer answered... 2022-01-12   \n",
       "2                                            motions 2022-01-12   \n",
       "3                             oral answers questions 2022-01-12   \n",
       "4                               second reading bills 2022-01-12   \n",
       "\n",
       "                                               title               name  \\\n",
       "0  proposal redacted version banned book \"red lin...      sitoh yih pin   \n",
       "1  proposal ban \"onlyfans\" website due distributi...   shahira abdullah   \n",
       "2                         towards low-carbon society           hany soh   \n",
       "3  steps programmes identify, groom develop promi...       xie yao quan   \n",
       "4                  legal profession (amendment) bill  raj joshua thomas   \n",
       "\n",
       "                                              speech  \\\n",
       "0  asked minister communications information aris...   \n",
       "1  asked minister communications information whet...   \n",
       "2  last year's motion accelerate efforts address ...   \n",
       "3  asked minister culture, community youth (a) go...   \n",
       "4  sir, declare interest practising litigation la...   \n",
       "\n",
       "   speech_length_characters  speech_length_words  \n",
       "0                       228                   25  \n",
       "1                       125                   14  \n",
       "2                      6226                  751  \n",
       "3                       261                   33  \n",
       "4                      5575                  710  "
      ]
     },
     "execution_count": 527,
     "metadata": {},
     "output_type": "execute_result"
    }
   ],
   "source": [
    "df = df.sort_values('date', ascending=False).reset_index(drop=True)\n",
    "df.head()"
   ]
  },
  {
   "cell_type": "markdown",
   "id": "8de7ae5c-9e20-4705-a6f9-28d20b039a3d",
   "metadata": {},
   "source": [
    "# Text statistics"
   ]
  },
  {
   "cell_type": "markdown",
   "id": "b938dc16-fc8d-4315-a72d-d235e3844665",
   "metadata": {},
   "source": [
    "Calculate length of speech in terms of characters and words"
   ]
  },
  {
   "cell_type": "code",
   "execution_count": 517,
   "id": "352c90e4-789c-45cc-9954-f3f59ff0d8fe",
   "metadata": {},
   "outputs": [
    {
     "data": {
      "text/html": [
       "<div>\n",
       "<style scoped>\n",
       "    .dataframe tbody tr th:only-of-type {\n",
       "        vertical-align: middle;\n",
       "    }\n",
       "\n",
       "    .dataframe tbody tr th {\n",
       "        vertical-align: top;\n",
       "    }\n",
       "\n",
       "    .dataframe thead th {\n",
       "        text-align: right;\n",
       "    }\n",
       "</style>\n",
       "<table border=\"1\" class=\"dataframe\">\n",
       "  <thead>\n",
       "    <tr style=\"text-align: right;\">\n",
       "      <th></th>\n",
       "      <th>report_id</th>\n",
       "      <th>section</th>\n",
       "      <th>date</th>\n",
       "      <th>title</th>\n",
       "      <th>name</th>\n",
       "      <th>speech</th>\n",
       "      <th>speech_length_characters</th>\n",
       "      <th>speech_length_words</th>\n",
       "    </tr>\n",
       "  </thead>\n",
       "  <tbody>\n",
       "    <tr>\n",
       "      <th>0</th>\n",
       "      <td>oral-answer-2675.json</td>\n",
       "      <td>oral answers questions</td>\n",
       "      <td>2022-01-12</td>\n",
       "      <td>proposal redacted version banned book \"red lin...</td>\n",
       "      <td>sitoh yih pin</td>\n",
       "      <td>asked minister communications information aris...</td>\n",
       "      <td>228</td>\n",
       "      <td>25</td>\n",
       "    </tr>\n",
       "    <tr>\n",
       "      <th>1</th>\n",
       "      <td>oral-answer-2676.json</td>\n",
       "      <td>oral answers questions</td>\n",
       "      <td>2022-01-12</td>\n",
       "      <td>considerations classifying \"red lines: politic...</td>\n",
       "      <td>josephine teo</td>\n",
       "      <td>mr speaker, thank ms tin supplementary questio...</td>\n",
       "      <td>265</td>\n",
       "      <td>31</td>\n",
       "    </tr>\n",
       "    <tr>\n",
       "      <th>2</th>\n",
       "      <td>written-answer-9699.json</td>\n",
       "      <td>written answers questions</td>\n",
       "      <td>2022-01-12</td>\n",
       "      <td>revisions design technology on-board units nex...</td>\n",
       "      <td>yip hon weng</td>\n",
       "      <td>asked minister transport (a) revisions design ...</td>\n",
       "      <td>240</td>\n",
       "      <td>29</td>\n",
       "    </tr>\n",
       "    <tr>\n",
       "      <th>3</th>\n",
       "      <td>bill-565.json</td>\n",
       "      <td>second reading bills</td>\n",
       "      <td>2022-01-12</td>\n",
       "      <td>legal profession (amendment) bill</td>\n",
       "      <td>christopher de souza</td>\n",
       "      <td>efforts yielded results. singapore recognised ...</td>\n",
       "      <td>15760</td>\n",
       "      <td>1946</td>\n",
       "    </tr>\n",
       "    <tr>\n",
       "      <th>4</th>\n",
       "      <td>written-answer-9696.json</td>\n",
       "      <td>written answers questions</td>\n",
       "      <td>2022-01-12</td>\n",
       "      <td>closure cpf account discontinuation cpf life p...</td>\n",
       "      <td>dennis tan lip fong</td>\n",
       "      <td>asked minister manpower (a) whether singaporea...</td>\n",
       "      <td>341</td>\n",
       "      <td>44</td>\n",
       "    </tr>\n",
       "  </tbody>\n",
       "</table>\n",
       "</div>"
      ],
      "text/plain": [
       "                  report_id                    section       date  \\\n",
       "0     oral-answer-2675.json     oral answers questions 2022-01-12   \n",
       "1     oral-answer-2676.json     oral answers questions 2022-01-12   \n",
       "2  written-answer-9699.json  written answers questions 2022-01-12   \n",
       "3             bill-565.json       second reading bills 2022-01-12   \n",
       "4  written-answer-9696.json  written answers questions 2022-01-12   \n",
       "\n",
       "                                               title                  name  \\\n",
       "0  proposal redacted version banned book \"red lin...         sitoh yih pin   \n",
       "1  considerations classifying \"red lines: politic...         josephine teo   \n",
       "2  revisions design technology on-board units nex...          yip hon weng   \n",
       "3                  legal profession (amendment) bill  christopher de souza   \n",
       "4  closure cpf account discontinuation cpf life p...   dennis tan lip fong   \n",
       "\n",
       "                                              speech  \\\n",
       "0  asked minister communications information aris...   \n",
       "1  mr speaker, thank ms tin supplementary questio...   \n",
       "2  asked minister transport (a) revisions design ...   \n",
       "3  efforts yielded results. singapore recognised ...   \n",
       "4  asked minister manpower (a) whether singaporea...   \n",
       "\n",
       "   speech_length_characters  speech_length_words  \n",
       "0                       228                   25  \n",
       "1                       265                   31  \n",
       "2                       240                   29  \n",
       "3                     15760                 1946  \n",
       "4                       341                   44  "
      ]
     },
     "execution_count": 517,
     "metadata": {},
     "output_type": "execute_result"
    }
   ],
   "source": [
    "stat_df = df.copy()\n",
    "stat_df['speech_length_characters'] = stat_df['speech'].str.len()\n",
    "stat_df['speech_length_words'] = stat_df['speech'].str.split().map(lambda x: len(x))\n",
    "stat_df.head()"
   ]
  },
  {
   "cell_type": "markdown",
   "id": "91f62d50-bea7-485f-a7c3-83d33e3263c2",
   "metadata": {},
   "source": [
    "Distribution of the number of characters"
   ]
  },
  {
   "cell_type": "code",
   "execution_count": 518,
   "id": "10af2839-3095-4daa-ba82-4d251176bb51",
   "metadata": {},
   "outputs": [
    {
     "data": {
      "image/png": "[encoded data removed]",
      "text/plain": [
       "<Figure size 432x288 with 1 Axes>"
      ]
     },
     "metadata": {
      "image/png": {
       "height": 248,
       "width": 400
      },
      "needs_background": "light"
     },
     "output_type": "display_data"
    }
   ],
   "source": [
    "bins = np.arange(0,stat_df['speech_length_characters'].max(),10)\n",
    "plt.hist(stat_df['speech_length_characters'], bins=bins, density=True)\n",
    "#plt.xscale('log')\n",
    "#plt.yscale('log')\n",
    "plt.show()"
   ]
  },
  {
   "cell_type": "markdown",
   "id": "f3c9cc93-ce1e-4e5b-a666-4838bbefa5df",
   "metadata": {},
   "source": [
    "Distribution of the number of words"
   ]
  },
  {
   "cell_type": "code",
   "execution_count": 519,
   "id": "835711e9-79ad-4fb5-82a7-84631dfad096",
   "metadata": {},
   "outputs": [
    {
     "data": {
      "image/png": "[encoded data removed]",
      "text/plain": [
       "<Figure size 432x288 with 1 Axes>"
      ]
     },
     "metadata": {
      "image/png": {
       "height": 249,
       "width": 379
      },
      "needs_background": "light"
     },
     "output_type": "display_data"
    }
   ],
   "source": [
    "bins = np.arange(0,stat_df['speech_length_words'].max(),10)\n",
    "plt.hist(stat_df['speech_length_words'], bins=bins, density=True)\n",
    "plt.xscale('log')\n",
    "plt.yscale('log')\n",
    "plt.show()"
   ]
  },
  {
   "cell_type": "markdown",
   "id": "ee8046b2-7757-4d4d-9619-c8df9369296d",
   "metadata": {},
   "source": [
    "Number of speeches per MP"
   ]
  },
  {
   "cell_type": "code",
   "execution_count": 520,
   "id": "49903dd5-d7bc-4ae0-a88d-634f7d900a2a",
   "metadata": {},
   "outputs": [
    {
     "data": {
      "text/html": [
       "<div>\n",
       "<style scoped>\n",
       "    .dataframe tbody tr th:only-of-type {\n",
       "        vertical-align: middle;\n",
       "    }\n",
       "\n",
       "    .dataframe tbody tr th {\n",
       "        vertical-align: top;\n",
       "    }\n",
       "\n",
       "    .dataframe thead tr th {\n",
       "        text-align: left;\n",
       "    }\n",
       "</style>\n",
       "<table border=\"1\" class=\"dataframe\">\n",
       "  <thead>\n",
       "    <tr>\n",
       "      <th></th>\n",
       "      <th>name</th>\n",
       "      <th>speech</th>\n",
       "      <th colspan=\"5\" halign=\"left\">speech_length_words</th>\n",
       "      <th colspan=\"5\" halign=\"left\">speech_length_characters</th>\n",
       "    </tr>\n",
       "    <tr>\n",
       "      <th></th>\n",
       "      <th></th>\n",
       "      <th>count</th>\n",
       "      <th>max</th>\n",
       "      <th>min</th>\n",
       "      <th>mean</th>\n",
       "      <th>median</th>\n",
       "      <th>std</th>\n",
       "      <th>max</th>\n",
       "      <th>min</th>\n",
       "      <th>mean</th>\n",
       "      <th>median</th>\n",
       "      <th>std</th>\n",
       "    </tr>\n",
       "  </thead>\n",
       "  <tbody>\n",
       "    <tr>\n",
       "      <th>0</th>\n",
       "      <td>chiam see tong</td>\n",
       "      <td>4219</td>\n",
       "      <td>2079</td>\n",
       "      <td>1</td>\n",
       "      <td>58.280398</td>\n",
       "      <td>16.0</td>\n",
       "      <td>132.246020</td>\n",
       "      <td>16055</td>\n",
       "      <td>2</td>\n",
       "      <td>430.866082</td>\n",
       "      <td>118.0</td>\n",
       "      <td>988.653139</td>\n",
       "    </tr>\n",
       "    <tr>\n",
       "      <th>1</th>\n",
       "      <td>low thia khiang</td>\n",
       "      <td>2462</td>\n",
       "      <td>1390</td>\n",
       "      <td>1</td>\n",
       "      <td>68.902924</td>\n",
       "      <td>24.0</td>\n",
       "      <td>139.110587</td>\n",
       "      <td>10486</td>\n",
       "      <td>3</td>\n",
       "      <td>530.975630</td>\n",
       "      <td>178.0</td>\n",
       "      <td>1080.868366</td>\n",
       "    </tr>\n",
       "    <tr>\n",
       "      <th>2</th>\n",
       "      <td>ng kah ting</td>\n",
       "      <td>1792</td>\n",
       "      <td>1844</td>\n",
       "      <td>1</td>\n",
       "      <td>72.892857</td>\n",
       "      <td>28.0</td>\n",
       "      <td>155.408626</td>\n",
       "      <td>14069</td>\n",
       "      <td>3</td>\n",
       "      <td>547.219866</td>\n",
       "      <td>209.0</td>\n",
       "      <td>1186.092203</td>\n",
       "    </tr>\n",
       "    <tr>\n",
       "      <th>3</th>\n",
       "      <td>gan kim yong</td>\n",
       "      <td>1644</td>\n",
       "      <td>3489</td>\n",
       "      <td>1</td>\n",
       "      <td>184.951946</td>\n",
       "      <td>123.0</td>\n",
       "      <td>295.745936</td>\n",
       "      <td>27278</td>\n",
       "      <td>5</td>\n",
       "      <td>1473.583942</td>\n",
       "      <td>987.0</td>\n",
       "      <td>2320.570433</td>\n",
       "    </tr>\n",
       "    <tr>\n",
       "      <th>4</th>\n",
       "      <td>khaw boon wan</td>\n",
       "      <td>1640</td>\n",
       "      <td>3759</td>\n",
       "      <td>1</td>\n",
       "      <td>140.114634</td>\n",
       "      <td>78.0</td>\n",
       "      <td>290.397899</td>\n",
       "      <td>28420</td>\n",
       "      <td>3</td>\n",
       "      <td>1070.694512</td>\n",
       "      <td>604.0</td>\n",
       "      <td>2183.131282</td>\n",
       "    </tr>\n",
       "    <tr>\n",
       "      <th>...</th>\n",
       "      <td>...</td>\n",
       "      <td>...</td>\n",
       "      <td>...</td>\n",
       "      <td>...</td>\n",
       "      <td>...</td>\n",
       "      <td>...</td>\n",
       "      <td>...</td>\n",
       "      <td>...</td>\n",
       "      <td>...</td>\n",
       "      <td>...</td>\n",
       "      <td>...</td>\n",
       "      <td>...</td>\n",
       "    </tr>\n",
       "    <tr>\n",
       "      <th>407</th>\n",
       "      <td>koo young</td>\n",
       "      <td>2</td>\n",
       "      <td>104</td>\n",
       "      <td>21</td>\n",
       "      <td>62.500000</td>\n",
       "      <td>62.5</td>\n",
       "      <td>58.689863</td>\n",
       "      <td>777</td>\n",
       "      <td>168</td>\n",
       "      <td>472.500000</td>\n",
       "      <td>472.5</td>\n",
       "      <td>430.628030</td>\n",
       "    </tr>\n",
       "    <tr>\n",
       "      <th>408</th>\n",
       "      <td>s iswaran</td>\n",
       "      <td>2</td>\n",
       "      <td>228</td>\n",
       "      <td>129</td>\n",
       "      <td>178.500000</td>\n",
       "      <td>178.5</td>\n",
       "      <td>70.003571</td>\n",
       "      <td>1917</td>\n",
       "      <td>1064</td>\n",
       "      <td>1490.500000</td>\n",
       "      <td>1490.5</td>\n",
       "      <td>603.162084</td>\n",
       "    </tr>\n",
       "    <tr>\n",
       "      <th>409</th>\n",
       "      <td>poh ber liak</td>\n",
       "      <td>2</td>\n",
       "      <td>366</td>\n",
       "      <td>56</td>\n",
       "      <td>211.000000</td>\n",
       "      <td>211.0</td>\n",
       "      <td>219.203102</td>\n",
       "      <td>2861</td>\n",
       "      <td>398</td>\n",
       "      <td>1629.500000</td>\n",
       "      <td>1629.5</td>\n",
       "      <td>1741.604002</td>\n",
       "    </tr>\n",
       "    <tr>\n",
       "      <th>410</th>\n",
       "      <td>c. v. devan nair</td>\n",
       "      <td>1</td>\n",
       "      <td>502</td>\n",
       "      <td>502</td>\n",
       "      <td>502.000000</td>\n",
       "      <td>502.0</td>\n",
       "      <td>NaN</td>\n",
       "      <td>3930</td>\n",
       "      <td>3930</td>\n",
       "      <td>3930.000000</td>\n",
       "      <td>3930.0</td>\n",
       "      <td>NaN</td>\n",
       "    </tr>\n",
       "    <tr>\n",
       "      <th>411</th>\n",
       "      <td>lee teck him</td>\n",
       "      <td>1</td>\n",
       "      <td>2</td>\n",
       "      <td>2</td>\n",
       "      <td>2.000000</td>\n",
       "      <td>2.0</td>\n",
       "      <td>NaN</td>\n",
       "      <td>8</td>\n",
       "      <td>8</td>\n",
       "      <td>8.000000</td>\n",
       "      <td>8.0</td>\n",
       "      <td>NaN</td>\n",
       "    </tr>\n",
       "  </tbody>\n",
       "</table>\n",
       "<p>412 rows × 12 columns</p>\n",
       "</div>"
      ],
      "text/plain": [
       "                 name speech speech_length_words                          \\\n",
       "                       count                 max  min        mean median   \n",
       "0      chiam see tong   4219                2079    1   58.280398   16.0   \n",
       "1     low thia khiang   2462                1390    1   68.902924   24.0   \n",
       "2         ng kah ting   1792                1844    1   72.892857   28.0   \n",
       "3        gan kim yong   1644                3489    1  184.951946  123.0   \n",
       "4       khaw boon wan   1640                3759    1  140.114634   78.0   \n",
       "..                ...    ...                 ...  ...         ...    ...   \n",
       "407         koo young      2                 104   21   62.500000   62.5   \n",
       "408         s iswaran      2                 228  129  178.500000  178.5   \n",
       "409      poh ber liak      2                 366   56  211.000000  211.0   \n",
       "410  c. v. devan nair      1                 502  502  502.000000  502.0   \n",
       "411      lee teck him      1                   2    2    2.000000    2.0   \n",
       "\n",
       "                speech_length_characters                             \\\n",
       "            std                      max   min         mean  median   \n",
       "0    132.246020                    16055     2   430.866082   118.0   \n",
       "1    139.110587                    10486     3   530.975630   178.0   \n",
       "2    155.408626                    14069     3   547.219866   209.0   \n",
       "3    295.745936                    27278     5  1473.583942   987.0   \n",
       "4    290.397899                    28420     3  1070.694512   604.0   \n",
       "..          ...                      ...   ...          ...     ...   \n",
       "407   58.689863                      777   168   472.500000   472.5   \n",
       "408   70.003571                     1917  1064  1490.500000  1490.5   \n",
       "409  219.203102                     2861   398  1629.500000  1629.5   \n",
       "410         NaN                     3930  3930  3930.000000  3930.0   \n",
       "411         NaN                        8     8     8.000000     8.0   \n",
       "\n",
       "                  \n",
       "             std  \n",
       "0     988.653139  \n",
       "1    1080.868366  \n",
       "2    1186.092203  \n",
       "3    2320.570433  \n",
       "4    2183.131282  \n",
       "..           ...  \n",
       "407   430.628030  \n",
       "408   603.162084  \n",
       "409  1741.604002  \n",
       "410          NaN  \n",
       "411          NaN  \n",
       "\n",
       "[412 rows x 12 columns]"
      ]
     },
     "execution_count": 520,
     "metadata": {},
     "output_type": "execute_result"
    }
   ],
   "source": [
    "speech_dist = stat_df[['name','speech', 'speech_length_words', 'speech_length_characters']].groupby(['name']).agg({\n",
    "    \"speech\": [\"count\"], \n",
    "    \"speech_length_words\": [\"max\", \"min\", \"mean\", \"median\", \"std\"], \n",
    "    \"speech_length_characters\": [\"max\", \"min\", \"mean\", \"median\", \"std\"]})\n",
    "speech_dist = speech_dist.sort_values([('speech','count')], ascending=False).reset_index()\n",
    "speech_dist"
   ]
  },
  {
   "cell_type": "code",
   "execution_count": 521,
   "id": "d3b8848c-681e-4930-b27a-7a824b0441cc",
   "metadata": {},
   "outputs": [
    {
     "data": {
      "image/png": "[encoded data removed]",
      "text/plain": [
       "<Figure size 720x360 with 1 Axes>"
      ]
     },
     "metadata": {
      "image/png": {
       "height": 317,
       "width": 610
      },
      "needs_background": "light"
     },
     "output_type": "display_data"
    }
   ],
   "source": [
    "rcParams['figure.figsize'] = 10, 5 \n",
    "bins = np.arange(0, max(speech_dist[('speech','count')]), 50)\n",
    "plt.hist(speech_dist[('speech','count')], bins=bins)\n",
    "plt.xscale('log')\n",
    "plt.yscale('log')\n",
    "plt.xlabel(\"Number of speeches per MP\")\n",
    "plt.ylabel(\"Number of MPs\")\n",
    "plt.show()"
   ]
  },
  {
   "cell_type": "markdown",
   "id": "17ce015a-12b4-46c9-8da3-226784804a87",
   "metadata": {},
   "source": [
    "# 14th parliament"
   ]
  },
  {
   "cell_type": "code",
   "execution_count": 523,
   "id": "a1f8412c-6250-40b7-b8a9-075c2bb8d505",
   "metadata": {},
   "outputs": [
    {
     "data": {
      "text/html": [
       "<div>\n",
       "<style scoped>\n",
       "    .dataframe tbody tr th:only-of-type {\n",
       "        vertical-align: middle;\n",
       "    }\n",
       "\n",
       "    .dataframe tbody tr th {\n",
       "        vertical-align: top;\n",
       "    }\n",
       "\n",
       "    .dataframe thead th {\n",
       "        text-align: right;\n",
       "    }\n",
       "</style>\n",
       "<table border=\"1\" class=\"dataframe\">\n",
       "  <thead>\n",
       "    <tr style=\"text-align: right;\">\n",
       "      <th></th>\n",
       "      <th>report_id</th>\n",
       "      <th>section</th>\n",
       "      <th>date</th>\n",
       "      <th>title</th>\n",
       "      <th>name</th>\n",
       "      <th>speech</th>\n",
       "      <th>speech_length_characters</th>\n",
       "      <th>speech_length_words</th>\n",
       "    </tr>\n",
       "  </thead>\n",
       "  <tbody>\n",
       "    <tr>\n",
       "      <th>0</th>\n",
       "      <td>oral-answer-2675.json</td>\n",
       "      <td>oral answers questions</td>\n",
       "      <td>2022-01-12</td>\n",
       "      <td>proposal redacted version banned book \"red lin...</td>\n",
       "      <td>sitoh yih pin</td>\n",
       "      <td>asked minister communications information aris...</td>\n",
       "      <td>228</td>\n",
       "      <td>25</td>\n",
       "    </tr>\n",
       "    <tr>\n",
       "      <th>1</th>\n",
       "      <td>oral-answer-2676.json</td>\n",
       "      <td>oral answers questions</td>\n",
       "      <td>2022-01-12</td>\n",
       "      <td>considerations classifying \"red lines: politic...</td>\n",
       "      <td>josephine teo</td>\n",
       "      <td>mr speaker, thank ms tin supplementary questio...</td>\n",
       "      <td>265</td>\n",
       "      <td>31</td>\n",
       "    </tr>\n",
       "    <tr>\n",
       "      <th>2</th>\n",
       "      <td>written-answer-9699.json</td>\n",
       "      <td>written answers questions</td>\n",
       "      <td>2022-01-12</td>\n",
       "      <td>revisions design technology on-board units nex...</td>\n",
       "      <td>yip hon weng</td>\n",
       "      <td>asked minister transport (a) revisions design ...</td>\n",
       "      <td>240</td>\n",
       "      <td>29</td>\n",
       "    </tr>\n",
       "    <tr>\n",
       "      <th>3</th>\n",
       "      <td>bill-565.json</td>\n",
       "      <td>second reading bills</td>\n",
       "      <td>2022-01-12</td>\n",
       "      <td>legal profession (amendment) bill</td>\n",
       "      <td>christopher de souza</td>\n",
       "      <td>efforts yielded results. singapore recognised ...</td>\n",
       "      <td>15760</td>\n",
       "      <td>1946</td>\n",
       "    </tr>\n",
       "    <tr>\n",
       "      <th>4</th>\n",
       "      <td>written-answer-9696.json</td>\n",
       "      <td>written answers questions</td>\n",
       "      <td>2022-01-12</td>\n",
       "      <td>closure cpf account discontinuation cpf life p...</td>\n",
       "      <td>dennis tan lip fong</td>\n",
       "      <td>asked minister manpower (a) whether singaporea...</td>\n",
       "      <td>341</td>\n",
       "      <td>44</td>\n",
       "    </tr>\n",
       "    <tr>\n",
       "      <th>...</th>\n",
       "      <td>...</td>\n",
       "      <td>...</td>\n",
       "      <td>...</td>\n",
       "      <td>...</td>\n",
       "      <td>...</td>\n",
       "      <td>...</td>\n",
       "      <td>...</td>\n",
       "      <td>...</td>\n",
       "    </tr>\n",
       "    <tr>\n",
       "      <th>9096</th>\n",
       "      <td>president-address-1429.json</td>\n",
       "      <td>president's address</td>\n",
       "      <td>2020-08-24</td>\n",
       "      <td>prime minister’s office (national research fou...</td>\n",
       "      <td>heng swee keat</td>\n",
       "      <td>national research foundation (nrf) seeks harne...</td>\n",
       "      <td>5076</td>\n",
       "      <td>588</td>\n",
       "    </tr>\n",
       "    <tr>\n",
       "      <th>9097</th>\n",
       "      <td>motion-1417.json</td>\n",
       "      <td>motions</td>\n",
       "      <td>2020-08-24</td>\n",
       "      <td>election speaker</td>\n",
       "      <td>sitoh yih pin</td>\n",
       "      <td>clerk, support proposal. one proposal, clerk d...</td>\n",
       "      <td>229</td>\n",
       "      <td>33</td>\n",
       "    </tr>\n",
       "    <tr>\n",
       "      <th>9098</th>\n",
       "      <td>motion-1417.json</td>\n",
       "      <td>motions</td>\n",
       "      <td>2020-08-24</td>\n",
       "      <td>election speaker</td>\n",
       "      <td>indranee rajah</td>\n",
       "      <td>clerk, propose, \"that mr tan chuan-jin take ch...</td>\n",
       "      <td>128</td>\n",
       "      <td>19</td>\n",
       "    </tr>\n",
       "    <tr>\n",
       "      <th>9099</th>\n",
       "      <td>tribute-1419.json</td>\n",
       "      <td>tributes</td>\n",
       "      <td>2020-08-24</td>\n",
       "      <td>election speaker</td>\n",
       "      <td>vikram nair</td>\n",
       "      <td>mr speaker, tamil, please.</td>\n",
       "      <td>26</td>\n",
       "      <td>4</td>\n",
       "    </tr>\n",
       "    <tr>\n",
       "      <th>9100</th>\n",
       "      <td>president-address-1426.json</td>\n",
       "      <td>president's address</td>\n",
       "      <td>2020-08-24</td>\n",
       "      <td>ministry manpower (addendum president's address)</td>\n",
       "      <td>josephine teo</td>\n",
       "      <td>covid-19 pandemic presented unprecedented chal...</td>\n",
       "      <td>6693</td>\n",
       "      <td>816</td>\n",
       "    </tr>\n",
       "  </tbody>\n",
       "</table>\n",
       "<p>9101 rows × 8 columns</p>\n",
       "</div>"
      ],
      "text/plain": [
       "                        report_id                    section       date  \\\n",
       "0           oral-answer-2675.json     oral answers questions 2022-01-12   \n",
       "1           oral-answer-2676.json     oral answers questions 2022-01-12   \n",
       "2        written-answer-9699.json  written answers questions 2022-01-12   \n",
       "3                   bill-565.json       second reading bills 2022-01-12   \n",
       "4        written-answer-9696.json  written answers questions 2022-01-12   \n",
       "...                           ...                        ...        ...   \n",
       "9096  president-address-1429.json        president's address 2020-08-24   \n",
       "9097             motion-1417.json                    motions 2020-08-24   \n",
       "9098             motion-1417.json                    motions 2020-08-24   \n",
       "9099            tribute-1419.json                   tributes 2020-08-24   \n",
       "9100  president-address-1426.json        president's address 2020-08-24   \n",
       "\n",
       "                                                  title                  name  \\\n",
       "0     proposal redacted version banned book \"red lin...         sitoh yih pin   \n",
       "1     considerations classifying \"red lines: politic...         josephine teo   \n",
       "2     revisions design technology on-board units nex...          yip hon weng   \n",
       "3                     legal profession (amendment) bill  christopher de souza   \n",
       "4     closure cpf account discontinuation cpf life p...   dennis tan lip fong   \n",
       "...                                                 ...                   ...   \n",
       "9096  prime minister’s office (national research fou...        heng swee keat   \n",
       "9097                                   election speaker         sitoh yih pin   \n",
       "9098                                   election speaker        indranee rajah   \n",
       "9099                                   election speaker           vikram nair   \n",
       "9100   ministry manpower (addendum president's address)         josephine teo   \n",
       "\n",
       "                                                 speech  \\\n",
       "0     asked minister communications information aris...   \n",
       "1     mr speaker, thank ms tin supplementary questio...   \n",
       "2     asked minister transport (a) revisions design ...   \n",
       "3     efforts yielded results. singapore recognised ...   \n",
       "4     asked minister manpower (a) whether singaporea...   \n",
       "...                                                 ...   \n",
       "9096  national research foundation (nrf) seeks harne...   \n",
       "9097  clerk, support proposal. one proposal, clerk d...   \n",
       "9098  clerk, propose, \"that mr tan chuan-jin take ch...   \n",
       "9099                         mr speaker, tamil, please.   \n",
       "9100  covid-19 pandemic presented unprecedented chal...   \n",
       "\n",
       "      speech_length_characters  speech_length_words  \n",
       "0                          228                   25  \n",
       "1                          265                   31  \n",
       "2                          240                   29  \n",
       "3                        15760                 1946  \n",
       "4                          341                   44  \n",
       "...                        ...                  ...  \n",
       "9096                      5076                  588  \n",
       "9097                       229                   33  \n",
       "9098                       128                   19  \n",
       "9099                        26                    4  \n",
       "9100                      6693                  816  \n",
       "\n",
       "[9101 rows x 8 columns]"
      ]
     },
     "execution_count": 523,
     "metadata": {},
     "output_type": "execute_result"
    }
   ],
   "source": [
    "parliament14_df = df[df['date'] >= '2020-08-24']\n",
    "parliament14_df"
   ]
  },
  {
   "cell_type": "code",
   "execution_count": null,
   "id": "7e7cd364-7d64-4f77-ac1d-11434bf7258b",
   "metadata": {},
   "outputs": [],
   "source": []
  },
  {
   "cell_type": "code",
   "execution_count": null,
   "id": "3bb8e4b1-4497-40ec-b9b6-129031f6e144",
   "metadata": {},
   "outputs": [],
   "source": []
  },
  {
   "cell_type": "code",
   "execution_count": null,
   "id": "5901623b-3497-4e16-bd01-78b7f31f8772",
   "metadata": {},
   "outputs": [],
   "source": []
  },
  {
   "cell_type": "code",
   "execution_count": null,
   "id": "9fe7096f-a892-4642-8992-ecac5f524369",
   "metadata": {},
   "outputs": [],
   "source": []
  },
  {
   "cell_type": "code",
   "execution_count": null,
   "id": "d6c4407d-d377-48c6-b22e-31ef13082d55",
   "metadata": {},
   "outputs": [],
   "source": []
  }
 ],
 "metadata": {
  "kernelspec": {
   "display_name": "Python 3 (ipykernel)",
   "language": "python",
   "name": "python3"
  },
  "language_info": {
   "codemirror_mode": {
    "name": "ipython",
    "version": 3
   },
   "file_extension": ".py",
   "mimetype": "text/x-python",
   "name": "python",
   "nbconvert_exporter": "python",
   "pygments_lexer": "ipython3",
   "version": "3.8.12"
  }
 },
 "nbformat": 4,
 "nbformat_minor": 5
}
