{
 "cells": [
  {
   "cell_type": "code",
   "execution_count": 1,
   "id": "5ddaebd9-1968-42ff-91c2-a60f4000f16f",
   "metadata": {},
   "outputs": [],
   "source": [
    "import numpy as np\n",
    "import pandas as pd\n",
    "import re"
   ]
  },
  {
   "cell_type": "code",
   "execution_count": 2,
   "id": "8e603a3d-1ed5-4893-8db9-140d8bd2fbe5",
   "metadata": {},
   "outputs": [],
   "source": [
    "ENTITIES_PATH = \"entities.txt\"\n",
    "DATASET_PATH = \"sentences.csv\""
   ]
  },
  {
   "cell_type": "code",
   "execution_count": 3,
   "id": "dc229b43-957e-4fae-9b65-0eeeff20cf15",
   "metadata": {},
   "outputs": [
    {
     "data": {
      "text/html": [
       "<div>\n",
       "<style scoped>\n",
       "    .dataframe tbody tr th:only-of-type {\n",
       "        vertical-align: middle;\n",
       "    }\n",
       "\n",
       "    .dataframe tbody tr th {\n",
       "        vertical-align: top;\n",
       "    }\n",
       "\n",
       "    .dataframe thead th {\n",
       "        text-align: right;\n",
       "    }\n",
       "</style>\n",
       "<table border=\"1\" class=\"dataframe\">\n",
       "  <thead>\n",
       "    <tr style=\"text-align: right;\">\n",
       "      <th></th>\n",
       "      <th>name</th>\n",
       "    </tr>\n",
       "  </thead>\n",
       "  <tbody>\n",
       "    <tr>\n",
       "      <th>0</th>\n",
       "      <td>the minister for social and family development...</td>\n",
       "    </tr>\n",
       "    <tr>\n",
       "      <th>1</th>\n",
       "      <td>mr speaker</td>\n",
       "    </tr>\n",
       "    <tr>\n",
       "      <th>2</th>\n",
       "      <td>mr desmond lee</td>\n",
       "    </tr>\n",
       "    <tr>\n",
       "      <th>3</th>\n",
       "      <td>ms denise phua lay peng jalan besar</td>\n",
       "    </tr>\n",
       "    <tr>\n",
       "      <th>4</th>\n",
       "      <td>ms sylvia lim aljunied</td>\n",
       "    </tr>\n",
       "  </tbody>\n",
       "</table>\n",
       "</div>"
      ],
      "text/plain": [
       "                                                name\n",
       "0  the minister for social and family development...\n",
       "1                                         mr speaker\n",
       "2                                     mr desmond lee\n",
       "3                ms denise phua lay peng jalan besar\n",
       "4                             ms sylvia lim aljunied"
      ]
     },
     "execution_count": 3,
     "metadata": {},
     "output_type": "execute_result"
    }
   ],
   "source": [
    "df = pd.read_csv(DATASET_PATH, index_col=0, header=0, names=[\"name\"])\n",
    "df.head()"
   ]
  },
  {
   "cell_type": "code",
   "execution_count": 4,
   "id": "a622d0ed-d0c9-4dd9-a116-fc11984b2d98",
   "metadata": {},
   "outputs": [],
   "source": [
    "with open(ENTITIES_PATH) as f:\n",
    "    entities = np.array([re.sub(r\"[^a-z. ]\", \"\", line.replace(\"\\n\",\"\").lower().strip()) for line in f.readlines() if line.strip()])"
   ]
  },
  {
   "cell_type": "markdown",
   "id": "7eb71b89-8efd-4a83-9964-c9e41ed25f24",
   "metadata": {},
   "source": [
    "Special case:"
   ]
  },
  {
   "cell_type": "code",
   "execution_count": 5,
   "id": "f283037b-3212-4316-b791-0ec850a82982",
   "metadata": {},
   "outputs": [],
   "source": [
    "df.loc[(df['name'] == \"the prime minister\"), \"name\"] = 'lee hsien loong'"
   ]
  },
  {
   "cell_type": "code",
   "execution_count": 6,
   "id": "304aa83a-fee2-45a8-a63a-dc88451a2bdf",
   "metadata": {},
   "outputs": [],
   "source": [
    "def map_text_to_mp(text, entities):\n",
    "    for entity in entities:\n",
    "        if entity in text:\n",
    "            content = re.sub(entity, lambda x: f\" {x.group()} \", text)\n",
    "            content = content.replace(\"  \", \" \").strip()\n",
    "            match = re.search(entity, content)\n",
    "            return content, match.span()\n",
    "    return np.nan"
   ]
  },
  {
   "cell_type": "code",
   "execution_count": 7,
   "id": "c387f3f2-db63-4563-8acb-ca5804abf1c2",
   "metadata": {},
   "outputs": [
    {
     "data": {
      "text/html": [
       "<div>\n",
       "<style scoped>\n",
       "    .dataframe tbody tr th:only-of-type {\n",
       "        vertical-align: middle;\n",
       "    }\n",
       "\n",
       "    .dataframe tbody tr th {\n",
       "        vertical-align: top;\n",
       "    }\n",
       "\n",
       "    .dataframe thead th {\n",
       "        text-align: right;\n",
       "    }\n",
       "</style>\n",
       "<table border=\"1\" class=\"dataframe\">\n",
       "  <thead>\n",
       "    <tr style=\"text-align: right;\">\n",
       "      <th></th>\n",
       "      <th>name</th>\n",
       "      <th>data</th>\n",
       "    </tr>\n",
       "  </thead>\n",
       "  <tbody>\n",
       "    <tr>\n",
       "      <th>0</th>\n",
       "      <td>the minister for social and family development...</td>\n",
       "      <td>(the minister for social and family developmen...</td>\n",
       "    </tr>\n",
       "    <tr>\n",
       "      <th>1</th>\n",
       "      <td>mr speaker</td>\n",
       "      <td>NaN</td>\n",
       "    </tr>\n",
       "    <tr>\n",
       "      <th>2</th>\n",
       "      <td>mr desmond lee</td>\n",
       "      <td>(mr desmond lee, (3, 14))</td>\n",
       "    </tr>\n",
       "    <tr>\n",
       "      <th>3</th>\n",
       "      <td>ms denise phua lay peng jalan besar</td>\n",
       "      <td>(ms denise phua lay peng jalan besar, (3, 23))</td>\n",
       "    </tr>\n",
       "    <tr>\n",
       "      <th>4</th>\n",
       "      <td>ms sylvia lim aljunied</td>\n",
       "      <td>(ms sylvia lim aljunied, (3, 13))</td>\n",
       "    </tr>\n",
       "  </tbody>\n",
       "</table>\n",
       "</div>"
      ],
      "text/plain": [
       "                                                name  \\\n",
       "0  the minister for social and family development...   \n",
       "1                                         mr speaker   \n",
       "2                                     mr desmond lee   \n",
       "3                ms denise phua lay peng jalan besar   \n",
       "4                             ms sylvia lim aljunied   \n",
       "\n",
       "                                                data  \n",
       "0  (the minister for social and family developmen...  \n",
       "1                                                NaN  \n",
       "2                          (mr desmond lee, (3, 14))  \n",
       "3     (ms denise phua lay peng jalan besar, (3, 23))  \n",
       "4                  (ms sylvia lim aljunied, (3, 13))  "
      ]
     },
     "execution_count": 7,
     "metadata": {},
     "output_type": "execute_result"
    }
   ],
   "source": [
    "df['data'] = df['name'].map(lambda text: map_text_to_mp(text, entities))\n",
    "df.head()"
   ]
  },
  {
   "cell_type": "code",
   "execution_count": 8,
   "id": "a4793b3c-3dd4-47e4-b2b0-354bd06dda53",
   "metadata": {},
   "outputs": [],
   "source": [
    "df = df.dropna()"
   ]
  },
  {
   "cell_type": "markdown",
   "id": "63815500-89d3-443d-b240-4b9a3deb7fde",
   "metadata": {},
   "source": [
    "Create a training set"
   ]
  },
  {
   "cell_type": "code",
   "execution_count": 9,
   "id": "48cfce52-2a40-4c2b-941c-eba26fa7d274",
   "metadata": {},
   "outputs": [],
   "source": [
    "import spacy\n",
    "from spacy.tokens import DocBin\n",
    "\n",
    "LABEL = \"PERSON\"\n",
    "def make_example(content, span):\n",
    "    return (content, [(span[0], span[1], LABEL)])\n",
    "\n",
    "nlp = spacy.blank(\"en\")\n",
    "training_data = [make_example(content, span) for content, span in df.loc[:550, 'data']]\n",
    "db = DocBin()\n",
    "for text, annotations in training_data:\n",
    "    doc = nlp(text)\n",
    "    ents = []\n",
    "    for start, end, label in annotations:\n",
    "        span = doc.char_span(start, end, label=label)\n",
    "        assert span is not None, f\"span is None: {text} {start} {end} {label}\"\n",
    "        ents.append(span)\n",
    "    doc.ents = ents\n",
    "    db.add(doc)\n",
    "db.to_disk(\"./train.spacy\")\n",
    "\n",
    "training_data = [make_example(content, span) for content, span in df.loc[550:, 'data']]\n",
    "db = DocBin()\n",
    "for text, annotations in training_data:\n",
    "    doc = nlp(text)\n",
    "    ents = []\n",
    "    for start, end, label in annotations:\n",
    "        span = doc.char_span(start, end, label=label)\n",
    "        assert span is not None, f\"span is None: {text} {start} {end} {label}\"\n",
    "        ents.append(span)\n",
    "    doc.ents = ents\n",
    "    db.add(doc)\n",
    "db.to_disk(\"./val.spacy\")"
   ]
  },
  {
   "cell_type": "code",
   "execution_count": 10,
   "id": "b215374f-4141-45e6-ba00-d21f34b5495f",
   "metadata": {},
   "outputs": [
    {
     "name": "stdout",
     "output_type": "stream",
     "text": [
      "[+] Auto-filled config with all values\n",
      "[+] Saved config\n",
      "config.cfg\n",
      "You can now add your data and train your pipeline:\n",
      "python -m spacy train config.cfg --paths.train ./train.spacy --paths.dev ./dev.spacy\n"
     ]
    }
   ],
   "source": [
    "!python -m spacy init fill-config base_config.cfg config.cfg"
   ]
  },
  {
   "cell_type": "code",
   "execution_count": 11,
   "id": "c078db35-bf05-4a1d-a8a0-ece11930f9a6",
   "metadata": {},
   "outputs": [
    {
     "name": "stdout",
     "output_type": "stream",
     "text": [
      "[i] Saving to output directory: models\n",
      "[i] Using CPU\n",
      "\u001b[1m\n",
      "=========================== Initializing pipeline ===========================\u001b[0m\n",
      "[+] Initialized pipeline\n",
      "\u001b[1m\n",
      "============================= Training pipeline =============================\u001b[0m\n",
      "[i] Pipeline: ['tok2vec', 'ner']\n",
      "[i] Initial learn rate: 0.001\n",
      "E    #       LOSS TOK2VEC  LOSS NER  ENTS_F  ENTS_P  ENTS_R  SCORE \n",
      "---  ------  ------------  --------  ------  ------  ------  ------\n",
      "  0       0          0.00     40.50    0.00    0.00    0.00    0.00\n",
      "  4     200         37.11   1270.77   97.06   98.51   95.65    0.97\n",
      "  9     400          0.33      0.34   97.06   98.51   95.65    0.97\n",
      " 16     600          8.79      3.36   97.06   98.51   95.65    0.97\n",
      " 24     800          2.83      0.99   97.81   98.53   97.10    0.98\n",
      " 34    1000         55.29     17.91   96.35   97.06   95.65    0.96\n",
      " 46    1200          0.35      0.22   96.35   97.06   95.65    0.96\n",
      " 61    1400          0.00      0.00   96.35   97.06   95.65    0.96\n",
      " 79    1600          0.00      0.00   96.35   97.06   95.65    0.96\n",
      "101    1800          0.00      0.00   96.35   97.06   95.65    0.96\n",
      "128    2000          0.00      0.00   96.35   97.06   95.65    0.96\n",
      "160    2200         40.95      2.67   97.10   97.10   97.10    0.97\n",
      "199    2400        125.79     14.61   99.27  100.00   98.55    0.99\n",
      "239    2600          0.00      0.00   99.27  100.00   98.55    0.99\n",
      "279    2800         46.17      3.71   99.27  100.00   98.55    0.99\n",
      "319    3000          0.00      0.00   99.27  100.00   98.55    0.99\n",
      "359    3200          0.00      0.00   99.27  100.00   98.55    0.99\n",
      "399    3400        447.35     17.43  100.00  100.00  100.00    1.00\n",
      "439    3600        103.75      5.16   98.55   98.55   98.55    0.99\n",
      "479    3800         47.02      1.98   97.10   97.10   97.10    0.97\n",
      "519    4000          0.07      0.01   97.10   97.10   97.10    0.97\n",
      "559    4200        298.83     23.95   98.55   98.55   98.55    0.99\n",
      "599    4400          0.00      0.00   98.55   98.55   98.55    0.99\n",
      "639    4600          0.00      0.00   98.55   98.55   98.55    0.99\n",
      "679    4800          0.00      0.00   98.55   98.55   98.55    0.99\n",
      "719    5000         43.54      1.99   98.55   98.55   98.55    0.99\n",
      "[+] Saved pipeline to output directory\n",
      "models\\model-last\n"
     ]
    },
    {
     "name": "stderr",
     "output_type": "stream",
     "text": [
      "[2022-03-19 18:19:49,796] [INFO] Set up nlp object from config\n",
      "[2022-03-19 18:19:49,805] [INFO] Pipeline: ['tok2vec', 'ner']\n",
      "[2022-03-19 18:19:49,809] [INFO] Created vocabulary\n",
      "[2022-03-19 18:19:49,810] [INFO] Finished initializing nlp object\n",
      "[2022-03-19 18:19:50,266] [INFO] Initialized pipeline components: ['tok2vec', 'ner']\n"
     ]
    }
   ],
   "source": [
    "!python -m spacy train config.cfg --output ./models"
   ]
  },
  {
   "cell_type": "code",
   "execution_count": 23,
   "id": "e59b8e94-1c2d-4d91-91a7-67611ac5ba0a",
   "metadata": {},
   "outputs": [
    {
     "name": "stdout",
     "output_type": "stream",
     "text": [
      "edwin tong PERSON\n"
     ]
    }
   ],
   "source": [
    "trained_nlp = spacy.load(\"models/model-best\")\n",
    "text = \"mr edwin tong\".lower()\n",
    "doc = trained_nlp(text)\n",
    "for ent in doc.ents:\n",
    "    print (ent.text, ent.label_)"
   ]
  },
  {
   "cell_type": "code",
   "execution_count": null,
   "id": "fe25bd68-e1e9-48f1-96f1-eb9f60d4cd6d",
   "metadata": {},
   "outputs": [],
   "source": []
  }
 ],
 "metadata": {
  "kernelspec": {
   "display_name": "Python 3 (ipykernel)",
   "language": "python",
   "name": "python3"
  },
  "language_info": {
   "codemirror_mode": {
    "name": "ipython",
    "version": 3
   },
   "file_extension": ".py",
   "mimetype": "text/x-python",
   "name": "python",
   "nbconvert_exporter": "python",
   "pygments_lexer": "ipython3",
   "version": "3.8.12"
  }
 },
 "nbformat": 4,
 "nbformat_minor": 5
}
