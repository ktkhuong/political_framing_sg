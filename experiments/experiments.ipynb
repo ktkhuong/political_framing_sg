{
 "cells": [
  {
   "cell_type": "code",
   "execution_count": 1,
   "id": "b5877eba-03b8-4bc1-a579-c60a79914a79",
   "metadata": {},
   "outputs": [],
   "source": [
    "import sqlite3\n",
    "import csv\n",
    "import json\n",
    "import pandas as pd\n",
    "import numpy as np\n",
    "import scipy as sp\n",
    "import matplotlib.pyplot as plt\n",
    "from matplotlib.ticker import (MultipleLocator, AutoMinorLocator)\n",
    "from wordcloud import WordCloud\n",
    "import plotly.express as px\n",
    "from gensim.models import Word2Vec\n",
    "import seaborn as sns\n",
    "from utils import run_sql, read_archive, find_dynamic_topic"
   ]
  },
  {
   "cell_type": "markdown",
   "id": "b2f48b51-5c27-4dba-8a03-a42ca61bd3b4",
   "metadata": {},
   "source": [
    "# PAP"
   ]
  },
  {
   "cell_type": "code",
   "execution_count": null,
   "id": "e7bee99a-dd8b-43d6-8f36-d660b1cd1297",
   "metadata": {},
   "outputs": [],
   "source": [
    "df_pap = read_archive(\"pap/\")\n",
    "print(\"PAP\", df_pap.shape)\n",
    "df_pap.head()"
   ]
  },
  {
   "cell_type": "markdown",
   "id": "ae850826-0453-4cda-acf0-199803af89b6",
   "metadata": {},
   "source": [
    "### Window topics"
   ]
  },
  {
   "cell_type": "markdown",
   "id": "6079acb9-cc96-440a-b4de-2e3474512f91",
   "metadata": {},
   "source": [
    "Number of quarters"
   ]
  },
  {
   "cell_type": "code",
   "execution_count": null,
   "id": "a33c4af3-b1a1-4cf6-9df4-b121b1335fce",
   "metadata": {},
   "outputs": [],
   "source": [
    "df_pap[\"quarter\"].unique().shape"
   ]
  },
  {
   "cell_type": "markdown",
   "id": "cda1ca56-abf7-4a26-b7d9-0d08374dc873",
   "metadata": {},
   "source": [
    "Number of window topics"
   ]
  },
  {
   "cell_type": "code",
   "execution_count": null,
   "id": "282df794-f222-49a0-9684-03de1a800e28",
   "metadata": {},
   "outputs": [],
   "source": [
    "df_pap[[\"quarter\",\"window_topic_id\"]].drop_duplicates().sort_values(by=\"window_topic_id\").groupby(\"quarter\")[[\"window_topic_id\"]].size().reset_index(name='Num of topics')[\"Num of topics\"].sum()"
   ]
  },
  {
   "cell_type": "markdown",
   "id": "caae024c-e727-47e7-959d-fca0a8eaa901",
   "metadata": {},
   "source": [
    "Num of speeches vs num of topics per quarter"
   ]
  },
  {
   "cell_type": "code",
   "execution_count": null,
   "id": "72d2e334-4659-4172-b3f2-fd06605cf4ff",
   "metadata": {},
   "outputs": [],
   "source": [
    "df_pap_quarterly_dist_speech = df_pap.groupby(\"quarter\")[[\"quarter\"]].size().reset_index(name='Num of speeches')\n",
    "fig = plt.figure(figsize=(18,4))\n",
    "ax = fig.add_subplot(111)\n",
    "line1 = ax.plot(df_pap_quarterly_dist_speech[\"quarter\"], df_pap_quarterly_dist_speech[\"Num of speeches\"], alpha=0.5, label=\"Num of speeches\")\n",
    "\n",
    "df_pap_quarterly_dist_topics = df_pap[[\"quarter\",\"window_topic_id\"]].drop_duplicates().sort_values(by=\"window_topic_id\").groupby(\"quarter\")[[\"window_topic_id\"]].size().reset_index(name='Num of topics')\n",
    "ax2 = plt.twinx()\n",
    "line2 = ax2.plot(df_pap_quarterly_dist_topics[\"quarter\"], df_pap_quarterly_dist_topics[\"Num of topics\"], c='g', label=\"Num of topics\")\n",
    "\n",
    "\n",
    "lines, labels = ax.get_legend_handles_labels()\n",
    "lines2, labels2 = ax2.get_legend_handles_labels()\n",
    "ax2.legend(lines + lines2, labels + labels2, loc='upper center')\n",
    "ax2.set_ylabel(\"Num of topics\")\n",
    "\n",
    "ax.grid(axis='y')\n",
    "ax.set_xlabel(\"Quarter\")\n",
    "ax.set_ylabel(\"Num of speeches\")\n",
    "for label in ax.get_xticklabels():\n",
    "    label.set_rotation(90)\n",
    "ax.xaxis.set_major_locator(MultipleLocator(5))\n",
    "plt.show()"
   ]
  },
  {
   "cell_type": "markdown",
   "id": "e3db6b9d-ef74-44a6-b21e-22520a25b36b",
   "metadata": {},
   "source": [
    "Correlation between topics and speeches"
   ]
  },
  {
   "cell_type": "code",
   "execution_count": null,
   "id": "601511b1-697c-44c2-b630-041b4d01f21a",
   "metadata": {},
   "outputs": [],
   "source": [
    "sp.stats.pearsonr(df_pap_quarterly_dist_topics[\"Num of topics\"], df_pap_quarterly_dist_speech[\"Num of speeches\"])"
   ]
  },
  {
   "cell_type": "markdown",
   "id": "8554ec98-fc0d-4389-95ea-ac8152c1c7b5",
   "metadata": {},
   "source": [
    "Coherence scores of window topics"
   ]
  },
  {
   "cell_type": "code",
   "execution_count": null,
   "id": "89aa5e51-5484-462e-8d78-c917cff1e1d5",
   "metadata": {},
   "outputs": [],
   "source": [
    "df_pap_quarterly_dist_topic_coherence = df_pap[[\"quarter\",\"window_topic_id\", \"window_topic_coherence\"]].drop_duplicates()\n",
    "df_pap_quarterly_dist_topic_coherence = df_pap_quarterly_dist_topic_coherence.groupby([\"quarter\"])[[\"window_topic_coherence\"]].mean().reset_index()\n",
    "fig = plt.figure(figsize=(18,3))\n",
    "ax = fig.add_subplot(111)\n",
    "ax.plot(df_pap_quarterly_dist_topic_coherence[\"quarter\"], df_pap_quarterly_dist_topic_coherence[\"window_topic_coherence\"])\n",
    "ax.set_ylim([0, 0.5])\n",
    "ax.set_xlabel(\"Quarter\")\n",
    "ax.set_ylabel(\"Coherence\")\n",
    "for label in ax.get_xticklabels():\n",
    "    label.set_rotation(90)\n",
    "ax.xaxis.set_major_locator(MultipleLocator(5))\n",
    "plt.show()"
   ]
  },
  {
   "cell_type": "code",
   "execution_count": null,
   "id": "4e9d9e77-43fc-479f-9566-f57493fd0f6a",
   "metadata": {},
   "outputs": [],
   "source": [
    "df_pap_quarterly_dist_topic_coherence[\"window_topic_coherence\"].describe()"
   ]
  },
  {
   "cell_type": "markdown",
   "id": "7eee634d-028d-4709-9853-f1f0e49c5bbe",
   "metadata": {},
   "source": [
    "2nd layer topics sorted by coherence scores"
   ]
  },
  {
   "cell_type": "code",
   "execution_count": null,
   "id": "2f771394-990c-457c-9f5a-945131bbfab2",
   "metadata": {},
   "outputs": [],
   "source": [
    "df_second_layer = df_pap[[\"dynamic_topic_id\",\"dynamic_topic_terms\", \"dynamic_topic_coherence\", \"quarter\"]]\\\n",
    ".drop_duplicates([\"dynamic_topic_id\", \"quarter\"])\\\n",
    ".groupby([\"dynamic_topic_id\",\"dynamic_topic_terms\", \"dynamic_topic_coherence\"])[[\"quarter\"]]\\\n",
    ".size().reset_index(name='Freq').sort_values(by=\"dynamic_topic_coherence\", ascending=False).reset_index(drop=True)\n",
    "df_second_layer.to_csv(\"pap_dt.csv\")\n",
    "df_second_layer"
   ]
  },
  {
   "cell_type": "markdown",
   "id": "94bfd37b-a9da-42e9-8ef4-438c0843f1df",
   "metadata": {},
   "source": [
    "Mean coherence scores of dynamic topics"
   ]
  },
  {
   "cell_type": "code",
   "execution_count": null,
   "id": "bb8720ed-9d45-42d9-99cb-2fe12e9da762",
   "metadata": {},
   "outputs": [],
   "source": [
    "df_second_layer[\"dynamic_topic_coherence\"].mean()"
   ]
  },
  {
   "cell_type": "markdown",
   "id": "bd7d1eea-2962-4545-bd81-74f3a0c2d725",
   "metadata": {},
   "source": [
    "Window topics of a particular dynamic topic"
   ]
  },
  {
   "cell_type": "code",
   "execution_count": null,
   "id": "73234be5-6e8f-4338-8474-61a54cda5940",
   "metadata": {},
   "outputs": [],
   "source": [
    "print(\"topic:\", df_pap[df_pap[\"dynamic_topic_id\"] == 11][[\"dynamic_topic_id\",\"dynamic_topic_terms\"]].drop_duplicates()[\"dynamic_topic_terms\"].values[0])\n",
    "df_dyn_topic = find_dynamic_topic(df_pap, 11)\n",
    "df_dyn_topic[\"window_topic_terms\"] = df_dyn_topic[\"window_topic_terms\"].map(lambda x: \"\\n\".join(x.split()))\n",
    "df_dyn_topic = df_dyn_topic.T\n",
    "df_dyn_topic.to_csv(\"table1.csv\")\n",
    "df_dyn_topic.head()"
   ]
  },
  {
   "cell_type": "code",
   "execution_count": null,
   "id": "b25009ab-e6a0-47bc-aafb-72546db5900f",
   "metadata": {},
   "outputs": [],
   "source": [
    "df_table = df_pap[df_pap[\"dynamic_topic_id\"] == 11].groupby(\"quarter\").size().reset_index(name=\"Number of speeches\")\n",
    "fig = plt.figure(figsize=(18,6))\n",
    "ax = fig.add_subplot(111)\n",
    "for label in ax.get_xticklabels():\n",
    "    label.set_rotation(90)\n",
    "    label.set_fontsize(8)\n",
    "ax.bar(df_table[\"quarter\"], df_table[\"Number of speeches\"])\n",
    "plt.show()"
   ]
  },
  {
   "cell_type": "markdown",
   "id": "f1690a99-f4f7-48d5-8a9c-b349fb27fc3f",
   "metadata": {},
   "source": [
    "Priorities of topics"
   ]
  },
  {
   "cell_type": "code",
   "execution_count": null,
   "id": "b9cd954a-b6fd-4f35-8f89-d0fe170bfed2",
   "metadata": {},
   "outputs": [],
   "source": [
    "df_by_speeches = df_pap.groupby([\"dynamic_topic_id\", \"dynamic_topic_terms\"])[[\"dynamic_topic_id\"]].size().reset_index(name=\"Num of speeches\").sort_values(by=\"Num of speeches\", ascending=False).reset_index(drop=True)\n",
    "df_by_speeches.head()"
   ]
  },
  {
   "cell_type": "code",
   "execution_count": null,
   "id": "5d7ea973-2cfd-4ad1-90b3-9eb14d1acde2",
   "metadata": {},
   "outputs": [],
   "source": [
    "df_by_topics = df_pap[[\"dynamic_topic_id\", \"dynamic_topic_terms\", \"window_topic_id\"]].drop_duplicates()\\\n",
    ".groupby([\"dynamic_topic_id\", \"dynamic_topic_terms\"])\\\n",
    "[[\"dynamic_topic_id\"]].size().reset_index(name=\"Num of window topics\").sort_values(by=\"Num of window topics\", ascending=False).reset_index(drop=True)\n",
    "df_by_topics.head()"
   ]
  },
  {
   "cell_type": "code",
   "execution_count": null,
   "id": "8aabb136-ee99-4d21-a5eb-f30fbc4efd6a",
   "metadata": {},
   "outputs": [],
   "source": [
    "y = df_by_speeches[\"Num of speeches\"][::-1]\n",
    "x = df_by_speeches[\"dynamic_topic_id\"].astype(str)[::-1]\n",
    "fig = plt.figure(figsize=(8,8))\n",
    "ax1 = fig.add_subplot(121)\n",
    "ax1.barh(x, y)\n",
    "for i, v in enumerate(y):\n",
    "    ax1.text(v + 3, i, str(v), fontsize='small')\n",
    "\n",
    "y = df_by_topics[\"Num of window topics\"][::-1]\n",
    "x = df_by_topics[\"dynamic_topic_id\"].astype(str)[::-1]\n",
    "ax2 = fig.add_subplot(122)\n",
    "ax2.barh(x, y)\n",
    "for i, v in enumerate(y):\n",
    "    ax2.text(v + 3, i-0.2, str(v), fontsize='small')\n",
    "ax1.grid(axis='x', alpha=0.5)\n",
    "ax2.grid(axis='x', alpha=0.5)\n",
    "ax1.set_xlabel(\"Num of speeches\")\n",
    "ax2.set_xlabel(\"Num of window topics\")\n",
    "ax1.set_ylabel(\"Dynamic topic\")\n",
    "plt.show()"
   ]
  },
  {
   "cell_type": "code",
   "execution_count": null,
   "id": "bd31f497-1196-4602-9f59-5bd73339e202",
   "metadata": {},
   "outputs": [],
   "source": [
    "sp.stats.pearsonr(df_by_speeches[\"Num of speeches\"], df_by_topics[\"Num of window topics\"])"
   ]
  },
  {
   "cell_type": "code",
   "execution_count": null,
   "id": "7080e382-79bf-4d74-91f5-df500e35eb7c",
   "metadata": {},
   "outputs": [],
   "source": []
  },
  {
   "cell_type": "code",
   "execution_count": null,
   "id": "1003cf32-7954-4868-a327-ba670468a972",
   "metadata": {},
   "outputs": [],
   "source": []
  },
  {
   "cell_type": "markdown",
   "id": "e93e8ffe-8b0d-44c9-98ba-978546b74632",
   "metadata": {},
   "source": [
    "# Opposition"
   ]
  },
  {
   "cell_type": "code",
   "execution_count": null,
   "id": "1190fcf1-ef6b-428e-8b2f-d2466fa0243c",
   "metadata": {},
   "outputs": [],
   "source": [
    "df_opposition = read_archive(\"opposition/\")\n",
    "print(\"Opposition\", df_opposition.shape)\n",
    "df_opposition.head()"
   ]
  },
  {
   "cell_type": "code",
   "execution_count": null,
   "id": "9285b1bc-cff3-4a63-b1c8-fd23fabeb559",
   "metadata": {},
   "outputs": [],
   "source": [
    "df_opposition[\"quarter\"].unique().shape"
   ]
  },
  {
   "cell_type": "code",
   "execution_count": null,
   "id": "bba1f5e2-12ee-45c7-8ed1-76cbdc8d80b0",
   "metadata": {},
   "outputs": [],
   "source": [
    "df_opposition[[\"quarter\",\"window_topic_id\"]].drop_duplicates().sort_values(by=\"window_topic_id\").groupby(\"quarter\")[[\"window_topic_id\"]].size().reset_index(name='Num of topics')[\"Num of topics\"].sum()"
   ]
  },
  {
   "cell_type": "code",
   "execution_count": null,
   "id": "04066fe0-2f2d-45dd-9bc1-95eec93d5d13",
   "metadata": {},
   "outputs": [],
   "source": [
    "df_opposition_quarterly_dist_speech = df_opposition.groupby(\"quarter\")[[\"quarter\"]].size().reset_index(name='Num of speeches')\n",
    "fig = plt.figure(figsize=(18,4))\n",
    "ax = fig.add_subplot(111)\n",
    "line1 = ax.plot(df_opposition_quarterly_dist_speech[\"quarter\"], df_opposition_quarterly_dist_speech[\"Num of speeches\"], alpha=0.5, label=\"Num of speeches\")\n",
    "\n",
    "df_opposition_quarterly_dist_topics = df_opposition[[\"quarter\",\"window_topic_id\"]].drop_duplicates().sort_values(by=\"window_topic_id\").groupby(\"quarter\")[[\"window_topic_id\"]].size().reset_index(name='Num of topics')\n",
    "ax2 = plt.twinx()\n",
    "line2 = ax2.plot(df_opposition_quarterly_dist_topics[\"quarter\"], df_opposition_quarterly_dist_topics[\"Num of topics\"], c='g', label=\"Num of topics\")\n",
    "\n",
    "lines, labels = ax.get_legend_handles_labels()\n",
    "lines2, labels2 = ax2.get_legend_handles_labels()\n",
    "ax2.legend(lines + lines2, labels + labels2, loc='upper center')\n",
    "ax2.set_ylabel(\"Num of topics\")\n",
    "\n",
    "ax.grid(axis='y')\n",
    "ax.set_xlabel(\"Quarter\")\n",
    "ax.set_ylabel(\"Num of speeches\")\n",
    "for label in ax.get_xticklabels():\n",
    "    label.set_rotation(90)\n",
    "ax.xaxis.set_major_locator(MultipleLocator(5))\n",
    "plt.show()"
   ]
  },
  {
   "cell_type": "code",
   "execution_count": null,
   "id": "8ebdeebc-4113-4875-813c-52610e91eb3e",
   "metadata": {},
   "outputs": [],
   "source": [
    "sp.stats.pearsonr(df_opposition_quarterly_dist_topics[\"Num of topics\"], df_opposition_quarterly_dist_speech[\"Num of speeches\"])"
   ]
  },
  {
   "cell_type": "code",
   "execution_count": null,
   "id": "0d487569-ec75-49ad-a10d-700026f1d9a8",
   "metadata": {},
   "outputs": [],
   "source": [
    "df_opposition_quarterly_dist_topic_coherence = df_opposition[[\"quarter\",\"window_topic_id\", \"window_topic_coherence\"]].drop_duplicates()\n",
    "df_opposition_quarterly_dist_topic_coherence = df_opposition_quarterly_dist_topic_coherence.groupby([\"quarter\"])[[\"window_topic_coherence\"]].mean().reset_index()\n",
    "fig = plt.figure(figsize=(18,3))\n",
    "ax = fig.add_subplot(111)\n",
    "ax.plot(df_opposition_quarterly_dist_topic_coherence[\"quarter\"], df_opposition_quarterly_dist_topic_coherence[\"window_topic_coherence\"])\n",
    "ax.set_ylim([0, 0.6])\n",
    "ax.set_xlabel(\"Quarter\")\n",
    "ax.set_ylabel(\"Coherence\")\n",
    "for label in ax.get_xticklabels():\n",
    "    label.set_rotation(90)\n",
    "ax.xaxis.set_major_locator(MultipleLocator(5))\n",
    "plt.show()"
   ]
  },
  {
   "cell_type": "code",
   "execution_count": null,
   "id": "b69ab0ff-6d8c-47a0-b1c6-9af6f0dc40a9",
   "metadata": {},
   "outputs": [],
   "source": [
    "df_opposition_quarterly_dist_topic_coherence[\"window_topic_coherence\"].describe()"
   ]
  },
  {
   "cell_type": "code",
   "execution_count": null,
   "id": "06e2b8e4-4a31-4401-8465-522d7006bc7f",
   "metadata": {},
   "outputs": [],
   "source": [
    "df_opposition_second_layer = df_opposition[[\"dynamic_topic_id\",\"dynamic_topic_terms\", \"dynamic_topic_coherence\", \"quarter\"]]\\\n",
    ".drop_duplicates([\"dynamic_topic_id\", \"quarter\"])\\\n",
    ".groupby([\"dynamic_topic_id\",\"dynamic_topic_terms\", \"dynamic_topic_coherence\"])[[\"quarter\"]]\\\n",
    ".size().reset_index(name='Freq').sort_values(by=\"dynamic_topic_coherence\", ascending=False).reset_index(drop=True)\n",
    "df_opposition_second_layer.to_csv(\"opposition_dt.csv\")\n",
    "df_opposition_second_layer"
   ]
  },
  {
   "cell_type": "code",
   "execution_count": null,
   "id": "0ddcf57f-f204-4783-8ff4-a76abb8cf576",
   "metadata": {},
   "outputs": [],
   "source": [
    "df_opposition_second_layer[\"dynamic_topic_coherence\"].mean()"
   ]
  },
  {
   "cell_type": "code",
   "execution_count": null,
   "id": "970ae464-3500-4fd3-911a-8fd67fc1e775",
   "metadata": {},
   "outputs": [],
   "source": [
    "print(\"topic:\", df_opposition[df_opposition[\"dynamic_topic_id\"] == 9][[\"dynamic_topic_id\",\"dynamic_topic_terms\"]].drop_duplicates()[\"dynamic_topic_terms\"].values[0])\n",
    "df_dyn_topic = find_dynamic_topic(df_opposition, 9)\n",
    "df_dyn_topic[\"window_topic_terms\"] = df_dyn_topic[\"window_topic_terms\"].map(lambda x: \"\\n\".join(x.split()))\n",
    "df_dyn_topic = df_dyn_topic.T\n",
    "df_dyn_topic.head()"
   ]
  },
  {
   "cell_type": "code",
   "execution_count": null,
   "id": "7d8561d9-ad44-4ff2-bcd4-cbfe683ad790",
   "metadata": {},
   "outputs": [],
   "source": [
    "df_table = df_opposition[df_opposition[\"dynamic_topic_id\"] == 9].groupby(\"quarter\").size().reset_index(name=\"Number of speeches\")\n",
    "fig = plt.figure(figsize=(18,6))\n",
    "ax = fig.add_subplot(111)\n",
    "for label in ax.get_xticklabels():\n",
    "    label.set_rotation(90)\n",
    "    label.set_fontsize(8)\n",
    "ax.bar(df_table[\"quarter\"], df_table[\"Number of speeches\"])\n",
    "plt.show()"
   ]
  },
  {
   "cell_type": "code",
   "execution_count": null,
   "id": "793171c0-a194-4915-b377-112a58ff4298",
   "metadata": {},
   "outputs": [],
   "source": [
    "df_by_speeches = df_opposition.groupby([\"dynamic_topic_id\", \"dynamic_topic_terms\"])[[\"dynamic_topic_id\"]].size().reset_index(name=\"Num of speeches\").sort_values(by=\"Num of speeches\", ascending=False).reset_index(drop=True)\n",
    "df_by_speeches.head()"
   ]
  },
  {
   "cell_type": "code",
   "execution_count": null,
   "id": "91d46bd1-17be-45f4-a683-b35d901194a1",
   "metadata": {},
   "outputs": [],
   "source": [
    "df_by_topics = df_opposition[[\"dynamic_topic_id\", \"dynamic_topic_terms\", \"window_topic_id\"]].drop_duplicates()\\\n",
    ".groupby([\"dynamic_topic_id\", \"dynamic_topic_terms\"])\\\n",
    "[[\"dynamic_topic_id\"]].size().reset_index(name=\"Num of window topics\").sort_values(by=\"Num of window topics\", ascending=False).reset_index(drop=True)\n",
    "df_by_topics.head()"
   ]
  },
  {
   "cell_type": "code",
   "execution_count": null,
   "id": "ef480f63-b476-45d2-a25a-56945f036822",
   "metadata": {},
   "outputs": [],
   "source": [
    "y = df_by_speeches[\"Num of speeches\"][::-1]\n",
    "x = df_by_speeches[\"dynamic_topic_id\"].astype(str)[::-1]\n",
    "fig = plt.figure(figsize=(8,8))\n",
    "ax1 = fig.add_subplot(121)\n",
    "ax1.barh(x, y)\n",
    "for i, v in enumerate(y):\n",
    "    ax1.text(v + 3, i, str(v), fontsize='small')\n",
    "\n",
    "y = df_by_topics[\"Num of window topics\"][::-1]\n",
    "x = df_by_topics[\"dynamic_topic_id\"].astype(str)[::-1]\n",
    "ax2 = fig.add_subplot(122)\n",
    "ax2.barh(x, y)\n",
    "for i, v in enumerate(y):\n",
    "    ax2.text(v + 3, i-0.2, str(v), fontsize='small')\n",
    "ax1.grid(axis='x', alpha=0.5)\n",
    "ax2.grid(axis='x', alpha=0.5)\n",
    "ax1.set_xlabel(\"Num of speeches\")\n",
    "ax2.set_xlabel(\"Num of window topics\")\n",
    "ax1.set_ylabel(\"Dynamic topic\")\n",
    "plt.show()"
   ]
  },
  {
   "cell_type": "markdown",
   "id": "44d4d297-e1f3-4926-85a8-7c35e7095c4f",
   "metadata": {},
   "source": [
    "# Framing Identification"
   ]
  },
  {
   "cell_type": "markdown",
   "id": "b7dcc212-2e3d-4d00-978c-3a71dbd82e22",
   "metadata": {},
   "source": [
    "* PAP: dynamic topic 3, \"Legislative\" relates to election\n",
    "* Opposition: dynamic topic 9, \"Election\""
   ]
  },
  {
   "cell_type": "code",
   "execution_count": null,
   "id": "068b6299-daff-425c-800f-252811af7cf7",
   "metadata": {},
   "outputs": [],
   "source": [
    "print(\"topic:\", df_pap[df_pap[\"dynamic_topic_id\"] == 3][[\"dynamic_topic_id\",\"dynamic_topic_terms\"]].drop_duplicates()[\"dynamic_topic_terms\"].values[0])\n",
    "df_dyn_topic = find_dynamic_topic(df_pap, 3)\n",
    "df_dyn_topic[\"window_topic_terms\"] = df_dyn_topic[\"window_topic_terms\"].map(lambda x: \"\\n\".join(x.split()))\n",
    "df_dyn_topic = df_dyn_topic.T\n",
    "df_dyn_topic.to_csv(\"pap_3.csv\")\n",
    "df_dyn_topic.head()"
   ]
  },
  {
   "cell_type": "code",
   "execution_count": null,
   "id": "a7ac5ca9-6c56-4167-b414-bc7a0418ce85",
   "metadata": {},
   "outputs": [],
   "source": [
    "df_popular_subject_pap = df_pap[[\"quarter\", \"title\", \"window_topic_id\", \"window_topic_terms\"]]\n",
    "df_popular_subject_pap = df_popular_subject_pap.drop_duplicates([\"quarter\", \"title\", \"window_topic_id\"]).groupby([\"quarter\", \"title\"])[\"window_topic_id\"].size().reset_index(name=\"num of topics\").sort_values(\"num of topics\", ascending=False)\n",
    "df_popular_subject_pap = df_popular_subject_pap[df_popular_subject_pap[\"title\"].str.contains(\"budget\") == False]\n",
    "df_popular_subject_pap = df_popular_subject_pap[df_popular_subject_pap[\"title\"].str.contains(\"head\") == False]\n",
    "df_popular_subject_pap = df_popular_subject_pap[df_popular_subject_pap[\"title\"].str.contains(\"bill\") == False]\n",
    "df_popular_subject_pap = df_popular_subject_pap[df_popular_subject_pap[\"title\"].str.contains(\"president's address\") == False]\n",
    "df_popular_subject_pap = df_popular_subject_pap[df_popular_subject_pap[\"title\"].str.contains(\"supplementary\") == False]\n",
    "df_popular_subject_pap.to_csv(\"a.csv\")"
   ]
  },
  {
   "cell_type": "code",
   "execution_count": null,
   "id": "a573ecb1-fa85-4173-9d17-37a2665c565a",
   "metadata": {},
   "outputs": [],
   "source": [
    "title = \"a sustainable population for a dynamic singapore\""
   ]
  },
  {
   "cell_type": "code",
   "execution_count": null,
   "id": "0241a590-3fe4-457a-95f2-4fbb316fa77c",
   "metadata": {},
   "outputs": [],
   "source": [
    "df_opposition[[\"title\", \"window_topic_terms\"]][df_opposition[\"title\"] == title].drop_duplicates()[\"window_topic_terms\"].values"
   ]
  },
  {
   "cell_type": "code",
   "execution_count": null,
   "id": "2269411f-020c-4781-a789-f86a757ac5d3",
   "metadata": {},
   "outputs": [],
   "source": [
    "df_pap[[\"title\", \"window_topic_terms\"]][df_pap[\"title\"] == title].drop_duplicates()[\"window_topic_terms\"].values"
   ]
  },
  {
   "cell_type": "code",
   "execution_count": null,
   "id": "699504b9-537d-41b2-926f-ce279d2c0fed",
   "metadata": {},
   "outputs": [],
   "source": []
  }
 ],
 "metadata": {
  "kernelspec": {
   "display_name": "Python 3 (ipykernel)",
   "language": "python",
   "name": "python3"
  },
  "language_info": {
   "codemirror_mode": {
    "name": "ipython",
    "version": 3
   },
   "file_extension": ".py",
   "mimetype": "text/x-python",
   "name": "python",
   "nbconvert_exporter": "python",
   "pygments_lexer": "ipython3",
   "version": "3.8.12"
  }
 },
 "nbformat": 4,
 "nbformat_minor": 5
}
